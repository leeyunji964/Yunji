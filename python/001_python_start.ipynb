{
 "cells": [
  {
   "cell_type": "markdown",
   "metadata": {},
   "source": [
    "# 편집모드와 명령행 모드 (주석)"
   ]
  },
  {
   "cell_type": "code",
   "execution_count": 18,
   "metadata": {},
   "outputs": [
    {
     "name": "stdout",
     "output_type": "stream",
     "text": [
      "10\n",
      "10\n"
     ]
    }
   ],
   "source": [
    "a = 10 # 값(10)의 <<주소값>> 저장(맵핑)\n",
    "b = a  # 10이 저장되는 게 아니고 a가 가리키는 주소가 대입됨.\n",
    "print(a)\n",
    "print(b)"
   ]
  },
  {
   "cell_type": "code",
   "execution_count": 19,
   "metadata": {},
   "outputs": [
    {
     "name": "stdout",
     "output_type": "stream",
     "text": [
      "주소값 대입 140731735057072\n",
      "140731735057072\n"
     ]
    },
    {
     "data": {
      "text/plain": [
       "(None, None)"
      ]
     },
     "execution_count": 19,
     "metadata": {},
     "output_type": "execute_result"
    }
   ],
   "source": [
    "# 주소값이 일치한다.\n",
    "\n",
    "print(\"주소값 대입\", id(a)), print(id(b))"
   ]
  },
  {
   "cell_type": "code",
   "execution_count": 21,
   "metadata": {},
   "outputs": [
    {
     "name": "stdout",
     "output_type": "stream",
     "text": [
      "20\n",
      "10\n",
      "주소값 대입 140731735057392\n",
      "140731735057072\n"
     ]
    },
    {
     "data": {
      "text/plain": [
       "(None, None)"
      ]
     },
     "execution_count": 21,
     "metadata": {},
     "output_type": "execute_result"
    }
   ],
   "source": [
    "a = 20\n",
    "print(a)\n",
    "print(b)\n",
    "print(\"주소값 대입\", id(a)), print(id(b))\n",
    "# a와 b의 주소가 다르다."
   ]
  },
  {
   "cell_type": "code",
   "execution_count": 23,
   "metadata": {},
   "outputs": [],
   "source": [
    "# 파이썬은 대소문자를 구분한다."
   ]
  },
  {
   "cell_type": "code",
   "execution_count": 22,
   "metadata": {
    "scrolled": true
   },
   "outputs": [
    {
     "data": {
      "text/plain": [
       "(int, int)"
      ]
     },
     "execution_count": 22,
     "metadata": {},
     "output_type": "execute_result"
    }
   ],
   "source": [
    "type(a), type(b)"
   ]
  },
  {
   "cell_type": "code",
   "execution_count": 25,
   "metadata": {},
   "outputs": [
    {
     "name": "stdout",
     "output_type": "stream",
     "text": [
      "10\n"
     ]
    }
   ],
   "source": [
    "a = 10\n",
    "A = 20\n",
    "print(a)"
   ]
  },
  {
   "cell_type": "code",
   "execution_count": 29,
   "metadata": {},
   "outputs": [
    {
     "name": "stdout",
     "output_type": "stream",
     "text": [
      "수식을 입력하시오10\n",
      "10\n",
      "10\n"
     ]
    }
   ],
   "source": [
    "# 데이터 입력 : input() 함수 적용 : 프롬프트 텍스트\n",
    "problem = input(\"수식을 입력하시오\") # 데이터 입출력은 문자열로 출력됨\n",
    "# 연산을 위해 데이터 타입을 숫자로 변경 => int or eval\n",
    "print(problem)\n",
    "#print(int(problem)) : 입력된 데이터를 숫자로 만들 때 데이터를 casting(데이터 형 변환, 숫자형만 가능.)\n",
    "print(eval(problem)) # 평가 : 수식 계산"
   ]
  },
  {
   "cell_type": "code",
   "execution_count": 31,
   "metadata": {},
   "outputs": [
    {
     "name": "stdout",
     "output_type": "stream",
     "text": [
      "0.00424\n",
      "127\n"
     ]
    }
   ],
   "source": [
    "a3 = 4.24e-3 # exponent 지수형\n",
    "a4 = 0o177   # octal : 8진수로 표현\n",
    "print(a3)\n",
    "print(a4)"
   ]
  },
  {
   "cell_type": "code",
   "execution_count": 43,
   "metadata": {
    "scrolled": true
   },
   "outputs": [
    {
     "name": "stdout",
     "output_type": "stream",
     "text": [
      "이름을 입력하세요. : 이윤지\n",
      "이\n",
      "윤\n",
      "지\n",
      "-1\n",
      "이름 :  이윤지\n",
      "성(s) :  이윤\n"
     ]
    }
   ],
   "source": [
    "# fullName = 문자열 : 기본이 1차원 배열\n",
    "# int, float = 4 byte\n",
    "\n",
    "fullName = input(\"이름을 입력하세요. : \")\n",
    "n = fullName.rfind(\" \") # 입력받은 값 중에서 공백 찾기\n",
    "\n",
    "print(fullName[0]) # 배열과 리스트의 인덱싱은 동일하다.\n",
    "print(fullName[1])\n",
    "print(fullName[2])\n",
    "print(n) # 공백이 있는 위치(인덱스) 출력\n",
    "print(\"이름 : \", fullName[n+1:]) # 공백 다음부터 끝까지 출력 = 이름\n",
    "print(\"성(s) : \", fullName[:n])  # 처음부터 첫 공백까지 출력 = 성(s) "
   ]
  },
  {
   "cell_type": "code",
   "execution_count": 47,
   "metadata": {},
   "outputs": [
    {
     "name": "stdout",
     "output_type": "stream",
     "text": [
      "koreakorea\n",
      "koreakoreakorea\n",
      "korea\n",
      "a\n",
      "a\n",
      "or\n",
      "ea\n",
      "ea\n",
      "e\n",
      "5\n"
     ]
    },
    {
     "data": {
      "text/plain": [
       "['ko', 'ea']"
      ]
     },
     "execution_count": 47,
     "metadata": {},
     "output_type": "execute_result"
    }
   ],
   "source": [
    "# 문자열은 ''\"single quotation\", \"korea\" : double quotation\n",
    "# \"\"\" \"\"\" : 3개인 경우는 입력하는 대로 저장함 ex) \"\"\" 가나다라 \"\"\"\n",
    "\n",
    "s = 'korea'\n",
    "print(s+s) # koreakorea\n",
    "print( s *3 ) # 횟수지정\n",
    "print(s[0:])\n",
    "print(s[4])\n",
    "print(s[-1]) # R에서 -인덱스 : 제외한다. But! 파이썬에서는 뒤에서부터 센다.\n",
    "print(s[1:3]) # 끝은 제외 : 인덱스 1,2만 출력\n",
    "print(s[-2:])\n",
    "print(s[-2:5])\n",
    "print(s[3:-1])\n",
    "print(len(s))\n",
    "s.split('r') # r을 기준으로 나눠라."
   ]
  },
  {
   "cell_type": "code",
   "execution_count": 50,
   "metadata": {},
   "outputs": [
    {
     "name": "stdout",
     "output_type": "stream",
     "text": [
      "['Seoul', ' Incheon', ' won']\n"
     ]
    }
   ],
   "source": [
    "# csv데이터 : comma로 분리된 데이터\n",
    "t = 'Seoul, Incheon, won'.split(',') # list로 바꿔줌(분할)\n",
    "\n",
    "print(t)"
   ]
  },
  {
   "cell_type": "code",
   "execution_count": 51,
   "metadata": {},
   "outputs": [
    {
     "data": {
      "text/plain": [
       "'Seoul, Incheon, won'"
      ]
     },
     "execution_count": 51,
     "metadata": {},
     "output_type": "execute_result"
    }
   ],
   "source": [
    "','.join(t)\n",
    "#컴마로 t를 합침"
   ]
  },
  {
   "cell_type": "code",
   "execution_count": 56,
   "metadata": {},
   "outputs": [
    {
     "name": "stdout",
     "output_type": "stream",
     "text": [
      "Korea\n",
      "2\n",
      "1\n",
      "True\n",
      "False\n",
      "True\n",
      "koRea\n",
      "False\n",
      "True\n"
     ]
    }
   ],
   "source": [
    "# 파이썬은 객체 지향 프로그래밍으로 설계된 언어임 : 모든 게 객체. 심지어 함수도 객체.\n",
    "# C나 java는 객체지향을 별도로 학습\n",
    "# pyhthon은 자체가 객체지향언어임\n",
    "\n",
    "s = 'korea'\n",
    "print(s.capitalize()) # 맨 앞 글자만 대문자로 변환..\n",
    "print(s.find('r'))\n",
    "print(s.count('re'))\n",
    "print(s.isalpha()) # s가 문자열인가? -> True\n",
    "print(s.isdigit()) # s가 정수인가? -> False\n",
    "print('0123'.isdigit()) # 0123이 정수인가? -> True\n",
    "print(s.replace('r','R'))\n",
    "print(s.startswith('K')) # 파이썬은 대소문자를 구분하니까 K로 시작하냐고 물으면 False가 뜸. k로 시작하냐고 물으면 True.\n",
    "print(s.endswith('a')) # 소문자 a로 끝남? -> TRUE / if A면 False"
   ]
  },
  {
   "cell_type": "code",
   "execution_count": 57,
   "metadata": {},
   "outputs": [
    {
     "name": "stdout",
     "output_type": "stream",
     "text": [
      "7 -1 12 0.75\n",
      "0.75\n",
      "3\n",
      "1\n",
      "0\n",
      "1\n",
      "0\n",
      "1.75\n",
      "1\n"
     ]
    }
   ],
   "source": [
    "# 산술연산\n",
    "a = 3\n",
    "b = 4\n",
    "\n",
    "print(a+b, a-b, a*b, a/b)\n",
    "print(a / b)\n",
    "print(a % b) # 나머지 연산자 : 경우의 수를 생성할 때 ex) 10가지 경우로 만들 때 : % 10\n",
    "             # 변수가 가질 수 있는 경우의 수를 확인\n",
    "print(1 % 2)\n",
    "print(2 % 2)\n",
    "print(3 % 2)\n",
    "print(4 % 2)\n",
    "\n",
    "print( 7 / 4 )\n",
    "print(7 // 4) # 몫 연산자"
   ]
  },
  {
   "cell_type": "code",
   "execution_count": 63,
   "metadata": {},
   "outputs": [
    {
     "name": "stdout",
     "output_type": "stream",
     "text": [
      "sum([1,2,3]) :  6\n",
      "min([1,2,3]) :  1\n",
      "abs(-11) :  11\n",
      "pow(2,10) :  1024\n",
      "round(3.141595):  3\n",
      "round(3.141595):  3.14\n"
     ]
    }
   ],
   "source": [
    "# 내장함수\n",
    "# 괄호: list : [], dict/set : {}, tuple/함수 : ()\n",
    "\n",
    "print(\"sum([1,2,3]) : \", sum([1,2,3])) # 합계\n",
    "print(\"min([1,2,3]) : \", min([1,2,3])) # 최소값\n",
    "print(\"abs(-11) : \", abs(-11)) # 절대값\n",
    "print(\"pow(2,10) : \", pow(2,10)) # power : 제곱(승)\n",
    "print(\"round(3.141595): \", round(3.141595))    # 반올림 => default 매개변수가 있어서 round(3.141595, 0)인데 0은 생략 가능.\n",
    "print(\"round(3.141595): \", round(3.141595, 2)) # 반올림 : 소수 셋째자리에서 반올림해서 소수 둘째자리까지 표시\n",
    "# 함수의 형태가 다르면 : 오버로딩(overloading)\n",
    "# 파이썬에는 오버로딩이 없음 => 대신에 \"디폴트 매개변수\"라는 게 있음."
   ]
  },
  {
   "cell_type": "code",
   "execution_count": 74,
   "metadata": {},
   "outputs": [
    {
     "data": {
      "text/plain": [
       "19"
      ]
     },
     "execution_count": 74,
     "metadata": {},
     "output_type": "execute_result"
    }
   ],
   "source": [
    "# 문제 : 숫자 4,7,8 을 리스트로 초기화하고 합계를 출력하시오.\n",
    "li= [4,7,8]\n",
    "sum(li)"
   ]
  },
  {
   "cell_type": "code",
   "execution_count": 76,
   "metadata": {},
   "outputs": [
    {
     "name": "stdout",
     "output_type": "stream",
     "text": [
      "값을 입력하세요 : 63\n",
      "값을 입력하세요 : 5\n",
      "몫 :  12.6\n",
      "나머지 :  3\n"
     ]
    }
   ],
   "source": [
    "# 문제 : 두 수를 입력받아 몫과 나머지를 출력하시오.\n",
    "a = input(\"값을 입력하세요 : \")\n",
    "b = input(\"값을 입력하세요 : \")\n",
    "\n",
    "print(\"몫 : \", int(a) / int(b))\n",
    "print(\"나머지 : \", int(a) % int(b))"
   ]
  },
  {
   "cell_type": "code",
   "execution_count": 79,
   "metadata": {},
   "outputs": [
    {
     "name": "stdout",
     "output_type": "stream",
     "text": [
      "값을 입력하세요 : 5\n",
      "값을 입력하세요 : 72\n",
      "입력된 수를 합하여 2로 나눈 결과  =  38 , 나머지 = 1\n",
      "홀수입니다.\n"
     ]
    }
   ],
   "source": [
    "num1 = input(\"값을 입력하세요 : \")\n",
    "num2 = input(\"값을 입력하세요 : \")\n",
    "hab = int(num1) + int(num2)\n",
    "quotient = hab // 2\n",
    "remainder = hab % 2\n",
    "print(\"입력된 수를 합하여 2로 나눈 결과  = \", quotient, \", 나머지 =\", remainder)\n",
    "\n",
    "# 파이썬의 블록은 들여쓰기임 : 블록 - 여러 일을 묶는 역할\n",
    "# : 조건문, 반복문, 함수\n",
    "\n",
    "if remainder == 0:\n",
    "    print(\"짝수입니다.\")\n",
    "else:\n",
    "    print(\"홀수입니다.\")\n",
    "\n",
    "\n"
   ]
  },
  {
   "cell_type": "markdown",
   "metadata": {},
   "source": [
    "# scope"
   ]
  },
  {
   "cell_type": "code",
   "execution_count": 80,
   "metadata": {},
   "outputs": [
    {
     "name": "stdout",
     "output_type": "stream",
     "text": [
      "200\n",
      "300\n"
     ]
    }
   ],
   "source": [
    "x = 300 # 전역변수\n",
    "\n",
    "def myfunc(): # 함수도 리턴타입을 지정하지 않음\n",
    "    x = 200   # 지역 변수 : 함수와 생사를 같이 함\n",
    "    print(x)\n",
    "\n",
    "myfunc()\n",
    "print(x)"
   ]
  },
  {
   "cell_type": "code",
   "execution_count": 89,
   "metadata": {},
   "outputs": [
    {
     "name": "stdout",
     "output_type": "stream",
     "text": [
      "5\n",
      "보\n"
     ]
    }
   ],
   "source": [
    "# 어떤 수가 입력되어도 나머지가 0 : 가위, 1: 바위, 2 : 보로 출력하시오.\n",
    "\n",
    "x = input()\n",
    "x = int(x)\n",
    "\n",
    "def rock() :  \n",
    "    if (x % 3) == 0 :\n",
    "        print(\"가위\")\n",
    "    elif (x % 3) == 1:\n",
    "        print(\"바위\")\n",
    "    elif (x % 3 ) == 2:\n",
    "        print(\"보\")\n",
    "\n",
    "        \n",
    "rock()"
   ]
  },
  {
   "cell_type": "code",
   "execution_count": 108,
   "metadata": {
    "scrolled": true
   },
   "outputs": [
    {
     "name": "stdout",
     "output_type": "stream",
     "text": [
      "4\n",
      "earths\n",
      "['fire', 'air']\n",
      "['air', 1, 'water', 'fire', 'earths']\n"
     ]
    }
   ],
   "source": [
    "# random : 난수를 만들어주는 패키지. 프로그램에서 난수는 의사난수임 - 랜덤처럼 보이지만 사실은 순서가 있다는,,\n",
    "\n",
    "import random\n",
    "random.seed(1000) # 시작점 고정  : random.seed를 주석처리하면 실행할 때마다 다른 값들이 나옴\n",
    "print(random.randint(1,5)) # 1,2,3,4 중에서 하나\n",
    "elements = [\"earth\",1,\"air\",\"fire\",\"water\"] # ***** 이질적인 데이터도 하나의 list로 만들 수 있음(주소값만 저장되니까) *****\n",
    "elements[0] = \"earths\"\n",
    "print(random.choice(elements))\n",
    "print(random.sample(elements, 2))\n",
    "random.shuffle(elements)\n",
    "print(elements)"
   ]
  },
  {
   "cell_type": "code",
   "execution_count": 109,
   "metadata": {},
   "outputs": [
    {
     "name": "stdout",
     "output_type": "stream",
     "text": [
      "True\n",
      "True\n"
     ]
    }
   ],
   "source": [
    "# 비교연산자( >=, <=, ==, <, >)와 논리 연산자( and, or, not )\n",
    "\n",
    "a = 20\n",
    "b = 10\n",
    "c = a > 10 and b < 50\n",
    "print(c)\n",
    "\n",
    "c = 10 < a <50\n",
    "print(c)"
   ]
  },
  {
   "cell_type": "code",
   "execution_count": 110,
   "metadata": {},
   "outputs": [
    {
     "name": "stdout",
     "output_type": "stream",
     "text": [
      "6 5\n"
     ]
    }
   ],
   "source": [
    "#swap\n",
    "\n",
    "x = 5\n",
    "y = 6\n",
    "x,y = y, x # 리턴값이 2개 이상도 가능\n",
    "print( x,y )"
   ]
  },
  {
   "cell_type": "code",
   "execution_count": 111,
   "metadata": {},
   "outputs": [
    {
     "name": "stdout",
     "output_type": "stream",
     "text": [
      "[3, ['a', 'b', 'c'], 4]\n",
      "['a', 'b']\n",
      "1\n",
      "Life\n"
     ]
    }
   ],
   "source": [
    "# list 안의 list\n",
    "# a에 저장된 것 : list 주소, list는 주소를 담아놓은 항아리다.\n",
    "\n",
    "# 2차원 리스트\n",
    "a = [1,2,3, ['a','b','c'], 4,5]\n",
    "print(a[2:5])\n",
    "print(a[3][:2])\n",
    "\n",
    "a = [1,2,['a','b', ['Life','is'] ] ] # 3차 리스트\n",
    "print(a[0])\n",
    "print(a[2][2][0])"
   ]
  },
  {
   "cell_type": "code",
   "execution_count": 114,
   "metadata": {},
   "outputs": [
    {
     "name": "stdout",
     "output_type": "stream",
     "text": [
      "60\n",
      "[10, 20, 30, 40, 50]\n",
      "60\n"
     ]
    }
   ],
   "source": [
    "# list를 이용하여 stack 생성 : LIFO - 복귀주소 저장할 때 씀(함수의 운용)\n",
    "\n",
    "a = [10,20,30,40,50]\n",
    "a.append(60)        # 데이터 추가시 append 함수 사용\n",
    "print(a.pop())      # 뒤에서 데이터를 가지고 오면서 삭제\n",
    "print(a)            # a에서 60 삭제 됨\n",
    "a.append(60)        # 다시 a에 60 추가\n",
    "print(a.pop())      # a에서 60 출력되면서 동시에 삭제됨."
   ]
  },
  {
   "cell_type": "code",
   "execution_count": 115,
   "metadata": {},
   "outputs": [
    {
     "name": "stdout",
     "output_type": "stream",
     "text": [
      "7 12\n",
      "7\n"
     ]
    },
    {
     "data": {
      "text/plain": [
       "(9, 20)"
      ]
     },
     "execution_count": 115,
     "metadata": {},
     "output_type": "execute_result"
    }
   ],
   "source": [
    "# 파이썬 함수 - 리턴값의 지정은 없음 : 매개변수만 있으면 됨.\n",
    "# def = define\n",
    "\n",
    "def calc(a,b): # 함수의 역할 : 작업, 매개변수 : 동작을 할 때 필요한 데이터\n",
    "    return a+b, a*b # 2개 이상 값 리턴\n",
    "x,y = calc(3,4)\n",
    "print(x,y)\n",
    "print(x)\n",
    "x,y\n",
    "args = (4,5)\n",
    "calc(*args) #포인터 : tuple로 묶인 값들이 풀려서 들어감 -> \"x=4, y=5\"가 됨"
   ]
  },
  {
   "cell_type": "code",
   "execution_count": 119,
   "metadata": {},
   "outputs": [
    {
     "data": {
      "text/plain": [
       "dict_items([('one', 1), ('two', 2)])"
      ]
     },
     "execution_count": 119,
     "metadata": {},
     "output_type": "execute_result"
    }
   ],
   "source": [
    "# dictionary\n",
    "\n",
    "d = {'one':1,'two':2} # 키 => 저장될 주소값으로 계산됨 - 검색에서 가장 속도가 빠름 (키를 이용하기 때문)\n",
    "d.items() # list방식으로 출력하라.\n",
    "\n",
    "# mongodb => NOSQL"
   ]
  },
  {
   "cell_type": "code",
   "execution_count": 186,
   "metadata": {
    "scrolled": true
   },
   "outputs": [
    {
     "name": "stdout",
     "output_type": "stream",
     "text": [
      "2\n",
      "True\n",
      "1\n"
     ]
    },
    {
     "data": {
      "text/plain": [
       "['suwon', 'seoul', 'incheon']"
      ]
     },
     "execution_count": 186,
     "metadata": {},
     "output_type": "execute_result"
    }
   ],
   "source": [
    "cities = ['seoul','incheon','suwon']\n",
    "print(cities.index('suwon'))\n",
    "print('incheon' in cities)            # in = 포함연산자 => 논리값 반환 : T/F\n",
    "print(cities.count('seoul'))          # cities에서 'seoul'인 값 세기\n",
    "sorted(cities)                        # 알파벳 순으로 오름정렬\n",
    "sorted(cities, reverse = True)       # 알파벳 순으로 내림정렬"
   ]
  },
  {
   "cell_type": "code",
   "execution_count": 187,
   "metadata": {},
   "outputs": [
    {
     "name": "stdout",
     "output_type": "stream",
     "text": [
      "['seoul', 'incheon', 'suwon']\n",
      "['seoul', 'incheon', 'suwon', 'busan']\n",
      "['daegu', 'seoul', 'incheon', 'suwon', 'busan']\n",
      "결합 ['daegu', 'seoul', 'incheon', 'suwon', 'busan', 'jeju', 'kwangju']\n",
      "['daegu', 'seoul', 'incheon', 'suwon', 'busan', ['daejun', 'ulsan']]\n",
      "['daegu', 'seoul', 'incheon', 'suwon', 'busan', ['daejun', 'ulsan'], 'jeju', 'kwangju']\n"
     ]
    }
   ],
   "source": [
    "# list는 데이터 삽입, 삭제가 용이\n",
    "\n",
    "print(cities)\n",
    "cities.append('busan') # 리스트 맨 뒤에 삽입\n",
    "print(cities)\n",
    "cities.insert(0, 'daegu') # 데이터 삽입 : 맨 앞에( 인덱스를 0으로 지정 )\n",
    "print(cities)\n",
    "other_cities = ['jeju','kwangju']\n",
    "print('결합', cities + other_cities) # 리스트 + 연산자\n",
    "cities.append(['daejun','ulsan'])     # 모양이 유지가 됨, 맨 뒤에 삽입됨.\n",
    "print(cities)\n",
    "cities.extend(['jeju', 'kwangju'])   # 제주와 광주가 묶여있었는데 풀려서 삽입 됨.\n",
    "print(cities)"
   ]
  },
  {
   "cell_type": "code",
   "execution_count": 188,
   "metadata": {},
   "outputs": [
    {
     "name": "stdout",
     "output_type": "stream",
     "text": [
      "['daejun', 'ulsan']\n",
      "ulsan\n",
      "['daegu', 'seoul', 'incheon', 'suwon', 'busan', ['daejun', 'jeju'], 'jeju', 'kwangju']\n",
      "['daegu', 'seoul', 'incheon', 'suwon', 'busan', ['daejun'], 'jeju', 'kwangju']\n"
     ]
    }
   ],
   "source": [
    "print(cities[5])\n",
    "print(cities[5][1])\n",
    "\n",
    "cities[5][1] = 'jeju'\n",
    "print(cities)\n",
    "\n",
    "#cities[5].remove(cities[5][1])\n",
    "del(cities[5][1])\n",
    "print(cities)"
   ]
  },
  {
   "cell_type": "code",
   "execution_count": 192,
   "metadata": {},
   "outputs": [],
   "source": [
    "# 자료구조를 데이터 타입화 ( python core에서 사용하는 자료구조 )\n",
    "\n",
    "# list : 데이터의 앞뒤에 다음이나 이전 데이터의 주소가 저장. 수정 가능 -> 함수가 많음.\n",
    "#      : 메모리를 효율적으로 사용하고 삽입,삭제를 용이하게 하기 위해서 사용하는 자료구조.\n",
    "#      : 검색을 순서대로 하기 때문에, 검색 속도는 가장 느림.\n",
    "\n",
    "# dict : 키 값이 데이터가 저장되어지는 주소 값으로 계산되는 hash 함수를 이용해 데이터 저장 => 검색 속도가 빠름\n",
    "#        데이터 주소 값으로 변환되어지는 키 : 데이터 형식으로 저장됨.      hash 함수 : 키를 데이터 00로 변경하는 함수\n",
    "\n",
    "# set : 키만 저장 ( 중복 불허 ) : 범주형 데이터의 종류를 확인할 때 사용\n",
    "\n",
    "# tuple : list와 동일하지만 변경이 불가능하다. -> 함수의 수가 적음\n",
    "#       : 함수의 매개변수로 값을 전달하거나 여러 개의 값을 return 하고 싶을 때 사용.\n",
    "#       : 속도가 빠름."
   ]
  },
  {
   "cell_type": "code",
   "execution_count": 193,
   "metadata": {},
   "outputs": [
    {
     "name": "stdout",
     "output_type": "stream",
     "text": [
      "점수 입력 :  54\n",
      "F\n"
     ]
    }
   ],
   "source": [
    "print(\"점수 입력 : \", end = ' ')\n",
    "jumsu = int(input())\n",
    "\n",
    "if jumsu >= 90 : print('A')\n",
    "elif jumsu >= 80: print('B')\n",
    "elif jumsu >= 70: print('C')\n",
    "elif jumsu >= 60: print('D')\n",
    "else : print('F')"
   ]
  },
  {
   "cell_type": "code",
   "execution_count": 199,
   "metadata": {},
   "outputs": [
    {
     "name": "stdout",
     "output_type": "stream",
     "text": [
      "BLUE\n",
      "STEADY\n",
      "화창\n"
     ]
    }
   ],
   "source": [
    "# 다음 표(color와 mode에 따른 날씨)를 if문을 이용하여 출력하시오.\n",
    "#        ( 반응에 따른 날씨 예측 프로그램 )\n",
    "#                 BLUE        RED\n",
    "#     STEADY      화창       비오는날\n",
    "#     FLASHING    구름       눈오는날\n",
    "\n",
    "# color = ['BLUE','RED']\n",
    "# mode = ['STEADY','FLASHING']\n",
    "# weather = ['화창','비오는날','구름','눈오는날']\n",
    "\n",
    "color = print(\"color를 입력하세요(BLUE OR RED) : \", input())\n",
    "mode = print(\"mode를 입력하세요(STEADY OR FALSHING): \", input())\n",
    "\n",
    "color = color.upper()\n",
    "mode = mode.upper()\n",
    "result = \"\"\n",
    "\n",
    "if color == 'BLUE' and mode == 'STEADY':\n",
    "    print(weather[0])\n",
    "elif color == 'BLUE' and mode == 'FLASHING':\n",
    "    print(weather[2])\n",
    "elif color == 'RED' and mode == 'STEADY':\n",
    "    print(weather[1])\n",
    "elif color == 'RED' and mode == 'FALSHING':\n",
    "    print(weather[3])"
   ]
  },
  {
   "cell_type": "code",
   "execution_count": 208,
   "metadata": {},
   "outputs": [
    {
     "name": "stdout",
     "output_type": "stream",
     "text": [
      "color를 입력하세요(BLUE OR RED) : red\n",
      "mode를 입력하세요(STEADY OR FALSHING): flashing\n",
      "예측된 날씨는 눈 오는 날\n"
     ]
    }
   ],
   "source": [
    "# IF문 안에 또 IF문? 이중 IF문을 쓰라고?\n",
    "\n",
    "color = input(\"color를 입력하세요(BLUE OR RED) : \")\n",
    "mode = input(\"mode를 입력하세요(STEADY OR FALSHING): \")\n",
    "\n",
    "color = color.upper()\n",
    "mode = mode.upper()\n",
    "result = \"\"\n",
    "\n",
    "if color == 'BLUE' :\n",
    "    if mode == 'STEADY':\n",
    "        result = \"화창한 날\"\n",
    "    else:\n",
    "        result = \"구름 낀 날\"\n",
    "else:\n",
    "    if mode == 'STEADY':\n",
    "        result = \"비 오는 날\"\n",
    "    else:\n",
    "        result = \"눈 오는 날\"\n",
    "print(\"예측된 날씨는\", result)   "
   ]
  },
  {
   "cell_type": "code",
   "execution_count": 219,
   "metadata": {},
   "outputs": [
    {
     "name": "stdout",
     "output_type": "stream",
     "text": [
      "수입 : 21563.254\n",
      "지출 : 32548.513\n",
      "순손실 :  10985.26\n"
     ]
    }
   ],
   "source": [
    "# 수입(revenue)과 지출(costs)을 입력받아 순수입을 출력하는 프로그램을 작성하시오.\n",
    "# - 제약조건 : 소수점 이하 2자리까지 출력(round)\n",
    "#   : 수입과 지출이 동일한 경우를 고려하시오(순익분기점)\n",
    "#   : 결과 출력시 경우에 따라 순수익, 순손실도 같이 출력하도록 하시오.\n",
    "\n",
    "revenue = eval(input(\"수입 : \"))\n",
    "costs = eval(input(\"지출 : \"))\n",
    "\n",
    "if revenue == costs :\n",
    "    print(\"수입과 지출이 같습니다. 손익분기점입니다.\")\n",
    "else:\n",
    "    if revenue > costs:\n",
    "        netincome = revenue - costs\n",
    "        netincome = round(netincome, 2)\n",
    "        print(\"순이익 : \", netincome)\n",
    "        # result = \"순수익 = {0:,.2f}.\".format(round(netincome,2)) #포맷문자열\n",
    "        #{0:, .2f} : 0에 처음에 들어오는 값 입력 \n",
    "        # .2f : 소수점 둘째자리까지 출력\n",
    "    else:\n",
    "        netloss = costs - revenue\n",
    "        netloss = round(netloss, 2)\n",
    "        print(\"순손실 : \", netloss)\n",
    "        # result = \"순손실 = {0:,.2f}.\".format(round(netloss,2)) #포맷문자열\n",
    "        \n",
    "# print(result)\n",
    "# result로 값을 받아서 조건문 끝나고 걍 마지막에 한 번에 출력하는 게 나을 듯."
   ]
  },
  {
   "cell_type": "code",
   "execution_count": null,
   "metadata": {},
   "outputs": [],
   "source": [
    "# 평균, 분산, 표준편차, 표준오차 : 데이터 개수의 root 값으로 나누어서 .. ?\n",
    "# 분산 : 관측치 - 평균\n",
    "\n",
    "# for문 :"
   ]
  },
  {
   "cell_type": "code",
   "execution_count": null,
   "metadata": {},
   "outputs": [],
   "source": []
  },
  {
   "cell_type": "code",
   "execution_count": null,
   "metadata": {},
   "outputs": [],
   "source": []
  },
  {
   "cell_type": "code",
   "execution_count": null,
   "metadata": {},
   "outputs": [],
   "source": []
  },
  {
   "cell_type": "code",
   "execution_count": null,
   "metadata": {},
   "outputs": [],
   "source": []
  },
  {
   "cell_type": "code",
   "execution_count": null,
   "metadata": {},
   "outputs": [],
   "source": []
  },
  {
   "cell_type": "code",
   "execution_count": null,
   "metadata": {},
   "outputs": [],
   "source": []
  },
  {
   "cell_type": "code",
   "execution_count": null,
   "metadata": {},
   "outputs": [],
   "source": []
  },
  {
   "cell_type": "code",
   "execution_count": null,
   "metadata": {},
   "outputs": [],
   "source": []
  },
  {
   "cell_type": "code",
   "execution_count": null,
   "metadata": {},
   "outputs": [],
   "source": []
  }
 ],
 "metadata": {
  "kernelspec": {
   "display_name": "Python 3",
   "language": "python",
   "name": "python3"
  },
  "language_info": {
   "codemirror_mode": {
    "name": "ipython",
    "version": 3
   },
   "file_extension": ".py",
   "mimetype": "text/x-python",
   "name": "python",
   "nbconvert_exporter": "python",
   "pygments_lexer": "ipython3",
   "version": "3.7.4"
  }
 },
 "nbformat": 4,
 "nbformat_minor": 2
}
