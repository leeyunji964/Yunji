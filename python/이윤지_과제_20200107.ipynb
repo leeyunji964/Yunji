{
 "cells": [
  {
   "cell_type": "code",
   "execution_count": 7,
   "metadata": {},
   "outputs": [
    {
     "data": {
      "text/html": [
       "<div style=\"width:100%;\"><div style=\"position:relative;width:100%;height:0;padding-bottom:60%;\"><iframe src=\"data:text/html;charset=utf-8;base64,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\" style=\"position:absolute;width:100%;height:100%;left:0;top:0;border:none !important;\" allowfullscreen webkitallowfullscreen mozallowfullscreen></iframe></div></div>"
      ],
      "text/plain": [
       "<folium.folium.Map at 0x2c772ad88c8>"
      ]
     },
     "execution_count": 7,
     "metadata": {},
     "output_type": "execute_result"
    }
   ],
   "source": [
    "import folium\n",
    "\n",
    "#위경도 좌표\n",
    "map_1 = folium.Map(location=[37.565711, 126.978090], zoom_start=13) #확대축소\n",
    "#tiles='Stamen Terrain')\n",
    "folium.Marker([37.459329, 126.953105], popup='서울대학교', icon=folium.Icon(icon='cloud')). add_to(map_1)\n",
    "folium.Marker([37.561860, 126.946828], popup='이화여자대학교', icon=folium.Icon(icon='cloud')).add_to(map_1)\n",
    "folium.Marker([37.583927, 127.059013], popup='서울시립대학교', ).add_to(map_1)\n",
    "folium.Marker([37.556407, 126.987478], popup='숭의여자대학교', icon=folium.Icon(icon='cloud')).add_to(map_1)\n",
    "folium.Marker([37.480173, 126.996354], popup='백석예술대학교').add_to(map_1)\n",
    "folium.Marker([37.564984, 126.962323], popup='경기대학교 서울캠퍼스').add_to(map_1)\n",
    "folium.Marker([37.551586, 126.924985], popup='홍익대학교', icon=folium.Icon(icon='cloud')).add_to(map_1)\n",
    "folium.Marker([37.565763, 126.938428], popup='연세대학교').add_to(map_1)\n",
    "folium.Marker([37.589218, 127.032691], popup='고려대학교').add_to(map_1)\n",
    "folium.Marker([37.542738, 127.076335], popup='건국대학교', icon=folium.Icon(icon='cloud')).add_to(map_1)\n",
    "\n",
    "map_1"
   ]
  },
  {
   "cell_type": "code",
   "execution_count": 8,
   "metadata": {},
   "outputs": [],
   "source": [
    "# 문제 다음 데이터를 데이터프레임에 저장하세요.\n",
    "\n",
    "#         지역  2018     2017 2016 2015 2017-2018 증가율\n",
    "# 서울 수도권  9904312 9631482 9762546 9853972    0.0283\n",
    "# 부산 경상권  3448737 3393191 3512547 3655437    0.0163\n",
    "# 인천 수도권  2890451 2632035 2517680 2466338    0.0982\n",
    "# 대구 경상권  2466052 2431774 2456016 2473990    0.0141 "
   ]
  },
  {
   "cell_type": "code",
   "execution_count": 11,
   "metadata": {},
   "outputs": [
    {
     "data": {
      "text/html": [
       "<div>\n",
       "<style scoped>\n",
       "    .dataframe tbody tr th:only-of-type {\n",
       "        vertical-align: middle;\n",
       "    }\n",
       "\n",
       "    .dataframe tbody tr th {\n",
       "        vertical-align: top;\n",
       "    }\n",
       "\n",
       "    .dataframe thead th {\n",
       "        text-align: right;\n",
       "    }\n",
       "</style>\n",
       "<table border=\"1\" class=\"dataframe\">\n",
       "  <thead>\n",
       "    <tr style=\"text-align: right;\">\n",
       "      <th></th>\n",
       "      <th>지역</th>\n",
       "      <th>2015</th>\n",
       "      <th>2016</th>\n",
       "      <th>2017</th>\n",
       "      <th>2018</th>\n",
       "      <th>2017-2018 증가율</th>\n",
       "    </tr>\n",
       "  </thead>\n",
       "  <tbody>\n",
       "    <tr>\n",
       "      <td>서울</td>\n",
       "      <td>서울</td>\n",
       "      <td>9853972</td>\n",
       "      <td>9762546</td>\n",
       "      <td>9631482</td>\n",
       "      <td>9904312</td>\n",
       "      <td>0.0283</td>\n",
       "    </tr>\n",
       "    <tr>\n",
       "      <td>부산</td>\n",
       "      <td>부산</td>\n",
       "      <td>3655437</td>\n",
       "      <td>3512547</td>\n",
       "      <td>3393191</td>\n",
       "      <td>3448737</td>\n",
       "      <td>0.0163</td>\n",
       "    </tr>\n",
       "    <tr>\n",
       "      <td>인천</td>\n",
       "      <td>인천</td>\n",
       "      <td>2466338</td>\n",
       "      <td>2517680</td>\n",
       "      <td>2632035</td>\n",
       "      <td>2890451</td>\n",
       "      <td>0.0982</td>\n",
       "    </tr>\n",
       "    <tr>\n",
       "      <td>대구</td>\n",
       "      <td>대구</td>\n",
       "      <td>2473990</td>\n",
       "      <td>2456016</td>\n",
       "      <td>2431774</td>\n",
       "      <td>2466052</td>\n",
       "      <td>0.0141</td>\n",
       "    </tr>\n",
       "  </tbody>\n",
       "</table>\n",
       "</div>"
      ],
      "text/plain": [
       "    지역     2015     2016     2017     2018  2017-2018 증가율\n",
       "서울  서울  9853972  9762546  9631482  9904312         0.0283\n",
       "부산  부산  3655437  3512547  3393191  3448737         0.0163\n",
       "인천  인천  2466338  2517680  2632035  2890451         0.0982\n",
       "대구  대구  2473990  2456016  2431774  2466052         0.0141"
      ]
     },
     "execution_count": 11,
     "metadata": {},
     "output_type": "execute_result"
    }
   ],
   "source": [
    "# columns = [\"지역\",\"2015\",\"2016\",\"2017\",\"2018\",\"2015-2018 증가율\"]\n",
    "# index = [\"서울\",\"부산\",\"인천\",\"대구\"]\n",
    "\n",
    "import pandas as pd\n",
    "\n",
    "data = {'지역':['서울','부산','인천','대구'],\n",
    "        '2015':[9853972,3655437,2466338,2473990],\n",
    "        '2016':[9762546,3512547,2517680,2456016],\n",
    "        '2017':[9631482,3393191,2632035,2431774],\n",
    "        '2018':[9904312,3448737,2890451,2466052],\n",
    "        '2017-2018 증가율':[0.0283,0.0163,0.0982,0.0141]\n",
    "       }\n",
    "rate = pd.DataFrame(data, columns=['지역','2015','2016','2017','2018','2017-2018 증가율'],\n",
    "                   index = ['서울','부산','인천','대구'])\n",
    "\n",
    "rate"
   ]
  },
  {
   "cell_type": "code",
   "execution_count": 12,
   "metadata": {},
   "outputs": [
    {
     "data": {
      "text/html": [
       "<div>\n",
       "<style scoped>\n",
       "    .dataframe tbody tr th:only-of-type {\n",
       "        vertical-align: middle;\n",
       "    }\n",
       "\n",
       "    .dataframe tbody tr th {\n",
       "        vertical-align: top;\n",
       "    }\n",
       "\n",
       "    .dataframe thead th {\n",
       "        text-align: right;\n",
       "    }\n",
       "</style>\n",
       "<table border=\"1\" class=\"dataframe\">\n",
       "  <thead>\n",
       "    <tr style=\"text-align: right;\">\n",
       "      <th></th>\n",
       "      <th>지역</th>\n",
       "      <th>2015</th>\n",
       "      <th>2016</th>\n",
       "      <th>2017</th>\n",
       "      <th>2018</th>\n",
       "      <th>2017-2018 증가율</th>\n",
       "    </tr>\n",
       "  </thead>\n",
       "  <tbody>\n",
       "    <tr>\n",
       "      <td>서울</td>\n",
       "      <td>서울</td>\n",
       "      <td>9853972</td>\n",
       "      <td>9762546</td>\n",
       "      <td>9631482</td>\n",
       "      <td>9904312</td>\n",
       "      <td>2.83</td>\n",
       "    </tr>\n",
       "    <tr>\n",
       "      <td>부산</td>\n",
       "      <td>부산</td>\n",
       "      <td>3655437</td>\n",
       "      <td>3512547</td>\n",
       "      <td>3393191</td>\n",
       "      <td>3448737</td>\n",
       "      <td>1.63</td>\n",
       "    </tr>\n",
       "    <tr>\n",
       "      <td>인천</td>\n",
       "      <td>인천</td>\n",
       "      <td>2466338</td>\n",
       "      <td>2517680</td>\n",
       "      <td>2632035</td>\n",
       "      <td>2890451</td>\n",
       "      <td>9.82</td>\n",
       "    </tr>\n",
       "    <tr>\n",
       "      <td>대구</td>\n",
       "      <td>대구</td>\n",
       "      <td>2473990</td>\n",
       "      <td>2456016</td>\n",
       "      <td>2431774</td>\n",
       "      <td>2466052</td>\n",
       "      <td>1.41</td>\n",
       "    </tr>\n",
       "  </tbody>\n",
       "</table>\n",
       "</div>"
      ],
      "text/plain": [
       "    지역     2015     2016     2017     2018  2017-2018 증가율\n",
       "서울  서울  9853972  9762546  9631482  9904312           2.83\n",
       "부산  부산  3655437  3512547  3393191  3448737           1.63\n",
       "인천  인천  2466338  2517680  2632035  2890451           9.82\n",
       "대구  대구  2473990  2456016  2431774  2466052           1.41"
      ]
     },
     "execution_count": 12,
     "metadata": {},
     "output_type": "execute_result"
    }
   ],
   "source": [
    "# 문제 : \"2017-2018 증가율\"을 %로 변경하시오.\n",
    "rate['2017-2018 증가율'] = rate['2017-2018 증가율'] * 100 \n",
    "rate"
   ]
  },
  {
   "cell_type": "code",
   "execution_count": 13,
   "metadata": {},
   "outputs": [],
   "source": [
    "# 문제 : 2015 ~ 2017의 증가율을 구해서 변수를 추가하시오. ( 열이름 : \"2015-2017 증가율\")"
   ]
  },
  {
   "cell_type": "code",
   "execution_count": 14,
   "metadata": {},
   "outputs": [
    {
     "data": {
      "text/html": [
       "<div>\n",
       "<style scoped>\n",
       "    .dataframe tbody tr th:only-of-type {\n",
       "        vertical-align: middle;\n",
       "    }\n",
       "\n",
       "    .dataframe tbody tr th {\n",
       "        vertical-align: top;\n",
       "    }\n",
       "\n",
       "    .dataframe thead th {\n",
       "        text-align: right;\n",
       "    }\n",
       "</style>\n",
       "<table border=\"1\" class=\"dataframe\">\n",
       "  <thead>\n",
       "    <tr style=\"text-align: right;\">\n",
       "      <th></th>\n",
       "      <th>지역</th>\n",
       "      <th>2015</th>\n",
       "      <th>2016</th>\n",
       "      <th>2017</th>\n",
       "      <th>2018</th>\n",
       "      <th>2017-2018 증가율</th>\n",
       "      <th>2015-2017 증가율</th>\n",
       "    </tr>\n",
       "  </thead>\n",
       "  <tbody>\n",
       "    <tr>\n",
       "      <td>서울</td>\n",
       "      <td>서울</td>\n",
       "      <td>9853972</td>\n",
       "      <td>9762546</td>\n",
       "      <td>9631482</td>\n",
       "      <td>9904312</td>\n",
       "      <td>2.83</td>\n",
       "      <td>-2.257871</td>\n",
       "    </tr>\n",
       "    <tr>\n",
       "      <td>부산</td>\n",
       "      <td>부산</td>\n",
       "      <td>3655437</td>\n",
       "      <td>3512547</td>\n",
       "      <td>3393191</td>\n",
       "      <td>3448737</td>\n",
       "      <td>1.63</td>\n",
       "      <td>-7.174135</td>\n",
       "    </tr>\n",
       "    <tr>\n",
       "      <td>인천</td>\n",
       "      <td>인천</td>\n",
       "      <td>2466338</td>\n",
       "      <td>2517680</td>\n",
       "      <td>2632035</td>\n",
       "      <td>2890451</td>\n",
       "      <td>9.82</td>\n",
       "      <td>6.718341</td>\n",
       "    </tr>\n",
       "    <tr>\n",
       "      <td>대구</td>\n",
       "      <td>대구</td>\n",
       "      <td>2473990</td>\n",
       "      <td>2456016</td>\n",
       "      <td>2431774</td>\n",
       "      <td>2466052</td>\n",
       "      <td>1.41</td>\n",
       "      <td>-1.706393</td>\n",
       "    </tr>\n",
       "  </tbody>\n",
       "</table>\n",
       "</div>"
      ],
      "text/plain": [
       "    지역     2015     2016     2017     2018  2017-2018 증가율  2015-2017 증가율\n",
       "서울  서울  9853972  9762546  9631482  9904312           2.83      -2.257871\n",
       "부산  부산  3655437  3512547  3393191  3448737           1.63      -7.174135\n",
       "인천  인천  2466338  2517680  2632035  2890451           9.82       6.718341\n",
       "대구  대구  2473990  2456016  2431774  2466052           1.41      -1.706393"
      ]
     },
     "execution_count": 14,
     "metadata": {},
     "output_type": "execute_result"
    }
   ],
   "source": [
    "rate['2015-2017 증가율'] = (rate['2017'] - rate['2015']) / rate['2015'] * 100\n",
    "rate"
   ]
  },
  {
   "cell_type": "code",
   "execution_count": null,
   "metadata": {},
   "outputs": [],
   "source": []
  }
 ],
 "metadata": {
  "kernelspec": {
   "display_name": "Python 3",
   "language": "python",
   "name": "python3"
  },
  "language_info": {
   "codemirror_mode": {
    "name": "ipython",
    "version": 3
   },
   "file_extension": ".py",
   "mimetype": "text/x-python",
   "name": "python",
   "nbconvert_exporter": "python",
   "pygments_lexer": "ipython3",
   "version": "3.7.4"
  }
 },
 "nbformat": 4,
 "nbformat_minor": 2
}
