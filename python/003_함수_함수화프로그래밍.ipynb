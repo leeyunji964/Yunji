{
 "cells": [
  {
   "cell_type": "markdown",
   "metadata": {},
   "source": [
    "# 함수(function)\n",
    "\n",
    "- 함수 이름은 중복되면 안됨 ( 오버로딩은 default 매개변수로 해결 )\n",
    "- Required arguments ( 매개변수를 순서적으로 입력 )\n",
    "- keyword arguments( 키 매개변수의 순서 변경이 가능 )\n",
    "- Default arguments( 오버로딩 해결 )\n",
    "- Variable-length arguments( 변동매개변수 : * -> list, ** -> dict )"
   ]
  },
  {
   "cell_type": "code",
   "execution_count": 3,
   "metadata": {},
   "outputs": [
    {
     "name": "stdout",
     "output_type": "stream",
     "text": [
      "30\n",
      "30\n",
      "30\n",
      "70\n"
     ]
    }
   ],
   "source": [
    "a = 10\n",
    "b = 20\n",
    "result = a+b\n",
    "print(result)\n",
    "\n",
    "c = 10\n",
    "d = 20\n",
    "result = c+d\n",
    "print(result)\n",
    "\n",
    "# 이렇게 하는 것보다는 함수를 만드는 게..!\n",
    "\n",
    "# addvalue는 사용자가 정의한 함수 이름\n",
    "def addvalue(ab,bd): # ab=10, bd=20 주소값만 전달 : call by reference\n",
    "    return a+b\n",
    "\n",
    "print(addvalue(10,20)) # 호출시 데이터는 heap에 저장 => 주소값만 전달\n",
    "print(addvalue(30,40))"
   ]
  },
  {
   "cell_type": "code",
   "execution_count": null,
   "metadata": {},
   "outputs": [],
   "source": [
    "# 회귀분석\n",
    "- y = ax + b # a = 기울기 계수, b : bias ( =절편 )"
   ]
  },
  {
   "cell_type": "code",
   "execution_count": 9,
   "metadata": {
    "scrolled": true
   },
   "outputs": [
    {
     "name": "stdout",
     "output_type": "stream",
     "text": [
      "1030\n",
      "1030\n"
     ]
    }
   ],
   "source": [
    "def reg(a,b,x):\n",
    "    return a*x + b\n",
    "print(reg(10,30,100))\n",
    "\n",
    "\n",
    "def reg(x): # x만 변수니까 a,b는 고정값으로 지정하고 x만 매개변수로 지정하기.\n",
    "    a = 10\n",
    "    b = 30\n",
    "    return a*x + b\n",
    "print(reg(100))\n",
    "# reg(10,30,100) : 함수 이름이 같으면 안 됨!"
   ]
  },
  {
   "cell_type": "code",
   "execution_count": 10,
   "metadata": {},
   "outputs": [
    {
     "name": "stdout",
     "output_type": "stream",
     "text": [
      "10보다 크다.\n"
     ]
    }
   ],
   "source": [
    "# 두 수를 더한 값이 10보다 큰지 확인하시오.\n",
    "a = 10\n",
    "b = 20\n",
    "result = a+b\n",
    "\n",
    "if result >= 10:\n",
    "    result = \"10보다 크다.\"\n",
    "else:\n",
    "    result = \"10보다 작다.\"\n",
    "print(result)"
   ]
  },
  {
   "cell_type": "code",
   "execution_count": 12,
   "metadata": {},
   "outputs": [
    {
     "data": {
      "text/plain": [
       "'10보다 크다.'"
      ]
     },
     "execution_count": 12,
     "metadata": {},
     "output_type": "execute_result"
    }
   ],
   "source": [
    "# a,b가 어떤 값이 들어오는 지 모르는 경우\n",
    "def sum_1(a,b):\n",
    "    result = a+b\n",
    "    \n",
    "    if result >= 10:\n",
    "        result = \"10보다 크다.\"\n",
    "    else:\n",
    "        result = \"10보다 작다.\"\n",
    "    return result\n",
    "\n",
    "sum_1(10,20)"
   ]
  },
  {
   "cell_type": "code",
   "execution_count": 22,
   "metadata": {},
   "outputs": [
    {
     "name": "stdout",
     "output_type": "stream",
     "text": [
      "20 10\n"
     ]
    }
   ],
   "source": [
    "a = 10\n",
    "b = 20\n",
    "\n",
    "def swap(x,y):\n",
    "    return y,x\n",
    "\n",
    "a,b = swap(a,b)\n",
    "x = swap(a,b) # 함수가 리턴하는 값은 tuple\n",
    "\n",
    "#print(type(x))\n",
    "#print(type(a))\n",
    "#print(x)\n",
    "\n",
    "print(a,b)"
   ]
  },
  {
   "cell_type": "code",
   "execution_count": 31,
   "metadata": {},
   "outputs": [
    {
     "name": "stdout",
     "output_type": "stream",
     "text": [
      "결과 :  5\n",
      "결과 :  -1\n",
      "결과 :  6\n"
     ]
    }
   ],
   "source": [
    "# 두 수를 입력받아 +,-,* 하는 함수 3개를 작성하시오.\n",
    "# 함수 이름은 add, substract, multiply\n",
    "\n",
    "def add(a,b):\n",
    "    result = a+b\n",
    "    return result\n",
    "\n",
    "def substract(a,b):\n",
    "    result = a - b\n",
    "    return result\n",
    "\n",
    "def multiply(a,b):\n",
    "    result = a*b\n",
    "    return result\n",
    "\n",
    "# 함수는 일급함수 : 함수가 매개변수로 전달 가능, 리턴값으로 가능(javascript)\n",
    "\n",
    "def changefun(g,a,b):\n",
    "    return g(a,b)\n",
    "\n",
    "print(\"결과 : \", changefun(add,2,3)) # sort( key 함수 전달 )\n",
    "print(\"결과 : \", changefun(substract,2,3))\n",
    "print(\"결과 : \", changefun(multiply,2,3))"
   ]
  },
  {
   "cell_type": "code",
   "execution_count": 34,
   "metadata": {},
   "outputs": [
    {
     "name": "stdout",
     "output_type": "stream",
     "text": [
      "함수 내부에서 출력 :  [10, 20, 30, [1, 2, 3, 4]]\n",
      "함수 외부에서 출력 :  [10, 20, 30, [1, 2, 3, 4]]\n"
     ]
    }
   ],
   "source": [
    "# ;(세미콜론) : 문장 종료 (없어도 됨), 칸 부족때문에 옆으로 붙여서 쓸 땐 필요함.\n",
    "\n",
    "def changeme( mylist ): # mylist = mylist의 주소 ( stack에 만들어짐 )\n",
    "    mylist.append([1,2,3,4]) # 대입이 벌어지면 call by value\n",
    "    print(\"함수 내부에서 출력 : \", mylist)\n",
    "    return\n",
    "\n",
    "mylist = [10,20,30] # heap에 저장 \n",
    "changeme( mylist ) # 주소값만 넘어감.\n",
    "print(\"함수 외부에서 출력 : \", mylist) # 함수 실행 시와 똑같이 결과값이 나오는 이유 : 주소값이 넘어갔기 때문 : call by reference"
   ]
  },
  {
   "cell_type": "code",
   "execution_count": 35,
   "metadata": {},
   "outputs": [
    {
     "ename": "AttributeError",
     "evalue": "'set' object has no attribute 'append'",
     "output_type": "error",
     "traceback": [
      "\u001b[1;31m---------------------------------------------------------------------------\u001b[0m",
      "\u001b[1;31mAttributeError\u001b[0m                            Traceback (most recent call last)",
      "\u001b[1;32m<ipython-input-35-22343ff03b5e>\u001b[0m in \u001b[0;36m<module>\u001b[1;34m\u001b[0m\n\u001b[0;32m      1\u001b[0m \u001b[0mmylist\u001b[0m \u001b[1;33m=\u001b[0m \u001b[1;33m{\u001b[0m\u001b[1;36m10\u001b[0m\u001b[1;33m,\u001b[0m\u001b[1;36m20\u001b[0m\u001b[1;33m,\u001b[0m\u001b[1;36m30\u001b[0m\u001b[1;33m}\u001b[0m\u001b[1;33m\u001b[0m\u001b[1;33m\u001b[0m\u001b[0m\n\u001b[1;32m----> 2\u001b[1;33m \u001b[0mchangeme\u001b[0m\u001b[1;33m(\u001b[0m \u001b[0mmylist\u001b[0m \u001b[1;33m)\u001b[0m\u001b[1;33m\u001b[0m\u001b[1;33m\u001b[0m\u001b[0m\n\u001b[0m\u001b[0;32m      3\u001b[0m \u001b[0mprint\u001b[0m\u001b[1;33m(\u001b[0m\u001b[1;34m\"함수 외부에서 출력 : \"\u001b[0m\u001b[1;33m,\u001b[0m \u001b[0mmylist\u001b[0m\u001b[1;33m)\u001b[0m\u001b[1;33m\u001b[0m\u001b[1;33m\u001b[0m\u001b[0m\n",
      "\u001b[1;32m<ipython-input-34-56558ff4ace1>\u001b[0m in \u001b[0;36mchangeme\u001b[1;34m(mylist)\u001b[0m\n\u001b[0;32m      1\u001b[0m \u001b[1;32mdef\u001b[0m \u001b[0mchangeme\u001b[0m\u001b[1;33m(\u001b[0m \u001b[0mmylist\u001b[0m \u001b[1;33m)\u001b[0m\u001b[1;33m:\u001b[0m\u001b[1;33m\u001b[0m\u001b[1;33m\u001b[0m\u001b[0m\n\u001b[1;32m----> 2\u001b[1;33m     \u001b[0mmylist\u001b[0m\u001b[1;33m.\u001b[0m\u001b[0mappend\u001b[0m\u001b[1;33m(\u001b[0m\u001b[1;33m[\u001b[0m\u001b[1;36m1\u001b[0m\u001b[1;33m,\u001b[0m\u001b[1;36m2\u001b[0m\u001b[1;33m,\u001b[0m\u001b[1;36m3\u001b[0m\u001b[1;33m,\u001b[0m\u001b[1;36m4\u001b[0m\u001b[1;33m]\u001b[0m\u001b[1;33m)\u001b[0m\u001b[1;33m\u001b[0m\u001b[1;33m\u001b[0m\u001b[0m\n\u001b[0m\u001b[0;32m      3\u001b[0m     \u001b[0mprint\u001b[0m\u001b[1;33m(\u001b[0m\u001b[1;34m\"함수 내부에서 출력 : \"\u001b[0m\u001b[1;33m,\u001b[0m \u001b[0mmylist\u001b[0m\u001b[1;33m)\u001b[0m\u001b[1;33m\u001b[0m\u001b[1;33m\u001b[0m\u001b[0m\n\u001b[0;32m      4\u001b[0m     \u001b[1;32mreturn\u001b[0m\u001b[1;33m\u001b[0m\u001b[1;33m\u001b[0m\u001b[0m\n\u001b[0;32m      5\u001b[0m \u001b[0mmylist\u001b[0m \u001b[1;33m=\u001b[0m \u001b[1;33m[\u001b[0m\u001b[1;36m10\u001b[0m\u001b[1;33m,\u001b[0m\u001b[1;36m20\u001b[0m\u001b[1;33m,\u001b[0m\u001b[1;36m30\u001b[0m\u001b[1;33m]\u001b[0m\u001b[1;33m\u001b[0m\u001b[1;33m\u001b[0m\u001b[0m\n",
      "\u001b[1;31mAttributeError\u001b[0m: 'set' object has no attribute 'append'"
     ]
    }
   ],
   "source": [
    "# 실행이 안되는 이유 : 데이터 타입이 달라서 -> 데이터 타입을 구분해야 하는 것은 프로그래머의 책임\n",
    "\n",
    "mylist = {10,20,30}\n",
    "changeme( mylist )\n",
    "print(\"함수 외부에서 출력 : \", mylist)"
   ]
  },
  {
   "cell_type": "code",
   "execution_count": 36,
   "metadata": {},
   "outputs": [
    {
     "name": "stdout",
     "output_type": "stream",
     "text": [
      "시작\n",
      "1,2,3,\n",
      "1,2,3,4,5,\n"
     ]
    }
   ],
   "source": [
    "# 변동 매개변수\n",
    "def func1(*args): # list가 온다는 소리\n",
    "    for i in args:\n",
    "        print(i, end=\",\")\n",
    "    print()\n",
    "print('시작')\n",
    "func1(1,2,3)\n",
    "func1(1,2,3,4,5)"
   ]
  },
  {
   "cell_type": "code",
   "execution_count": 37,
   "metadata": {},
   "outputs": [
    {
     "name": "stdout",
     "output_type": "stream",
     "text": [
      "args is (1, 2)\n",
      "kwargs is {'z': 5}\n",
      "Hello Now I'm going to call <function g at 0x0000021059ACDF78>\n",
      "1\n",
      "2\n",
      "5\n"
     ]
    },
    {
     "data": {
      "text/plain": [
       "0.6"
      ]
     },
     "execution_count": 37,
     "metadata": {},
     "output_type": "execute_result"
    }
   ],
   "source": [
    "def say_hello_then_call(f, *args, **kwargs): # args : list, kwargs : dict\n",
    "    print('args is', args)\n",
    "    print('kwargs is', kwargs)\n",
    "    print(\"Hello Now I'm going to call %s\" % f) # 함수(g)가 위치한 주소값\n",
    "    return f(*args, **kwargs)\n",
    "\n",
    "def g(x,y,z=1): # x,y = required 매개변수, z = default 매개변수\n",
    "    print(x)\n",
    "    print(y)\n",
    "    print(z)\n",
    "    return (x+y)/z\n",
    "\n",
    "say_hello_then_call(g,1,2, z=5 ) # 1,2가 *args로 들어감.\n",
    "# say_hello_then_call(g,1,2, z=5 )에서 f = g, *args = 1,2 , **kwargs = \"z=5\""
   ]
  },
  {
   "cell_type": "code",
   "execution_count": 40,
   "metadata": {},
   "outputs": [
    {
     "name": "stdout",
     "output_type": "stream",
     "text": [
      "1 0\n",
      "1 2\n",
      "1 2\n"
     ]
    }
   ],
   "source": [
    "def func_test2(a,b=0):\n",
    "    print(a,b)\n",
    "func_test2(1) # a=1, b=0\n",
    "func_test2(1,2) # a=1, b=2\n",
    "func_test2(b=2, a=1) # a=1, b=2 : 키 매개변수"
   ]
  },
  {
   "cell_type": "code",
   "execution_count": 41,
   "metadata": {},
   "outputs": [],
   "source": [
    "def func_test4():\n",
    "    pass # 몸통을 미지정 : 프로그램적으로 오류는 없음 -> return 값 = None : 객체"
   ]
  },
  {
   "cell_type": "code",
   "execution_count": 44,
   "metadata": {},
   "outputs": [
    {
     "data": {
      "text/plain": [
       "True"
      ]
     },
     "execution_count": 44,
     "metadata": {},
     "output_type": "execute_result"
    }
   ],
   "source": [
    "# == (같다) : 숫자나 문자에서 사용\n",
    "# 객체를 비교할 때는 'is' 함수를 씀.\n",
    "\n",
    "result = func_test4()\n",
    "result is None  # none도 객체"
   ]
  },
  {
   "cell_type": "code",
   "execution_count": 46,
   "metadata": {},
   "outputs": [
    {
     "data": {
      "text/plain": [
       "NoneType"
      ]
     },
     "execution_count": 46,
     "metadata": {},
     "output_type": "execute_result"
    }
   ],
   "source": [
    "result.__class__ # . 이후에 함수 쓸 수 있으면 멤버변수 (객체), 시스템에서 생성한 변수 => result(결과값 none) = 객체"
   ]
  },
  {
   "cell_type": "code",
   "execution_count": 47,
   "metadata": {},
   "outputs": [
    {
     "data": {
      "text/plain": [
       "function"
      ]
     },
     "execution_count": 47,
     "metadata": {},
     "output_type": "execute_result"
    }
   ],
   "source": [
    "func_test4.__class__ # 함수도 객체"
   ]
  },
  {
   "cell_type": "code",
   "execution_count": 50,
   "metadata": {},
   "outputs": [
    {
     "name": "stdout",
     "output_type": "stream",
     "text": [
      "15 5 50\n",
      "<class 'function'>\n"
     ]
    }
   ],
   "source": [
    "def func_test3(a,b):\n",
    "    return a+b, a-b, a*b\n",
    "\n",
    "a,b,c = func_test3(10,5)\n",
    "print(a,b,c)\n",
    "print(type(func_test3)) # 함수도 객체다."
   ]
  },
  {
   "cell_type": "code",
   "execution_count": 52,
   "metadata": {},
   "outputs": [
    {
     "name": "stdout",
     "output_type": "stream",
     "text": [
      "15\n"
     ]
    }
   ],
   "source": [
    "# 커링\n",
    "def all_number(x,y): # 매개변수가 2개인 함수\n",
    "    return x+y\n",
    "\n",
    "add_five = lambda y: all_number(5,y)\n",
    "# 무명함수 - 한 번 쓰고 버리기 때문 : y가 매개변수. - all_number의 첫번째 변수만 고정.\n",
    "# 무명함수(lambda)를 유명함수(add_five)로 만듦\n",
    "\n",
    "print(add_five(10))"
   ]
  },
  {
   "cell_type": "code",
   "execution_count": 70,
   "metadata": {},
   "outputs": [
    {
     "name": "stdout",
     "output_type": "stream",
     "text": [
      "1.41\n"
     ]
    }
   ],
   "source": [
    "# 문제 : 두 점 사이의 거리값을 구하는 함수를 작성하시오.\n",
    "# root ↓\n",
    "import math\n",
    "#math.sqrt()\n",
    "\n",
    "def distance(x1,y1,x2,y2):\n",
    "    \"\"\" 두 점 사이의 거리를 구하는 함수 \"\"\"\n",
    "    dis = math.sqrt((x2-x1)**2 + (y2-y1)**2)\n",
    "    return round(dis,2)\n",
    "\n",
    "print(distance(1,1,2,2))\n",
    "?distance"
   ]
  },
  {
   "cell_type": "code",
   "execution_count": 71,
   "metadata": {},
   "outputs": [
    {
     "data": {
      "text/plain": [
       "120"
      ]
     },
     "execution_count": 71,
     "metadata": {},
     "output_type": "execute_result"
    }
   ],
   "source": [
    "# 수학에서 factorial 5! = 5*4*3*2*1\n",
    "def factorial(n):\n",
    "    sum = 1 # 항등원 : 덧셈의 항등원은 0, 곱셈의 항등원은 1, 행렬의 항등원은 단위행렬(대각선이 1인 행렬)\n",
    "    for i in range(n,1,-1):\n",
    "        sum*=i\n",
    "    return sum\n",
    "\n",
    "factorial(5)"
   ]
  },
  {
   "cell_type": "code",
   "execution_count": 72,
   "metadata": {},
   "outputs": [
    {
     "data": {
      "text/plain": [
       "120"
      ]
     },
     "execution_count": 72,
     "metadata": {},
     "output_type": "execute_result"
    }
   ],
   "source": [
    "#재귀함수 : 자기 자신을 호출하는 함수\n",
    "#재귀함수를 계속 호출하면 stack이 꽉 차서 stack overflow가 발생.(무한루프와 동일) : 끝나는 조건이 반드시 있어야 함!\n",
    "def factorial(n, stop=1):\n",
    "    if n <= stop or n<= 0: # 종료 조건(n<=stop), 입력 제한(n<= 0)\n",
    "        return 1\n",
    "    return n*factorial(n-1, stop)\n",
    "\n",
    "factorial(5)"
   ]
  },
  {
   "cell_type": "code",
   "execution_count": 78,
   "metadata": {},
   "outputs": [
    {
     "name": "stdout",
     "output_type": "stream",
     "text": [
      "8\n",
      "8\n"
     ]
    }
   ],
   "source": [
    "# power 함수를 구현하시오 ex) (2^10) = pow(2,10) =>  재귀호출 방식으로 변환(power2())\n",
    "def power(r,n):\n",
    "    value = 1\n",
    "    for i in range(1, n+1):\n",
    "        value = r*value\n",
    "    return value\n",
    "print(power(2,3))\n",
    "\n",
    "\n",
    "\n",
    "def power2(r, n):\n",
    "    if n == 1:\n",
    "        return r\n",
    "    else:\n",
    "        return r * power(r, n-1)\n",
    "\n",
    "print(power2(2,3))"
   ]
  },
  {
   "cell_type": "code",
   "execution_count": 80,
   "metadata": {
    "scrolled": true
   },
   "outputs": [
    {
     "name": "stdout",
     "output_type": "stream",
     "text": [
      "inner\n",
      "global inner\n"
     ]
    }
   ],
   "source": [
    "# 내부함수\n",
    "def outer():\n",
    "    def inner():\n",
    "        print('inner')\n",
    "    inner()\n",
    "\n",
    "def inner():\n",
    "    print('global inner')\n",
    "\n",
    "outer()\n",
    "inner()"
   ]
  },
  {
   "cell_type": "code",
   "execution_count": 84,
   "metadata": {},
   "outputs": [
    {
     "name": "stdout",
     "output_type": "stream",
     "text": [
      "0.67855090920261\n",
      "0.34556917827914857\n",
      "0.5643599709488741\n",
      "0.20253209180693033\n",
      "0.95305759961384\n"
     ]
    }
   ],
   "source": [
    "# generator\n",
    "# for in : Collections( list, tuple, dict, set ), iterator( ranges ), generator, eneumerate\n",
    "\n",
    "import random\n",
    "\n",
    "def gaus_dist(n):\n",
    "    while n > 0: # 무한루프\n",
    "        yield random.random() # 비동기 호출함수 0~1\n",
    "        # yield : 멈춰있다가 요청이 있을 때 (메모리 없이) 생성\n",
    "        n -= 1\n",
    "        \n",
    "gd = gaus_dist(5)\n",
    "\n",
    "for i in gd:\n",
    "    print(i)"
   ]
  },
  {
   "cell_type": "code",
   "execution_count": 89,
   "metadata": {},
   "outputs": [
    {
     "name": "stdout",
     "output_type": "stream",
     "text": [
      "python's recipe no.1\n",
      "perl's recipe no.2\n"
     ]
    },
    {
     "data": {
      "text/plain": [
       "(2269281356104, 2269281357112)"
      ]
     },
     "execution_count": 89,
     "metadata": {},
     "output_type": "execute_result"
    }
   ],
   "source": [
    "# 함수가 값을 저장할 수 있는가? : 자역번수라 저장이 불가\n",
    "# clouser (자바스크립트에서 class가 없을 때 사용하던 방식) : 값을 저장하는 방법\n",
    "\n",
    "def cookbook(name):\n",
    "    def recipe(no):\n",
    "        print(\"%s's recipe no.%d\" %(name,no))\n",
    "    return recipe\n",
    "\n",
    "python_recipe = cookbook('python')\n",
    "perl_recipe = cookbook('perl')\n",
    "python_recipe(1) # no = 1\n",
    "perl_recipe(2) # no = 2\n",
    "id(python_recipe), id(perl_recipe)"
   ]
  },
  {
   "cell_type": "code",
   "execution_count": 94,
   "metadata": {},
   "outputs": [
    {
     "name": "stdout",
     "output_type": "stream",
     "text": [
      "         1.7560\n",
      "         2.2220\n",
      "              1\n"
     ]
    }
   ],
   "source": [
    " # clouser 클로저의 응용(장식자:decorator)\n",
    "def format_and_pad(template, space):\n",
    "    def formatter(x):\n",
    "        return (template % x).rjust(space) # rjust() : 오른쪽 정렬 -> space = 15니까 오른쪽으로 15칸 떨어진 곳에 값 출력\n",
    "    return formatter\n",
    "\n",
    "fmt = format_and_pad('%.4f', 15) # str, digit(int), float\n",
    "#format_and_pad의 return 값을 fmt에 입력\n",
    "\n",
    "print(fmt(1.756)) # x = 1.756이니까 template = %.4f(소수점 이하 네자리), space = 15\n",
    "print(fmt(2.222)) # x = 2.222이니까 template = %.4f(소수점 이하 네자리), space = 15\n",
    "\n",
    "fmt2 = format_and_pad('%d', 15)\n",
    "print(fmt2(1.756))"
   ]
  },
  {
   "cell_type": "code",
   "execution_count": 6,
   "metadata": {},
   "outputs": [
    {
     "name": "stdout",
     "output_type": "stream",
     "text": [
      "반지름을 입력하세요 : 5\n",
      "원의 넓이는 78.5\n"
     ]
    }
   ],
   "source": [
    "# 데이터를 입력받아 삼각형(밑변 * 높이 / 2)/사각형(밑변*높이)/원의 넓이(반지름)를 계산하시오.\n",
    "# math.pi\n",
    "def triangle():\n",
    "    w = int(input(\"너비를 입력하세요 : \"))\n",
    "    h = int(input(\"높이를 입력하세요 : \"))\n",
    "    wh = w * h / 2\n",
    "    return print(\"삼각형의 넓이는\", wh)\n",
    "\n",
    "def rectangle():\n",
    "    w = int(input(\"너비를 입력하세요 : \"))\n",
    "    h = int(input(\"높이를 입력하세요 : \"))\n",
    "    wh = w*h\n",
    "    return print(\"사각형의 넓이는\", wh)\n",
    "\n",
    "def circle():\n",
    "    r = int(input(\"반지름을 입력하세요 : \"))\n",
    "    cc = 3.14*(r**2)\n",
    "    return print(\"원의 넓이는\", cc)\n",
    "\n",
    "#triangle()\n",
    "#rectangle()\n",
    "circle()"
   ]
  },
  {
   "cell_type": "code",
   "execution_count": 9,
   "metadata": {},
   "outputs": [
    {
     "name": "stdout",
     "output_type": "stream",
     "text": [
      "너비나 반지름을 입력하세요 : 5\n",
      "높이를 입력하세요 : 2\n",
      "삼각형의 넓이는  5.0\n",
      "사각형의 넓이는  10\n",
      "원의 넓이는  78.53981633974483\n"
     ]
    }
   ],
   "source": [
    "import math\n",
    "\n",
    "def triangle(mylist):\n",
    "    return mylist[0] * mylist[1] / 2\n",
    "\n",
    "def rectangle(mylist):\n",
    "    return mylist[0] * mylist[1]\n",
    "\n",
    "def circle(mylist):\n",
    "    return math.pi * (mylist[0]**2)\n",
    "\n",
    "mylist = []\n",
    "width = eval(input(\"너비나 반지름을 입력하세요 : \"))\n",
    "height = eval(input(\"높이를 입력하세요 : \"))\n",
    "\n",
    "mylist.append(width)\n",
    "mylist.append(height)\n",
    "print(\"삼각형의 넓이는 \", triangle(mylist))\n",
    "print(\"사각형의 넓이는 \", rectangle(mylist))\n",
    "print(\"원의 넓이는 \", circle(mylist))"
   ]
  },
  {
   "cell_type": "code",
   "execution_count": 25,
   "metadata": {},
   "outputs": [
    {
     "name": "stdout",
     "output_type": "stream",
     "text": [
      "근무 시간을 입력하세요 : 48\n",
      "시간당 급여를 입력하세요 :8450\n",
      "급여는 총 507000.0 원 입니다.\n"
     ]
    }
   ],
   "source": [
    "# 시간과 시간당 급여를 입력받아 주급을 계산하는 프로그램을 작성하시오.\n",
    "# 조건 : 40시간이 넘으면 1.5배하여 지급합니다.\n",
    "# 매개변수 : 시간, 시간당 급여\n",
    "\n",
    "def pay(mylist):\n",
    "    if mylist[0] >= 40:\n",
    "        return (mylist[0] * mylist[1]) + ((1.5) * mylist[1] * (mylist[0]-40) )\n",
    "    else:\n",
    "        return mylist[0] * mylist[1]\n",
    "    \n",
    "mylist = []\n",
    "hour = eval(input(\"근무 시간을 입력하세요 : \"))\n",
    "money_hour = eval(input(\"시간당 급여를 입력하세요 :\"))\n",
    "\n",
    "mylist.append(hour)\n",
    "mylist.append(money_hour)\n",
    "\n",
    "print(\"급여는 총\", pay(mylist), \"원 입니다.\")"
   ]
  },
  {
   "cell_type": "code",
   "execution_count": 23,
   "metadata": {},
   "outputs": [
    {
     "name": "stdout",
     "output_type": "stream",
     "text": [
      "근무 시간을 입력하세요 : 48\n",
      "시간당 급여를 입력하세요 :8450\n",
      "주간 수입은 : 607,440.00 원\n"
     ]
    }
   ],
   "source": [
    "# 선생님 코딩\n",
    "\n",
    "basictime = 40\n",
    "def pay(wage, hours):\n",
    "    if hours <= basictime:\n",
    "        amount = wage * hours\n",
    "    else:\n",
    "        amount = (wage * basictime) + ((1.5) * wage * (hours - basictime))\n",
    "    return amount\n",
    "\n",
    "hourlyWage = eval(input(\"근무 시간을 입력하세요 : \"))\n",
    "hoursWorked = eval(input(\"시간당 급여를 입력하세요 :\"))\n",
    "earnings = pay(hourlyWage, hoursWorked)\n",
    "print(\"주간 수입은 : {0:,.2f} 원\".format(earnings))"
   ]
  },
  {
   "cell_type": "code",
   "execution_count": 51,
   "metadata": {
    "scrolled": false
   },
   "outputs": [
    {
     "name": "stdout",
     "output_type": "stream",
     "text": [
      "원금 : 5\n",
      "거치년수: 2\n",
      "예금 총액 : $5.41     이자 총액 : $0.41\n",
      "원금 : 500\n",
      "거치년수: 3\n",
      "예금 총액 : $562.43     이자 총액 : $62.43\n"
     ]
    }
   ],
   "source": [
    "# 이자율이 주어졌을 때 거치기간 후의 총액과 이자수익을 출력하시오.\n",
    "# 복리계산 = (원가 * (1 + 이율 0.04 ) ** 거치년수\n",
    "# 매개변수 : 원금, 거치기간\n",
    "# 단서 조건 : 입력 함수, 계산 함수, 출력함수로 분리해서 작성하시오.\n",
    "\n",
    "INTEREST_RATE = 0.04\n",
    "\n",
    "def put(): # 입력\n",
    "    money = eval(input(\"원금 : \"))\n",
    "    year = eval(input(\"거치년수: \"))\n",
    "    return (money, year)\n",
    "\n",
    "def calculation(money, year): # 처리\n",
    "    balance = money * ( (1+INTEREST_RATE)**year ) # 원금 포함 이자 계산액\n",
    "    interestEarned = balance - money              # 순수이자액\n",
    "    return (balance, round(interestEarned,2))\n",
    "    \n",
    "def output(bal, intEarned): # 출력\n",
    "    print(\"예금 총액 : ${0:,.2f}     이자 총액 : ${1:,.2f}\".format(bal, intEarned))\n",
    "\n",
    "def main():\n",
    "    money, year = put()\n",
    "    bal, intEarned = calculation(money, year)\n",
    "    output(bal, intEarned)\n",
    "    output( * ( calculation( *( put() ) ) ) )\n",
    "    \n",
    "main()"
   ]
  },
  {
   "cell_type": "markdown",
   "metadata": {},
   "source": [
    "# 함수화 프로그래밍 for + 함수를 적용\n",
    "- lambda 함수를 이용한 처리가 많음"
   ]
  },
  {
   "cell_type": "code",
   "execution_count": 52,
   "metadata": {},
   "outputs": [
    {
     "data": {
      "text/plain": [
       "100"
      ]
     },
     "execution_count": 52,
     "metadata": {},
     "output_type": "execute_result"
    }
   ],
   "source": [
    "# lambda 함수 즉시 사용할 때\n",
    "(lambda x: x*x)(10) # x = x*x인데 x값이 10일 때"
   ]
  },
  {
   "cell_type": "code",
   "execution_count": 53,
   "metadata": {},
   "outputs": [
    {
     "name": "stdout",
     "output_type": "stream",
     "text": [
      "11\n"
     ]
    },
    {
     "data": {
      "text/plain": [
       "15"
      ]
     },
     "execution_count": 53,
     "metadata": {},
     "output_type": "execute_result"
    }
   ],
   "source": [
    "incr = lambda x, incr=1: x+incr #무명함수 -> 유명함수\n",
    "print(incr(10))\n",
    "incr(10,5)"
   ]
  },
  {
   "cell_type": "code",
   "execution_count": 54,
   "metadata": {},
   "outputs": [
    {
     "name": "stdout",
     "output_type": "stream",
     "text": [
      "['aaaa', 'foo', 'abab', 'bar', 'card']\n"
     ]
    }
   ],
   "source": [
    "# 개수에 따른 정렬\n",
    "strings =['foo','card','bar','aaaa','abab']\n",
    "strings.sort(key = lambda x: len(set(list(x)))) # 중복되지 않는 데이터 \"개수\"에 따라\n",
    "# key = default 매개변수. 그래서 안 써도 됐었는데, 내가 원하는 기준으로 정렬하기 위해서 정렬기준을 key에 함수로 전달.\n",
    "print(strings)"
   ]
  },
  {
   "cell_type": "code",
   "execution_count": 56,
   "metadata": {},
   "outputs": [
    {
     "name": "stdout",
     "output_type": "stream",
     "text": [
      "<map object at 0x0000024113E31E48>\n",
      "[9, 16]\n"
     ]
    }
   ],
   "source": [
    "# map 함수는 무조건 맨 처음에 함수가 오게 되어 있음.\n",
    "# map은 default가 없음\n",
    "\n",
    "m = map(lambda x: x*x, [3,4])\n",
    "print(m)       # map은 바로 출력할 수가 없음(고유한 포맷으로 출력). 그래서 print(list(m))해주는 것\n",
    "print(list(m)) # list(m) = [3,4] -> 람다 함수 x:x*x -> 3*3(=9)과 4*4(=16) : list로 캐스팅해야 출력됨"
   ]
  },
  {
   "cell_type": "code",
   "execution_count": 57,
   "metadata": {},
   "outputs": [
    {
     "data": {
      "text/plain": [
       "[0, 1, 4, 9, 16]"
      ]
     },
     "execution_count": 57,
     "metadata": {},
     "output_type": "execute_result"
    }
   ],
   "source": [
    "list(map(lambda x:x*x, range(5)))"
   ]
  },
  {
   "cell_type": "code",
   "execution_count": 58,
   "metadata": {},
   "outputs": [
    {
     "data": {
      "text/plain": [
       "[0, 1, 4, 9, 16]"
      ]
     },
     "execution_count": 58,
     "metadata": {},
     "output_type": "execute_result"
    }
   ],
   "source": [
    "# 간단하게 쓰려고 만든 함수 : 람다\n",
    "sqr = lambda x: x*x\n",
    "list(map(sqr, range(5)))"
   ]
  },
  {
   "cell_type": "code",
   "execution_count": 59,
   "metadata": {},
   "outputs": [
    {
     "data": {
      "text/plain": [
       "[0, 1, 4, 9, 16]"
      ]
     },
     "execution_count": 59,
     "metadata": {},
     "output_type": "execute_result"
    }
   ],
   "source": [
    "# 함수\n",
    "def sqr2(x):\n",
    "    return x*x\n",
    "list(map(sqr2, range(5)))"
   ]
  },
  {
   "cell_type": "code",
   "execution_count": 60,
   "metadata": {},
   "outputs": [
    {
     "name": "stdout",
     "output_type": "stream",
     "text": [
      "[1210000, 1135000, 910000, 1360000, 2260000, 3010000]\n"
     ]
    }
   ],
   "source": [
    "# 문제) 다음 출근 시간 데이터에 대하여 기본금 10000원, 시간당 7500원의 급여를 계산하고\n",
    "# lambda 함수와 map함수를 이용하여 구하시오.\n",
    "\n",
    "total_time = [160,150,120,180,300,400]\n",
    "\n",
    "wage = lambda x: 10000+7500*x\n",
    "tot = list(map(wage, total_time))\n",
    "print(tot)\n",
    "\n",
    "# 같은 내용인데 소스를 줄인 것\n",
    "# pay = list(map(lambda x: 10000+7500*x, total_time)); print(pay)"
   ]
  },
  {
   "cell_type": "code",
   "execution_count": 67,
   "metadata": {},
   "outputs": [
    {
     "data": {
      "text/plain": [
       "[1, 3, 5, 7, 9]"
      ]
     },
     "execution_count": 67,
     "metadata": {},
     "output_type": "execute_result"
    }
   ],
   "source": [
    "def odd(p):\n",
    "    return [ i for i in p if i%2] #홀수\n",
    "odd(range(10))"
   ]
  },
  {
   "cell_type": "code",
   "execution_count": 64,
   "metadata": {},
   "outputs": [
    {
     "data": {
      "text/plain": [
       "[1, 3, 5, 7, 9]"
      ]
     },
     "execution_count": 64,
     "metadata": {},
     "output_type": "execute_result"
    }
   ],
   "source": [
    "# 필터의 함수는 True/False를 리턴하는 함수여야 함\n",
    "\n",
    "def odd(k):\n",
    "    return k%2\n",
    "list(filter(odd, range(10)))"
   ]
  },
  {
   "cell_type": "code",
   "execution_count": 71,
   "metadata": {},
   "outputs": [
    {
     "name": "stdout",
     "output_type": "stream",
     "text": [
      "[3, 6, 9, 12, 15, 18, 21, 24, 27, 30, 33, 36, 39, 42, 45, 48, 51, 54, 57, 60, 63, 66, 69, 72, 75, 78, 81, 84, 87, 90, 93, 96, 99],"
     ]
    }
   ],
   "source": [
    "# 문제) 1부터 99 사이의 데이터 중 3으로 나누어 떨어지는 데이터를 filter를 이용해 구하시오.\n",
    "\n",
    "def three(t):\n",
    "    return t%3==0\n",
    "\n",
    "print(list(filter(three, range(1,100))), end=',')"
   ]
  },
  {
   "cell_type": "code",
   "execution_count": 77,
   "metadata": {},
   "outputs": [
    {
     "data": {
      "text/plain": [
       "55"
      ]
     },
     "execution_count": 77,
     "metadata": {},
     "output_type": "execute_result"
    }
   ],
   "source": [
    "# reduce ( 분산 처리시, 값을 계산할 때 사용 )\n",
    "# reduce는 functools에 있음\n",
    "\n",
    "from functools import reduce\n",
    "reduce(lambda x, y: x+y, range(11))\n",
    "\n",
    "# 이전에 계산된 값이 x로 들어감.\n",
    "# x=0, y=1 -> x+y = 1 -> x에 들어감 => x=1, y=2. x+y=3 -> x=3,y=4 ..."
   ]
  },
  {
   "cell_type": "code",
   "execution_count": 78,
   "metadata": {},
   "outputs": [
    {
     "data": {
      "text/plain": [
       "'edcba'"
      ]
     },
     "execution_count": 78,
     "metadata": {},
     "output_type": "execute_result"
    }
   ],
   "source": [
    "reduce(lambda x, y: y+x, 'abcde')"
   ]
  },
  {
   "cell_type": "code",
   "execution_count": 80,
   "metadata": {},
   "outputs": [
    {
     "data": {
      "text/plain": [
       "(100, 5.0)"
      ]
     },
     "execution_count": 80,
     "metadata": {},
     "output_type": "execute_result"
    }
   ],
   "source": [
    "func_choice = [lambda x, y: x**y, lambda x, y: x/y]\n",
    "\n",
    "func_choice[0](10,2), func_choice[1](10,2)\n",
    "# func_choice[0]= x**y, func_choice[1] = x/y"
   ]
  },
  {
   "cell_type": "code",
   "execution_count": 82,
   "metadata": {},
   "outputs": [
    {
     "name": "stdout",
     "output_type": "stream",
     "text": [
      "[5, 6, 7, 8]\n"
     ]
    }
   ],
   "source": [
    "# 문제 1) 다음 데이터에서 4보다 큰 수만 출력하도록 filtering 해 보시오.\n",
    "data = [1,2,3,4,5,6,7,8,3,4,2,1]\n",
    "\n",
    "fil = list(filter(lambda x: x>4, data))\n",
    "print(fil)"
   ]
  },
  {
   "cell_type": "code",
   "execution_count": 86,
   "metadata": {
    "scrolled": true
   },
   "outputs": [
    {
     "name": "stdout",
     "output_type": "stream",
     "text": [
      "숫자를 입력하세요 : 2\n",
      "나는 귀중한 사람이다.\n"
     ]
    }
   ],
   "source": [
    "# 문제 2) 숫자를 입력 받아서 홀수인 경우는 \"나는 행복합니다.\"라고 출력하고,\n",
    "# 짝수인 경우에는 \"나는 귀중한 사람이다\"라고 출력하는 함수를 구현해 보시오.\n",
    "\n",
    "choose = [lambda : print('나는 귀중한 사람이다.'), lambda : print('나는 행복합니다.')]\n",
    "\n",
    "no = int(input(\"숫자를 입력하세요 : \"))\n",
    "no %= 2 # no = no % 2\n",
    "choose[no]()"
   ]
  },
  {
   "cell_type": "code",
   "execution_count": 100,
   "metadata": {},
   "outputs": [
    {
     "name": "stdout",
     "output_type": "stream",
     "text": [
      "이름 : 이윤지\n",
      "국어 점수 : 94\n",
      "영어 점수 : 95\n",
      "수학 점수 : 81\n",
      " 이름  국어  영어  수학  총합  평균\n",
      "['이윤지', 94, 95, 81, 270, 90.0]\n",
      "이름 : 박주은\n",
      "국어 점수 : 64\n",
      "영어 점수 : 81\n",
      "수학 점수 : 75\n",
      " 이름  국어  영어  수학  총합  평균\n",
      "['이윤지', 94, 95, 81, 270, 90.0, '박주은', 64, 81, 75, 220, 73.33]\n",
      "이름 : 이소정\n",
      "국어 점수 : 59\n",
      "영어 점수 : 39\n",
      "수학 점수 : 68\n",
      " 이름  국어  영어  수학  총합  평균\n",
      "['이윤지', 94, 95, 81, 270, 90.0, '박주은', 64, 81, 75, 220, 73.33, '이소정', 59, 39, 68, 166, 55.33]\n"
     ]
    }
   ],
   "source": [
    "# 성적 프로그램을 입력, 처리, 출력 함수를 이용해서 구현하시오.\n",
    "# 이름, 국어, 영어, 수학 : 입력     /     총점, 평균 : 처리\n",
    "\n",
    "sungjuk = [] # 전역적으로 선언하고 구현\n",
    "\n",
    "def score_input():\n",
    "    name = input(\"이름 : \")\n",
    "    kor = int(input(\"국어 점수 : \"))\n",
    "    eng = int(input(\"영어 점수 : \"))\n",
    "    math = int(input(\"수학 점수 : \"))\n",
    "    \n",
    "    sungjuk.append(name)\n",
    "    sungjuk.append(kor)\n",
    "    sungjuk.append(eng)\n",
    "    sungjuk.append(math)\n",
    "    \n",
    "    return (name, kor, eng, math)\n",
    "\n",
    "def score_process(kor, eng, math):\n",
    "    hap = kor + eng + math\n",
    "    avg = round(hap / 3, 2)\n",
    "    \n",
    "    sungjuk.append(hap)\n",
    "    sungjuk.append(avg)\n",
    "    \n",
    "    return (hap, avg)\n",
    "\n",
    "def score_output():\n",
    "    #print(\" 이름  국어  영어  수학  총합  평균\")\n",
    "    print(sungjuk)\n",
    "\n",
    "def main():\n",
    "    for i in range(3):\n",
    "        name, kor, eng, math = score_input()\n",
    "        hap, avg = score_process(kor,eng,math)\n",
    "        score_output()\n",
    "\n",
    "main()"
   ]
  },
  {
   "cell_type": "code",
   "execution_count": null,
   "metadata": {},
   "outputs": [],
   "source": []
  },
  {
   "cell_type": "code",
   "execution_count": null,
   "metadata": {},
   "outputs": [],
   "source": []
  },
  {
   "cell_type": "code",
   "execution_count": null,
   "metadata": {},
   "outputs": [],
   "source": []
  },
  {
   "cell_type": "code",
   "execution_count": null,
   "metadata": {},
   "outputs": [],
   "source": []
  }
 ],
 "metadata": {
  "kernelspec": {
   "display_name": "Python 3",
   "language": "python",
   "name": "python3"
  },
  "language_info": {
   "codemirror_mode": {
    "name": "ipython",
    "version": 3
   },
   "file_extension": ".py",
   "mimetype": "text/x-python",
   "name": "python",
   "nbconvert_exporter": "python",
   "pygments_lexer": "ipython3",
   "version": "3.7.4"
  }
 },
 "nbformat": 4,
 "nbformat_minor": 2
}
