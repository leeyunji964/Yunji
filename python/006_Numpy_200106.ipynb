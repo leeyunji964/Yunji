{
 "cells": [
  {
   "cell_type": "code",
   "execution_count": 1,
   "metadata": {},
   "outputs": [],
   "source": [
    "# Flask\n",
    "import flask # 웹서버 기능 5000번 포트로 서비스"
   ]
  },
  {
   "cell_type": "code",
   "execution_count": 4,
   "metadata": {},
   "outputs": [
    {
     "name": "stdout",
     "output_type": "stream",
     "text": [
      "1.16.5\n",
      "type:<class 'numpy.ndarray'>\n",
      "shape:(3,), dimension:1, dtype:int32\n",
      "Array's Data:\n",
      " [1 2 3]\n"
     ]
    }
   ],
   "source": [
    "import matplotlib # 시각화 패키지\n",
    "import numpy as np # 별칭 class\n",
    "\n",
    "print(np.__version__) # 상위 오브젝트가 가진 속성 ( __00__ )\n",
    "\n",
    "def pprint(arr): # ndarray : numpy의 기본 데이터 배열\n",
    "    print(\"type:{}\".format(type(arr)))\n",
    "    print(\"shape:{}, dimension:{}, dtype:{}\".format(arr.shape, arr.ndim, arr.dtype))\n",
    "    print(\"Array's Data:\\n\",arr)\n",
    "    # 숫자의 디폴트는 int32\n",
    "    \n",
    "arr = [1.0,2.0,3.0] # 리스트\n",
    "a = np.array([1,2,3]) # ndarray 생성함수 (매개변수 : 리스트) => 리스트를 numpy의 ndarray로 만든다. (*초기화할 땐 np를 붙여줘야 함)\n",
    "pprint(a)"
   ]
  },
  {
   "cell_type": "code",
   "execution_count": 6,
   "metadata": {
    "scrolled": true
   },
   "outputs": [
    {
     "name": "stdout",
     "output_type": "stream",
     "text": [
      "1707239645632\n",
      "10\n",
      "[0. 1. 2. 3. 4. 5. 6. 7. 8. 9.]\n",
      "40\n"
     ]
    },
    {
     "data": {
      "text/plain": [
       "array([  0,   1,   2,   3,   4,   5,   6,   7,   8,   9,  10,  11,  12,\n",
       "        13,  14,  15,  16,  17,  18,  19,  20,  21,  22,  23,  24,  25,\n",
       "        26,  27,  28,  29,  30,  31,  32,  33,  34,  35,  36,  37,  38,\n",
       "        39,  40,  41,  42,  43,  44,  45,  46,  47,  48,  49,  50,  51,\n",
       "        52,  53,  54,  55,  56,  57,  58,  59,  60,  61,  62,  63,  64,\n",
       "        65,  66,  67,  68,  69,  70,  71,  72,  73,  74,  75,  76,  77,\n",
       "        78,  79,  80,  81,  82,  83,  84,  85,  86,  87,  88,  89,  90,\n",
       "        91,  92,  93,  94,  95,  96,  97,  98,  99, 100, 101, 102, 103,\n",
       "       104, 105, 106, 107, 108, 109, 110, 111, 112, 113, 114, 115, 116,\n",
       "       117, 118, 119, 120, 121, 122, 123, 124, 125, 126, 127, 128, 129,\n",
       "       130, 131, 132, 133, 134, 135, 136, 137, 138, 139, 140, 141, 142,\n",
       "       143, 144, 145, 146, 147, 148, 149, 150, 151, 152, 153, 154, 155,\n",
       "       156, 157, 158, 159, 160, 161, 162, 163, 164, 165, 166, 167, 168,\n",
       "       169, 170, 171, 172, 173, 174, 175, 176, 177, 178, 179, 180, 181,\n",
       "       182, 183, 184, 185, 186, 187, 188, 189, 190, 191, 192, 193, 194,\n",
       "       195, 196, 197, 198, 199, 200, 201, 202, 203, 204, 205, 206, 207,\n",
       "       208, 209, 210, 211, 212, 213, 214, 215, 216, 217, 218, 219, 220,\n",
       "       221, 222, 223, 224, 225, 226, 227, 228, 229, 230, 231, 232, 233,\n",
       "       234, 235, 236, 237, 238, 239, 240, 241, 242, 243, 244, 245, 246,\n",
       "       247, 248, 249, 250, 251, 252, 253, 254, 255, 256, 257, 258, 259,\n",
       "       260, 261, 262, 263, 264, 265, 266, 267, 268, 269, 270, 271, 272,\n",
       "       273, 274, 275, 276, 277, 278, 279, 280, 281, 282, 283, 284, 285,\n",
       "       286, 287, 288, 289, 290, 291, 292, 293, 294, 295, 296, 297, 298,\n",
       "       299, 300, 301, 302, 303, 304, 305, 306, 307, 308, 309, 310, 311,\n",
       "       312, 313, 314, 315, 316, 317, 318, 319, 320, 321, 322, 323, 324,\n",
       "       325, 326, 327, 328, 329, 330, 331, 332, 333, 334, 335, 336, 337,\n",
       "       338, 339, 340, 341, 342, 343, 344, 345, 346, 347, 348, 349, 350,\n",
       "       351, 352, 353, 354, 355, 356, 357, 358, 359, 360, 361, 362, 363,\n",
       "       364, 365, 366, 367, 368, 369, 370, 371, 372, 373, 374, 375, 376,\n",
       "       377, 378, 379, 380, 381, 382, 383, 384, 385, 386, 387, 388, 389,\n",
       "       390, 391, 392, 393, 394, 395, 396, 397, 398, 399, 400, 401, 402,\n",
       "       403, 404, 405, 406, 407, 408, 409, 410, 411, 412, 413, 414, 415,\n",
       "       416, 417, 418, 419, 420, 421, 422, 423, 424, 425, 426, 427, 428,\n",
       "       429, 430, 431, 432, 433, 434, 435, 436, 437, 438, 439, 440, 441,\n",
       "       442, 443, 444, 445, 446, 447, 448, 449, 450, 451, 452, 453, 454,\n",
       "       455, 456, 457, 458, 459, 460, 461, 462, 463, 464, 465, 466, 467,\n",
       "       468, 469, 470, 471, 472, 473, 474, 475, 476, 477, 478, 479, 480,\n",
       "       481, 482, 483, 484, 485, 486, 487, 488, 489, 490, 491, 492, 493,\n",
       "       494, 495, 496, 497, 498, 499, 500, 501, 502, 503, 504, 505, 506,\n",
       "       507, 508, 509, 510, 511, 512, 513, 514, 515, 516, 517, 518, 519,\n",
       "       520, 521, 522, 523, 524, 525, 526, 527, 528, 529, 530, 531, 532,\n",
       "       533, 534, 535, 536, 537, 538, 539, 540, 541, 542, 543, 544, 545,\n",
       "       546, 547, 548, 549, 550, 551, 552, 553, 554, 555, 556, 557, 558,\n",
       "       559, 560, 561, 562, 563, 564, 565, 566, 567, 568, 569, 570, 571,\n",
       "       572, 573, 574, 575, 576, 577, 578, 579, 580, 581, 582, 583, 584,\n",
       "       585, 586, 587, 588, 589, 590, 591, 592, 593, 594, 595, 596, 597,\n",
       "       598, 599, 600, 601, 602, 603, 604, 605, 606, 607, 608, 609, 610,\n",
       "       611, 612, 613, 614, 615, 616, 617, 618, 619, 620, 621, 622, 623,\n",
       "       624, 625, 626, 627, 628, 629, 630, 631, 632, 633, 634, 635, 636,\n",
       "       637, 638, 639, 640, 641, 642, 643, 644, 645, 646, 647, 648, 649,\n",
       "       650, 651, 652, 653, 654, 655, 656, 657, 658, 659, 660, 661, 662,\n",
       "       663, 664, 665, 666, 667, 668, 669, 670, 671, 672, 673, 674, 675,\n",
       "       676, 677, 678, 679, 680, 681, 682, 683, 684, 685, 686, 687, 688,\n",
       "       689, 690, 691, 692, 693, 694, 695, 696, 697, 698, 699, 700, 701,\n",
       "       702, 703, 704, 705, 706, 707, 708, 709, 710, 711, 712, 713, 714,\n",
       "       715, 716, 717, 718, 719, 720, 721, 722, 723, 724, 725, 726, 727,\n",
       "       728, 729, 730, 731, 732, 733, 734, 735, 736, 737, 738, 739, 740,\n",
       "       741, 742, 743, 744, 745, 746, 747, 748, 749, 750, 751, 752, 753,\n",
       "       754, 755, 756, 757, 758, 759, 760, 761, 762, 763, 764, 765, 766,\n",
       "       767, 768, 769, 770, 771, 772, 773, 774, 775, 776, 777, 778, 779,\n",
       "       780, 781, 782, 783, 784, 785, 786, 787, 788, 789, 790, 791, 792,\n",
       "       793, 794, 795, 796, 797, 798, 799, 800, 801, 802, 803, 804, 805,\n",
       "       806, 807, 808, 809, 810, 811, 812, 813, 814, 815, 816, 817, 818,\n",
       "       819, 820, 821, 822, 823, 824, 825, 826, 827, 828, 829, 830, 831,\n",
       "       832, 833, 834, 835, 836, 837, 838, 839, 840, 841, 842, 843, 844,\n",
       "       845, 846, 847, 848, 849, 850, 851, 852, 853, 854, 855, 856, 857,\n",
       "       858, 859, 860, 861, 862, 863, 864, 865, 866, 867, 868, 869, 870,\n",
       "       871, 872, 873, 874, 875, 876, 877, 878, 879, 880, 881, 882, 883,\n",
       "       884, 885, 886, 887, 888, 889, 890, 891, 892, 893, 894, 895, 896,\n",
       "       897, 898, 899, 900, 901, 902, 903, 904, 905, 906, 907, 908, 909,\n",
       "       910, 911, 912, 913, 914, 915, 916, 917, 918, 919, 920, 921, 922,\n",
       "       923, 924, 925, 926, 927, 928, 929, 930, 931, 932, 933, 934, 935,\n",
       "       936, 937, 938, 939, 940, 941, 942, 943, 944, 945, 946, 947, 948,\n",
       "       949, 950, 951, 952, 953, 954, 955, 956, 957, 958, 959, 960, 961,\n",
       "       962, 963, 964, 965, 966, 967, 968, 969, 970, 971, 972, 973, 974,\n",
       "       975, 976, 977, 978, 979, 980, 981, 982, 983, 984, 985, 986, 987,\n",
       "       988, 989, 990, 991, 992, 993, 994, 995, 996, 997, 998, 999])"
      ]
     },
     "execution_count": 6,
     "metadata": {},
     "output_type": "execute_result"
    }
   ],
   "source": [
    "# 인스턴스 상태\n",
    "\n",
    "a = np.array([0,1,2,3,4,5,6,7,8,9]) # 리스트 값을 받아서 ndarray를 만든다(a)\n",
    "print(id(a)) # id() : 주소값 확인\n",
    "print(a.size) # a의 크기(데이터 개수) : 10개 = 10\n",
    "print(a.astype(np.float32)) # astype() : 데이터 타입을 변경 => a의 값을 실수형으로 나타냄. numpy는 행중심, 동질적\n",
    "print(a.dtype.itemsize*a.size) # float32 사이즈 * a.size = 전체 데이터 사이즈(바이트)\n",
    "\n",
    "# literator   for in range : 리스트를 만듦 / for in arange : ndarray를 만듦\n",
    "a = np.arange(1000)\n",
    "a"
   ]
  },
  {
   "cell_type": "code",
   "execution_count": 10,
   "metadata": {},
   "outputs": [
    {
     "name": "stdout",
     "output_type": "stream",
     "text": [
      "[[0. 0. 0. 0.]\n",
      " [0. 0. 0. 0.]\n",
      " [0. 0. 0. 0.]]\n",
      "[[[1 1 1 1]\n",
      "  [1 1 1 1]\n",
      "  [1 1 1 1]]\n",
      "\n",
      " [[1 1 1 1]\n",
      "  [1 1 1 1]\n",
      "  [1 1 1 1]]]\n",
      "[[7 7]\n",
      " [7 7]]\n",
      "[[1. 0. 0. 0.]\n",
      " [0. 1. 0. 0.]\n",
      " [0. 0. 1. 0.]\n",
      " [0. 0. 0. 1.]]\n",
      "[[0.00000000e+000 0.00000000e+000]\n",
      " [0.00000000e+000 0.00000000e+000]\n",
      " [0.00000000e+000 6.00783825e-321]\n",
      " [3.11521375e-307 1.89144859e-307]]\n"
     ]
    }
   ],
   "source": [
    "print(np.zeros((3,4))) # 3행 4열 배열을 0으로 가득 채운다.\n",
    "print(np.ones((2,3,4),dtype=np.int16)) # 데이터 타입을 지정해서 저장할 수 있다. => 3차원 2면 3행 4열\n",
    "#ones(2,3,4) : '1'로 2면 3행 4열을 만들어라\n",
    "print(np.full((2,2),7)) # 2행 2열을 7로 가득한 행렬을 만들어라\n",
    "print(np.eye(4)) # 대각행렬 identity\n",
    "print(np.empty((4,2))) # 4행 2열 행렬을 쓰레기 값으로 채워라"
   ]
  },
  {
   "cell_type": "code",
   "execution_count": 12,
   "metadata": {},
   "outputs": [
    {
     "name": "stdout",
     "output_type": "stream",
     "text": [
      "[1, 5, -1]\n",
      "[ 0 10 20 30 40 50 60 70 80 90]\n",
      "[10 50 90]\n"
     ]
    }
   ],
   "source": [
    "a = np.arange(0, 100, 10) # 0부터 99까지 10단위로 끊어서 범위 지정 : ndarrat\n",
    "\n",
    "indices = [1,5,-1] # 리스트\n",
    "print(indices)\n",
    "\n",
    "b = a[indices] # 리스트를 첨자로 함.\n",
    "print(a)\n",
    "print(b) # a.indices = a.[1], a.[5], a[-1] = 10, 50, 90(뒤에서 첫번째 : -1)"
   ]
  },
  {
   "cell_type": "code",
   "execution_count": 14,
   "metadata": {},
   "outputs": [
    {
     "name": "stdout",
     "output_type": "stream",
     "text": [
      "[[11 12 13 14 15]\n",
      " [16 17 18 19 20]\n",
      " [21 22 23 24 25]\n",
      " [26 27 28 29 30]\n",
      " [31 32 33 34 35]]\n",
      "<class 'numpy.ndarray'>\n",
      "int32\n",
      "25\n",
      "(5, 5)\n",
      "2\n",
      "100\n",
      "(20, 4)\n"
     ]
    }
   ],
   "source": [
    "a = np.arange(11,36) # 1차원으로 생성\n",
    "\n",
    "a.shape = (5,5) # 5행 5열로 보여줘라 *개수가 맞아야 함.\n",
    "print(a)\n",
    "\n",
    "print(type(a)) #<class 'numpy.ndarray'>\n",
    "print(a.dtype)\n",
    "print(a.size) 25개\n",
    "print(a.shape) # 차수 (5,5)\n",
    "print(a.ndim) # 2차원\n",
    "print(a.nbytes) # *바이트 * 25개 = 100\n",
    "print(a.strides) # (20,4) : 다음 열의 데이터는 몇 바이트를 건너뛰어야 하는가\n",
    "                # 다음 행은 몇 바이트를 건너뛰어야 하는가. 한 행이 5열로 이루어져 있는데, 한 데이터마다 4바이트니까......"
   ]
  },
  {
   "cell_type": "code",
   "execution_count": 16,
   "metadata": {},
   "outputs": [
    {
     "name": "stdout",
     "output_type": "stream",
     "text": [
      "<class 'numpy.ndarray'>\n",
      "[0 1 2 3 4 5 6 7 8 9]\n",
      "5\n",
      "[5 6 7]\n",
      "[ 1  2  3  4 12]\n"
     ]
    }
   ],
   "source": [
    "arr = np.arange(10) # 0 ~ 9\n",
    "\n",
    "print(type(arr))\n",
    "\n",
    "print(arr)\n",
    "print(arr[5])\n",
    "print(arr[5:8]) # 마지막은 불포함 => arr[5],arr[6],arr[7] 출력\n",
    "arr[5:8]=12 # 5,6,7 = 12로 데이터 업데이트\n",
    "print(arr[1:6])"
   ]
  },
  {
   "cell_type": "code",
   "execution_count": 19,
   "metadata": {},
   "outputs": [
    {
     "name": "stdout",
     "output_type": "stream",
     "text": [
      "[1 2 3]\n",
      "3\n",
      "3\n",
      "[[1 2 3]\n",
      " [4 5 6]]\n",
      "[[2 3]\n",
      " [5 6]]\n",
      "[[2 3]\n",
      " [5 6]\n",
      " [8 9]]\n",
      "[4 5]\n",
      "[7]\n",
      "[[0 2 3]\n",
      " [0 5 6]\n",
      " [7 8 9]]\n"
     ]
    }
   ],
   "source": [
    "# numpy 첨자 생략 불가 : ex) [,4]\n",
    "\n",
    "arr2d = np.array([[1,2,3],[4,5,6],[7,8,9]])\n",
    "\n",
    "print(arr2d[0]) # 행 우선 : 행\n",
    "print(arr2d[0][2])\n",
    "print(arr2d[0,2])\n",
    "print(arr2d[:2]) # 0,1 행 출력\n",
    "print(arr2d[:2,1:]) # 0,1 행, 1행부터 끝까지 출력\n",
    "print(arr2d[:,1:]) # 모든 행\n",
    "print(arr2d[1,:2]) # 1행 2열까지만 출력\n",
    "print(arr2d[2, :1])\n",
    "arr2d[:2,:1]=0\n",
    "arr2d[:2,:1]=0\n",
    "print(arr2d)"
   ]
  },
  {
   "cell_type": "code",
   "execution_count": 20,
   "metadata": {},
   "outputs": [
    {
     "name": "stdout",
     "output_type": "stream",
     "text": [
      "스트라이드의 값 (160, 40, 8)\n"
     ]
    }
   ],
   "source": [
    "# 실제 저장은 일렬로, 사람이 데이터를 다루는 것은 입체로.\n",
    "# 행렬연산에서 앞의 행렬열수와 뒤의 행렬의 행수를 일치 시켜야 행렬곱이 가능\n",
    "# 행렬곱에서 행렬 앞뒤로 바꾸면 안됨\n",
    "\n",
    "print(\"스트라이드의 값\", np.ones((3,4,5), dtype=np.float64).strides)"
   ]
  },
  {
   "cell_type": "code",
   "execution_count": null,
   "metadata": {},
   "outputs": [],
   "source": [
    "# 단일 데이터 float 64 : 8바이트\n",
    "# 다음 데이터로 가려면 \"8\"바이트를 지나야 하고, 다음 행으로 가려면 5개*8바이트 = 40 바이트를 지나야 하고,\n",
    "# 다음 면으로 가려면 나머지 4행을 지나야 하니까 4행 * 40바이트(한 행) = 160 바이트"
   ]
  },
  {
   "cell_type": "code",
   "execution_count": 35,
   "metadata": {},
   "outputs": [
    {
     "name": "stdout",
     "output_type": "stream",
     "text": [
      "첫 차원 [[1 2 3]\n",
      " [4 5 6]]\n",
      "첫 차원 첫 행은 =  [1 2 3]\n",
      "첫 요소는 =  1\n",
      "8\n",
      "12\n",
      "[[[ 1  2  3]\n",
      "  [ 4  5  6]]\n",
      "\n",
      " [[ 7  8  9]\n",
      "  [10 11 12]]]\n"
     ]
    }
   ],
   "source": [
    "# 문제\n",
    "arr3d = np.array([[[1,2,3],[4,5,6]],  [[7,8,9],[10,11,12]]]) # 면이 2개, 행이 2개, 열이 3개 => 2,2,3\n",
    "print(\"첫 차원\", arr3d[0])\n",
    "print(\"첫 차원 첫 행은 = \", arr3d[0][0])\n",
    "print(\"첫 요소는 = \", arr3d[0][0][0])\n",
    "\n",
    "\n",
    "# 8을 출력하시오\n",
    "print(arr3d[1][0][1])\n",
    "# 12 출력\n",
    "print(arr3d[1][1][2])\n",
    "\n",
    "print(arr3d)"
   ]
  },
  {
   "cell_type": "code",
   "execution_count": 36,
   "metadata": {},
   "outputs": [
    {
     "name": "stdout",
     "output_type": "stream",
     "text": [
      "값의 변경 후\n",
      "[[[42 42 42]\n",
      "  [42 42 42]]\n",
      "\n",
      " [[ 7  8  9]\n",
      "  [10 11 12]]]\n",
      "값 이전으로 복구\n",
      "[[[ 1  2  3]\n",
      "  [ 4  5  6]]\n",
      "\n",
      " [[ 7  8  9]\n",
      "  [10 11 12]]]\n"
     ]
    }
   ],
   "source": [
    "# old_values=arr3d <-로 돌리면 백업이 안됨 : 입하면 같은 주소를 가리키기 때문.  # 대입 : 주소를 복사\n",
    "old_values=arr3d.copy()\n",
    "\n",
    "arr3d[0]=42\n",
    "\n",
    "print(\"값의 변경 후\")\n",
    "print(arr3d)\n",
    "\n",
    "print(\"값 이전으로 복구\")\n",
    "arr3d = old_values\n",
    "\n",
    "print(arr3d)"
   ]
  },
  {
   "cell_type": "code",
   "execution_count": 40,
   "metadata": {},
   "outputs": [
    {
     "name": "stdout",
     "output_type": "stream",
     "text": [
      "[[ 0  1  2  3  4  5]\n",
      " [ 6  7  8  9 10 11]\n",
      " [12 13 14 15 16 17]\n",
      " [18 19 20 21 22 23]\n",
      " [24 25 26 27 28 29]\n",
      " [30 31 32 33 34 35]]\n",
      "\n",
      "[[[ 0  1  2  3  4  5]\n",
      "  [ 6  7  8  9 10 11]\n",
      "  [12 13 14 15 16 17]]\n",
      "\n",
      " [[18 19 20 21 22 23]\n",
      "  [24 25 26 27 28 29]\n",
      "  [30 31 32 33 34 35]]]\n"
     ]
    }
   ],
   "source": [
    "Z = np.arange(36) # 1차원 리스트\n",
    "Z = Z.reshape((6,6)) # Z의 값을 6행6열로 바꾸어라\n",
    "print(Z)\n",
    "\n",
    "print()\n",
    "\n",
    "reshape2 = Z.reshape((2,3,6)) # 6행 6열을 2면 3행 6열로 바꾸어라\n",
    "print(reshape2)"
   ]
  },
  {
   "cell_type": "code",
   "execution_count": 42,
   "metadata": {},
   "outputs": [
    {
     "name": "stdout",
     "output_type": "stream",
     "text": [
      "[[ 0  1  2  3]\n",
      " [ 4  5  6  7]\n",
      " [ 8  9 10 11]\n",
      " [12 13 14 15]\n",
      " [16 17 18 19]\n",
      " [20 21 22 23]\n",
      " [24 25 26 27]\n",
      " [28 29 30 31]]\n",
      "\n",
      "[[ 4  5  6  7]\n",
      " [20 21 22 23]\n",
      " [28 29 30 31]\n",
      " [ 8  9 10 11]]\n",
      "\n",
      "[[28 29 30 31]\n",
      " [12 13 14 15]\n",
      " [ 4  5  6  7]\n",
      " [24 25 26 27]]\n",
      "\n",
      "[ 4 27 29 10]\n",
      "\n",
      "[[ 4  5  6  7]\n",
      " [ 8  9 10 11]\n",
      " [20 21 22 23]\n",
      " [28 29 30 31]]\n",
      "\n",
      "[[ 4  7  5  6]\n",
      " [20 23 21 22]\n",
      " [28 31 29 30]\n",
      " [ 8 11  9 10]]\n"
     ]
    }
   ],
   "source": [
    "arr=np.arange(32).reshape((8,4))\n",
    "print(arr)\n",
    "print()\n",
    "print(arr[[1,5,7,2]]) # 행중심\n",
    "print()\n",
    "print(arr[[-1,-5,-7,-2]]) # 거꾸로 인덱싱\n",
    "print()\n",
    "print(arr[[1,6,7,2],[0,3,1,2]])\n",
    "print()\n",
    "# fancy 인덱싱\n",
    "print(arr[[1,2,5,7]][:,[0,1,2,3]]) # 1,2,5,7행을 출력하고, 앞에 나온 행(1,2,5,7행)의 0,1,2,3,열을 출력하라.\n",
    "print()\n",
    "print(arr[[1,5,7,2]][:,[0,3,1,2]])"
   ]
  },
  {
   "cell_type": "code",
   "execution_count": 48,
   "metadata": {},
   "outputs": [
    {
     "name": "stdout",
     "output_type": "stream",
     "text": [
      "[[ 0  1  2  3  4  5]\n",
      " [10 11 12 13 14 15]\n",
      " [20 21 22 23 24 25]\n",
      " [30 31 32 33 34 35]\n",
      " [40 41 42 43 44 45]\n",
      " [50 51 52 53 54 55]]\n",
      "주황색 [ 1 12 23 34 45]\n"
     ]
    }
   ],
   "source": [
    "arr = []\n",
    "for i in range(6):\n",
    "    ad = []\n",
    "    for j in range(6):\n",
    "        ad.append(i*10 + j)\n",
    "    arr.append(ad)\n",
    "#print(arr)\n",
    "arr = np.array(arr)\n",
    "\n",
    "print(arr)"
   ]
  },
  {
   "cell_type": "code",
   "execution_count": 54,
   "metadata": {},
   "outputs": [
    {
     "name": "stdout",
     "output_type": "stream",
     "text": [
      "주황색 [ 1 12 23 34 45]\n",
      "빨강색 [ 2 22 52]\n",
      "하늘색 [[30 32 35]\n",
      " [40 42 45]\n",
      " [50 52 55]]\n"
     ]
    }
   ],
   "source": [
    "print(\"주황색\", arr[[0,1,2,3,4],[1,2,3,4,5]])\n",
    "print(\"빨강색\", arr[[0,2,5],2])\n",
    "print(\"하늘색\", arr[3:6][:,[0,2,5]])"
   ]
  },
  {
   "cell_type": "code",
   "execution_count": 69,
   "metadata": {},
   "outputs": [
    {
     "name": "stdout",
     "output_type": "stream",
     "text": [
      "빨강색 [ 2 12 22 32 42 52]\n",
      "주황색 [2 3 4]\n",
      "연두색 [[20 22 24]\n",
      " [40 42 44]]\n",
      "하늘색 [[30 32 35]\n",
      " [40 42 45]\n",
      " [50 52 55]]\n",
      "green =  [[44 45]\n",
      " [54 55]]\n"
     ]
    }
   ],
   "source": [
    "print(\"빨강색\", arr[0:6][:,2])\n",
    "print(\"주황색\", arr[[0],[2,3,4]])\n",
    "print(\"연두색\", arr[[2,4]][:,[0,2,4]])\n",
    "print(\"하늘색\", arr[3:6][:,[0,2,5]])\n",
    "print(\"green = \", arr[4:][:,[4,5]])"
   ]
  },
  {
   "cell_type": "code",
   "execution_count": 77,
   "metadata": {},
   "outputs": [
    {
     "name": "stdout",
     "output_type": "stream",
     "text": [
      "x =  [[ 1  2  3]\n",
      " [ 4  5  6]\n",
      " [ 7  8  9]\n",
      " [10 11 12]]\n",
      "v =  [1 0 1]\n",
      "\n",
      "단일 출력\n",
      "[[1 0 1]\n",
      " [1 0 1]\n",
      " [1 0 1]\n",
      " [1 0 1]]\n",
      "\n",
      "[[ 2  2  4]\n",
      " [ 5  5  7]\n",
      " [ 8  8 10]\n",
      " [11 11 13]]\n",
      "\n",
      "[[ 2  2  4]\n",
      " [ 5  5  7]\n",
      " [ 8  8 10]\n",
      " [11 11 13]]\n"
     ]
    },
    {
     "data": {
      "text/plain": [
       "array([[ 4,  5,  6],\n",
       "       [ 7,  8,  9],\n",
       "       [10, 11, 12],\n",
       "       [13, 14, 15]])"
      ]
     },
     "execution_count": 77,
     "metadata": {},
     "output_type": "execute_result"
    }
   ],
   "source": [
    "x = np.array([[1,2,3],[4,5,6],[7,8,9],[10,11,12]]) # 4행 3열 ndarray\n",
    "v = np.array([1,0,1])\n",
    "\n",
    "print(\"x = \",x)\n",
    "print(\"v = \",v)\n",
    "print()\n",
    "\n",
    "print(\"단일 출력\")\n",
    "\n",
    "vv = np.tile(v, (4,1)) # v의 내용으로 4행 1열을 만들어라\n",
    "print(vv)\n",
    "print()\n",
    "\n",
    "y = x + vv # x 배열 + vv 배열 => 행렬 생성 (요소별로 연산)\n",
    "print(y)\n",
    "print()\n",
    "\n",
    "print(x+v) # 4*3, 1*3 broadcasting : 차수가 맞지 않을 땐 적은 곳을 자동으로 *n 함 (양쪽 차원이 같아야 하기 때문)\n",
    "x+3"
   ]
  },
  {
   "cell_type": "code",
   "execution_count": 82,
   "metadata": {},
   "outputs": [
    {
     "name": "stdout",
     "output_type": "stream",
     "text": [
      "[[0 1]\n",
      " [2 3]\n",
      " [4 5]]\n"
     ]
    },
    {
     "data": {
      "text/plain": [
       "array([[ 1,  3,  5],\n",
       "       [ 3, 13, 23],\n",
       "       [ 5, 23, 41]])"
      ]
     },
     "execution_count": 82,
     "metadata": {},
     "output_type": "execute_result"
    }
   ],
   "source": [
    "x = np.arange(6).reshape((3,2))\n",
    "print(x)\n",
    "# 거듭제곱 (행열곱)\n",
    "# 앞의 행렬의 열수와 뒤의 행렬의 행수가 일치해야 함 => 3*2, 2*3 => \" 함수 .T \"\n",
    "x@x.T \n",
    "print(np.transpose())"
   ]
  },
  {
   "cell_type": "code",
   "execution_count": 90,
   "metadata": {},
   "outputs": [
    {
     "name": "stdout",
     "output_type": "stream",
     "text": [
      "[[[ 0  1  2  3]\n",
      "  [ 4  5  6  7]\n",
      "  [ 8  9 10 11]]\n",
      "\n",
      " [[12 13 14 15]\n",
      "  [16 17 18 19]\n",
      "  [20 21 22 23]]]\n",
      "-------------\n",
      "[[[ 0  1  2  3]\n",
      "  [12 13 14 15]]\n",
      "\n",
      " [[ 4  5  6  7]\n",
      "  [16 17 18 19]]\n",
      "\n",
      " [[ 8  9 10 11]\n",
      "  [20 21 22 23]]]\n",
      "\n",
      "-----\n",
      "[[[ 0  4  8]\n",
      "  [ 1  5  9]\n",
      "  [ 2  6 10]\n",
      "  [ 3  7 11]]\n",
      "\n",
      " [[12 16 20]\n",
      "  [13 17 21]\n",
      "  [14 18 22]\n",
      "  [15 19 23]]]\n"
     ]
    }
   ],
   "source": [
    "arr = np.arange(24).reshape((2,3,4)) # 2면 3행 4열\n",
    "\n",
    "print(arr)\n",
    "print(\"-------------\")\n",
    "\n",
    "print(arr.transpose((1,0,2))) #  1,0 <- 면과 행을 바꾸어라. => 3면 2행 4열\n",
    "print()\n",
    "\n",
    "print(\"-----\")\n",
    "\n",
    "print(arr.transpose((0,2,1))) # 면,행,열을 바꿔라 => 2면 4행 3열"
   ]
  },
  {
   "cell_type": "code",
   "execution_count": 97,
   "metadata": {},
   "outputs": [
    {
     "name": "stdout",
     "output_type": "stream",
     "text": [
      "['Seoul' 'Daejun' 'chungju' 'seoul' 'chungju' 'Daejun' 'Daejun']\n",
      "\n",
      "[ True False False False False False False]\n",
      "\n",
      "[[ 0.60765531  0.13406802 -1.64813687  0.54411585]]\n",
      "\n",
      "[[-1.64813687  0.54411585]]\n",
      "\n",
      "[0.54411585]\n",
      "\n",
      "[False  True  True  True  True  True  True]\n",
      "\n",
      "[False  True  True  True  True  True  True]\n",
      "\n",
      "\n",
      "[ True False  True False  True False False]\n",
      "\n",
      "[[ 0.60765531  0.13406802 -1.64813687  0.54411585]\n",
      " [ 0.13652804 -0.90237448 -2.47375899  0.02420508]\n",
      " [ 0.31004918 -1.70108836 -2.13085387  2.37459984]]\n"
     ]
    }
   ],
   "source": [
    "# Boolean indexing\n",
    "# 문자열은 대소문자 구분\n",
    "names = np.array(['Seoul','Daejun','chungju','seoul','chungju','Daejun','Daejun'])\n",
    "data = np.random.randn(7,4) # 7행 4열로 된 데이터\n",
    "\n",
    "print(names)\n",
    "print()\n",
    "\n",
    "print(names=='Seoul') # 1,0,0,0,0,0,0\n",
    "print()\n",
    "print(data[names=='Seoul']) # 0번 행만 출력하라\n",
    "print()\n",
    "print(data[names=='Seoul',2:])\n",
    "print()\n",
    "print(data[names=='Seoul',3])\n",
    "print()\n",
    "print(names != 'Seoul')\n",
    "print()\n",
    "print(~(names == 'Seoul'))\n",
    "print()\n",
    "mask = (names == 'Seoul') | (names == 'chungju')\n",
    "print()\n",
    "print(mask)\n",
    "print()\n",
    "print(data[mask])"
   ]
  },
  {
   "cell_type": "code",
   "execution_count": 104,
   "metadata": {},
   "outputs": [
    {
     "name": "stdout",
     "output_type": "stream",
     "text": [
      "<zip object at 0x0000018D7FD71948>\n",
      "result =  [1.1, 2.2, 1.3, 1.4, 2.5]\n",
      "\n",
      "[[ 0.56602885 -1.83800221 -1.08056673  0.84368285]\n",
      " [-1.05200013  0.40470571 -1.25299851  0.94024917]\n",
      " [-0.7057451   1.76394675  0.79437289  1.15083436]\n",
      " [ 0.43626303  0.5671403  -0.61187088 -1.48651181]]\n",
      "[[ 2 -2 -2  2]\n",
      " [-2  2 -2  2]\n",
      " [-2  2  2  2]\n",
      " [ 2  2 -2 -2]]\n"
     ]
    }
   ],
   "source": [
    "xarr = np.array([1.1, 1.2, 1.3, 1.4, 1.5])\n",
    "yarr = np.array([2.1, 2.2, 2.3, 2.4, 2.5])\n",
    "cond = np.array([True, False, True, True, False])\n",
    "\n",
    "print(zip(xarr,yarr, cond)) # zip() : 요소별로 데이터를 묶을 때 사용 (열 중심)\n",
    "#  - zip은 바로 print 안됨 -> list로 만들고 출력\n",
    "\n",
    "result = [(x if c else y ) for x,y,c in zip(xarr,yarr,cond)] # 3항 연산자\n",
    "# c일 때 참이면 x 출력, 거짓이면 y 출력 -> 1.1, 2.2, 1.3, 1.4, 2.5\n",
    "print(\"result = \", result)\n",
    "\n",
    "print()\n",
    "arr = np.random.randn(4,4) # 랜덤으로 4행 4열 만들기\n",
    "print(arr)\n",
    "\n",
    "print(np.where(arr>0, 2, -2))\n",
    "#arr이 0보다 크면 2, 0보다 작으면 -2 출력"
   ]
  },
  {
   "cell_type": "code",
   "execution_count": 113,
   "metadata": {},
   "outputs": [
    {
     "name": "stdout",
     "output_type": "stream",
     "text": [
      "[ True False  True  True False False  True]\n",
      "[False  True  True  True False  True  True]\n",
      "조건문 [1, 2, 0, 0, 3, 2, 0]\n",
      "3항 연산자 [1 2 0 0 3 2 0]\n",
      "수식을 이용한 [1 2 0 0 3 2 0]\n"
     ]
    }
   ],
   "source": [
    "# 문제) 다음 데이터를 이용하여 두 개 다 참일 때는 0, cond1이 참일 때는 1, cond2가 참일 때는 2, 그 외에는 3으로 처리하여 출력해라.\n",
    "# 0,1,2,3\n",
    "# 조건 4\n",
    "# where 3항 연산자\n",
    "\n",
    "\n",
    "result = []\n",
    "cond1 = np.array([1,0,1,1,0,0,1],dtype=bool )\n",
    "cond2 = np.array([0,1,1,1,0,1,1],dtype=bool )\n",
    "\n",
    "print(cond1)\n",
    "print(cond2)\n",
    "\n",
    "for i in range(len(cond1)):\n",
    "    if(cond1[i] and cond2[i]):\n",
    "        result.append(0)\n",
    "    elif cond1[i]:\n",
    "        result.append(1)\n",
    "    elif cond2[i]:\n",
    "        result.append(2)\n",
    "    else:\n",
    "        result.append(3)\n",
    "print(\"조건문\", result)\n",
    "\n",
    "result = np.where(cond1 & cond2, 0, np.where(cond1, 1, np.where(cond2, 2, 3)))\n",
    "print(\"3항 연산자\", result)\n",
    "\n",
    "result = 1*(cond1 & ~cond2) + 2*(cond2& ~cond1) + 3* ~(cond1 | cond2)\n",
    "print(\"수식을 이용한\", result)"
   ]
  },
  {
   "cell_type": "code",
   "execution_count": 115,
   "metadata": {},
   "outputs": [
    {
     "name": "stdout",
     "output_type": "stream",
     "text": [
      "[10002 10004 10006 ... 29996 29998 30000]\n"
     ]
    }
   ],
   "source": [
    "x = np.arange(1, 10001)\n",
    "y = np.arange(10001, 20001)\n",
    "\n",
    "z = np.zeros_like(x) # 다른 행렬(x)과 같은 사이즈로 (z를) 초기화\n",
    "\n",
    "for i in range(10000):\n",
    "    z[i] = x[i] + y[i]\n",
    "    \n",
    "print(z)\n"
   ]
  },
  {
   "cell_type": "code",
   "execution_count": 118,
   "metadata": {},
   "outputs": [
    {
     "name": "stdout",
     "output_type": "stream",
     "text": [
      "False\n",
      "True\n",
      "[ 2.71828183  7.3890561  20.08553692 54.59815003]\n"
     ]
    }
   ],
   "source": [
    "a = np.array([1,2,3,4])\n",
    "b = np.array([4,2,2,4])\n",
    "\n",
    "print(np.all(a==b)) # 전체가 참일 때 참\n",
    "print(np.any(a==b)) # 하나라도 참이면 참\n",
    "print(np.exp(a))    # 지수함수 (자연대수 : 2.718)"
   ]
  },
  {
   "cell_type": "code",
   "execution_count": null,
   "metadata": {},
   "outputs": [],
   "source": [
    "# 선형대수 : 모든 문제를 선형으로 해결하자. => 비선형도 잘게 나누면 선형(미분)\n",
    "# 선형대수의 가장 기본적인 건, "
   ]
  },
  {
   "cell_type": "markdown",
   "metadata": {},
   "source": [
    "### 행렬의 종류\n",
    "- 정방행렬 : 정사각형 (행의 수 = 열의 수)\n",
    "- 대칭행렬 : 우상단과 좌하단이 같은 것\n",
    "- 대각행렬 : scale을 변화시키는 요소\n",
    "- 단위행렬(identity) : 행렬곱의 항등원\n",
    "- 역행렬 : 행렬의 나눗셈을 위해 구해서 곱해지는 행렬\n",
    "- 특이행렬 : 역행렬이 없는 행렬\n",
    "- 직교행렬 : 축의 정직교, 각 축간의 내적이 0인 행렬\n",
    "- 정방행렬이면서 대칭행렬인 것 = 공분산행렬, 상관계수행렬\n",
    "- 공분산 : 두 수 간의 관계 -> ((한 수 - 평균) * (다른 수 - 평균))/(n-1)\n",
    "- 상관계수(표준화 -1 ~ 1) : 공분산 / 표준편차의 곱\n"
   ]
  },
  {
   "cell_type": "code",
   "execution_count": 120,
   "metadata": {},
   "outputs": [
    {
     "name": "stdout",
     "output_type": "stream",
     "text": [
      "[[1 2]\n",
      " [3 4]]\n",
      "\n",
      "[[2 2]\n",
      " [2 2]]\n",
      "\n",
      "[[3 4]\n",
      " [5 6]]\n",
      "\n",
      "[[2 4]\n",
      " [6 8]]\n",
      "\n",
      "[[ 6  6]\n",
      " [14 14]]\n"
     ]
    }
   ],
   "source": [
    "import numpy as np\n",
    "F1 = np.array([[1,2],[3,4]])\n",
    "F2 = np.array([[2,2],[2,2]])\n",
    "\n",
    "print(F1)\n",
    "print()\n",
    "\n",
    "print(F2)\n",
    "print()\n",
    "\n",
    "print(F1 + F2)\n",
    "print()\n",
    "\n",
    "print(F1 * F2)\n",
    "print()\n",
    "\n",
    "print(F1 @ F2) # 행렬곱도 내적"
   ]
  },
  {
   "cell_type": "markdown",
   "metadata": {},
   "source": [
    "## 방정식의 해\n",
    "### 2 x 1 +  x2       2x3 = -3\n",
    "### 3 x 1 +            x3 = 5\n",
    "###   x 1 + x2         x3 = -2\n",
    "\n",
    "이게 대체 뭔 소리당가.."
   ]
  },
  {
   "cell_type": "code",
   "execution_count": 128,
   "metadata": {},
   "outputs": [
    {
     "name": "stdout",
     "output_type": "stream",
     "text": [
      "[[ 2  1 -2]\n",
      " [ 3  0  1]\n",
      " [ 1  1 -1]]\n",
      "\n",
      "[[-3]\n",
      " [ 5]\n",
      " [-2]]\n",
      "\n",
      "[[ 1.]\n",
      " [-1.]\n",
      " [ 2.]]\n",
      "\n"
     ]
    }
   ],
   "source": [
    "A = np.array([[2,1,-2],[3,0,1],[1,1,-1]])\n",
    "print(A)\n",
    "print()\n",
    "\n",
    "b=np.transpose(np.array([[-3,5,-2]])) # 열로 전치\n",
    "print(b)\n",
    "print()\n",
    "\n",
    "x = np.linalg.solve(A,b) # A의 역행렬을 구해서 b와 곱 해줌\n",
    "print(x)\n",
    "print()"
   ]
  },
  {
   "cell_type": "code",
   "execution_count": 130,
   "metadata": {},
   "outputs": [
    {
     "data": {
      "text/plain": [
       "array([[ 1.],\n",
       "       [-1.],\n",
       "       [ 2.]])"
      ]
     },
     "execution_count": 130,
     "metadata": {},
     "output_type": "execute_result"
    }
   ],
   "source": [
    "np.dot(np.linalg.inv(A),b) # 행렬곱"
   ]
  },
  {
   "cell_type": "code",
   "execution_count": 131,
   "metadata": {},
   "outputs": [
    {
     "data": {
      "text/plain": [
       "array([[ 1.],\n",
       "       [-1.],\n",
       "       [ 2.]])"
      ]
     },
     "execution_count": 131,
     "metadata": {},
     "output_type": "execute_result"
    }
   ],
   "source": [
    "np.linalg.inv(A)@b # 왜 역행렬을 구해야 하는가? => 행렬은 나눗셈이 없어서 역행렬을 곱해서 나눈다."
   ]
  },
  {
   "cell_type": "code",
   "execution_count": 132,
   "metadata": {},
   "outputs": [
    {
     "data": {
      "text/plain": [
       "-3"
      ]
     },
     "execution_count": 132,
     "metadata": {},
     "output_type": "execute_result"
    }
   ],
   "source": [
    "# 검산\n",
    "2*1 + (-1)  -2*2"
   ]
  },
  {
   "cell_type": "code",
   "execution_count": null,
   "metadata": {},
   "outputs": [],
   "source": []
  },
  {
   "cell_type": "code",
   "execution_count": 134,
   "metadata": {},
   "outputs": [
    {
     "name": "stdout",
     "output_type": "stream",
     "text": [
      "0\n"
     ]
    }
   ],
   "source": [
    "a = np.array([0,1,0]) # X축\n",
    "b = np.array([1,0,0]) # Y축\n",
    "res = np.dot(a,b) # 내적 사이각 : 내적이 0이면 직각\n",
    "print(res)"
   ]
  },
  {
   "cell_type": "code",
   "execution_count": 136,
   "metadata": {},
   "outputs": [
    {
     "name": "stdout",
     "output_type": "stream",
     "text": [
      "1.0\n",
      "1.0\n",
      "1.0\n",
      "cos theta 0.0\n",
      "1.5707963267948966\n",
      "90.0\n"
     ]
    }
   ],
   "source": [
    "print(np.linalg.norm(a)) # 벡터의 크기\n",
    "print(np.linalg.norm(b))\n",
    "print(np.linalg.norm(a) * np.linalg.norm(b))\n",
    "rad = res / (np.linalg.norm(a) * np.linalg.norm(b)) # cos(theta)\n",
    "print(\"cos theta\", rad)\n",
    "print(np.arccos(rad)) # theta 값을 구함\n",
    "print(np.degrees(np.arccos(rad))) # 사람이 알아보는 각도로 표현"
   ]
  },
  {
   "cell_type": "code",
   "execution_count": 137,
   "metadata": {},
   "outputs": [
    {
     "name": "stdout",
     "output_type": "stream",
     "text": [
      "[[1 2]\n",
      " [3 4]]\n",
      "[[-2.   1. ]\n",
      " [ 1.5 -0.5]]\n",
      "[[1.00000000e+00 1.11022302e-16]\n",
      " [0.00000000e+00 1.00000000e+00]]\n"
     ]
    }
   ],
   "source": [
    "x = np.array([[1,2],[3,4]])\n",
    "y = np.linalg.inv(x)\n",
    "print(x)\n",
    "print(y)\n",
    "print(np.dot(x,y))"
   ]
  },
  {
   "cell_type": "markdown",
   "metadata": {},
   "source": [
    "### 다음 방정식의 해를 구하고 검산하시오\n",
    "- x + y + z = 6\n",
    "- 2y + 5z = -4\n",
    "- 2x + 5y -z = 27"
   ]
  },
  {
   "cell_type": "code",
   "execution_count": 145,
   "metadata": {},
   "outputs": [
    {
     "name": "stdout",
     "output_type": "stream",
     "text": [
      "[[ 1  1  1]\n",
      " [ 0  2  5]\n",
      " [ 2  5 -1]]\n",
      "\n",
      "[[ 6]\n",
      " [-4]\n",
      " [27]]\n",
      "\n",
      "[[ 5.]\n",
      " [ 3.]\n",
      " [-2.]]\n"
     ]
    }
   ],
   "source": [
    "first = np.array([[1,1,1],[0,2,5],[2,5,-1]])\n",
    "second = np.transpose(np.array([[6,-4,27]]))\n",
    "\n",
    "print(first)\n",
    "print()\n",
    "print(second)\n",
    "print()\n",
    "\n",
    "output = np.linalg.solve(first,second)\n",
    "print(output)"
   ]
  },
  {
   "cell_type": "code",
   "execution_count": 149,
   "metadata": {},
   "outputs": [
    {
     "name": "stdout",
     "output_type": "stream",
     "text": [
      "6\n",
      "-4\n",
      "27\n"
     ]
    }
   ],
   "source": [
    "# 검산\n",
    "print(5+3-2)\n",
    "print(2*3 + 5*(-2))\n",
    "print(2*5 + 5*3 + (-1)*(-2))"
   ]
  },
  {
   "cell_type": "code",
   "execution_count": null,
   "metadata": {},
   "outputs": [],
   "source": []
  },
  {
   "cell_type": "code",
   "execution_count": null,
   "metadata": {},
   "outputs": [],
   "source": []
  },
  {
   "cell_type": "code",
   "execution_count": null,
   "metadata": {},
   "outputs": [],
   "source": []
  },
  {
   "cell_type": "code",
   "execution_count": null,
   "metadata": {},
   "outputs": [],
   "source": []
  }
 ],
 "metadata": {
  "kernelspec": {
   "display_name": "Python 3",
   "language": "python",
   "name": "python3"
  },
  "language_info": {
   "codemirror_mode": {
    "name": "ipython",
    "version": 3
   },
   "file_extension": ".py",
   "mimetype": "text/x-python",
   "name": "python",
   "nbconvert_exporter": "python",
   "pygments_lexer": "ipython3",
   "version": "3.7.4"
  }
 },
 "nbformat": 4,
 "nbformat_minor": 2
}
