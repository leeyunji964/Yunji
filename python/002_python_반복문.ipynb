{
 "cells": [
  {
   "cell_type": "markdown",
   "metadata": {},
   "source": [
    "# 반복문"
   ]
  },
  {
   "cell_type": "code",
   "execution_count": 4,
   "metadata": {},
   "outputs": [
    {
     "name": "stdout",
     "output_type": "stream",
     "text": [
      "7 2 4\n",
      "3 8\n"
     ]
    }
   ],
   "source": [
    "num1 = 6\n",
    "num1 += 1 # num1 = num1 + 1\n",
    "num2 = 7\n",
    "num2 -= 5 # num2 = num2 - 5\n",
    "num3 =8\n",
    "num3 /= 2 # num3 = num3 / 2\n",
    "print(num1,num2,round(num3))\n",
    "num1 = 1\n",
    "num1 *= 3 # num1 = num1 * 3\n",
    "num2 = 2\n",
    "num2 **= 3 # num2 = num2^3,    ** = ^ = 제곱(승)\n",
    "print(num1, num2)"
   ]
  },
  {
   "cell_type": "code",
   "execution_count": 7,
   "metadata": {},
   "outputs": [
    {
     "name": "stdout",
     "output_type": "stream",
     "text": [
      "Non-negative\n"
     ]
    }
   ],
   "source": [
    "# 3항 연산자\n",
    "x = 3\n",
    "ans = 'Non-negative' if x>=0 else 'Negative'\n",
    "print(ans)"
   ]
  },
  {
   "cell_type": "code",
   "execution_count": 10,
   "metadata": {},
   "outputs": [
    {
     "name": "stdout",
     "output_type": "stream",
     "text": [
      "empty city\n"
     ]
    }
   ],
   "source": [
    "city = '' # 문자열 거짓(''), 공백(' ')도 문자열, 숫자의 거짓 : 0, list의 거짓 : [], dict의 거짓:{}, tuple의 거짓:()\n",
    "if city:\n",
    "    print('empty city')"
   ]
  },
  {
   "cell_type": "code",
   "execution_count": 11,
   "metadata": {},
   "outputs": [
    {
     "name": "stdout",
     "output_type": "stream",
     "text": [
      "empty city\n"
     ]
    }
   ],
   "source": [
    "city = ' ' # 공백이 있는 경우\n",
    "if city:\n",
    "    print('empty city')"
   ]
  },
  {
   "cell_type": "code",
   "execution_count": 17,
   "metadata": {},
   "outputs": [
    {
     "name": "stdout",
     "output_type": "stream",
     "text": [
      "2019-12-26 10:58:52.053373\n",
      "\n",
      "생년월일(0000.00.00)을 입력하시오 : 19960404\n",
      "당신의 나이는  24\n",
      "당신은 성인입니다.\n"
     ]
    }
   ],
   "source": [
    "# 날짜의 입력은 문자열\n",
    "# 특수하게 해석해서 년월일로 해석\n",
    "\n",
    "import datetime\n",
    "dt = datetime.datetime.now()  # 함수는 ()를 사용해야 함 / now() : 현재의 시,분,초를 detail하게 알려줌\n",
    "print(dt)\n",
    "print()\n",
    "\n",
    "# 데이터 입력\n",
    "age = input(\"생년월일(0000.00.00)을 입력하시오 : \")\n",
    "\n",
    "# 데이터 처리\n",
    "year = int(age[0:4]) # 마지막은 미포함\n",
    "month = int(age[4:6])\n",
    "day = int(age[6:])\n",
    "\n",
    "# 빼기 연산\n",
    "# 분산 : 상계처리 방지를 위해 제곱을 함\n",
    "year_diff = dt.year - year\n",
    "month_diff = dt.month - month\n",
    "day_diff = dt.day - day\n",
    "\n",
    "if day_diff < 0:    # 일 내림 처리\n",
    "    month_diff -= 1\n",
    "if month_diff <0 :  # 월 내림 처리\n",
    "    year_diff -= 1\n",
    "\n",
    "# 데이터 출력    \n",
    "print(\"당신의 나이는 \", year_diff + 1)\n",
    "if year_diff < 18:\n",
    "    print(\"당신은 미성년자입니다.\")\n",
    "else:\n",
    "    print(\"당신은 성인입니다.\")"
   ]
  },
  {
   "cell_type": "code",
   "execution_count": null,
   "metadata": {},
   "outputs": [],
   "source": [
    "# 데이터 입력 -> 처리(연산자), 제어문(판단문, 한가지 규칙을 여러 데이터에 적용 : 반복문 사용)"
   ]
  },
  {
   "cell_type": "code",
   "execution_count": 18,
   "metadata": {},
   "outputs": [],
   "source": [
    "# for문\n",
    "# for( i=0; i< 100; i++ ) : index overflow 인덱스 오버플로우\n",
    "# -> 그래서 도입한 게 << for in 문 >>"
   ]
  },
  {
   "cell_type": "code",
   "execution_count": 22,
   "metadata": {},
   "outputs": [
    {
     "name": "stdout",
     "output_type": "stream",
     "text": [
      "earth air fire water "
     ]
    }
   ],
   "source": [
    "# 데이터를 사용하는 방법\n",
    "\n",
    "elements = [\"earth\",\"air\",\"fire\",\"water\"]\n",
    "for i in elements : # i = \"earth\"          # in 문 뒤에 올 수 있는 것 : Collections, iterator, generator, enumerate \n",
    "    print(i, end = \" \") # end = \" \" => 옆으로 출력"
   ]
  },
  {
   "cell_type": "code",
   "execution_count": 23,
   "metadata": {},
   "outputs": [],
   "source": [
    "# Collections : list, tuple, dict, set\n",
    "# iterator : range : ( i=0; i< 100; i++ )와 같은 방법으로 사용( start, end, step )\n",
    "# generator : 데이터 생성 - 메모리를 차지하지 않음.\n",
    "# enumerate : list나 collections 데이터에 번호를 부여(mapping) -> 0:earth, 1:air, 2:fire, 3:water"
   ]
  },
  {
   "cell_type": "code",
   "execution_count": 24,
   "metadata": {},
   "outputs": [
    {
     "name": "stdout",
     "output_type": "stream",
     "text": [
      "0\n",
      "1\n",
      "2\n",
      "3\n",
      "4\n"
     ]
    }
   ],
   "source": [
    "for i in range(5): # 최종값 = 5\n",
    "    print(i)"
   ]
  },
  {
   "cell_type": "code",
   "execution_count": 25,
   "metadata": {},
   "outputs": [
    {
     "name": "stdout",
     "output_type": "stream",
     "text": [
      "2\n",
      "3\n",
      "4\n"
     ]
    }
   ],
   "source": [
    "# 파이썬은 오버로딩이 없음 : default 값으로 처리\n",
    "for i in range(2,5):\n",
    "    print(i)"
   ]
  },
  {
   "cell_type": "code",
   "execution_count": 26,
   "metadata": {},
   "outputs": [
    {
     "name": "stdout",
     "output_type": "stream",
     "text": [
      "0\n",
      "2\n",
      "4\n",
      "6\n",
      "8\n"
     ]
    }
   ],
   "source": [
    "for i in range(0, 10, 2): # start, end, step\n",
    "    print(i)"
   ]
  },
  {
   "cell_type": "code",
   "execution_count": 30,
   "metadata": {},
   "outputs": [
    {
     "name": "stdout",
     "output_type": "stream",
     "text": [
      "0\n",
      "earth\n",
      "1\n",
      "air\n",
      "2\n",
      "fire\n",
      "3\n",
      "water\n"
     ]
    }
   ],
   "source": [
    "# 인덱스를 사용하는 방법\n",
    "\n",
    "for i in range(4):\n",
    "    print(i)\n",
    "    print(elements[i])"
   ]
  },
  {
   "cell_type": "code",
   "execution_count": 37,
   "metadata": {},
   "outputs": [
    {
     "name": "stdout",
     "output_type": "stream",
     "text": [
      "range(0, 4)\n",
      "[0, 1, 2, 3]\n",
      "<range_iterator object at 0x000001B0EE4C0B30>\n",
      "[3, 2, 1, 0]\n"
     ]
    }
   ],
   "source": [
    "# range는 객체다. => 그냥 print하면 제대로 나오지 않음 => casting 해줘야 함.\n",
    "\n",
    "ra = range(4)\n",
    "print(ra)\n",
    "print(list(ra)) # 리스트로 캐스팅(데이터 변환)\n",
    "\n",
    "ra = reversed(range(4))\n",
    "print(ra)\n",
    "print(list(ra))"
   ]
  },
  {
   "cell_type": "code",
   "execution_count": 38,
   "metadata": {},
   "outputs": [
    {
     "name": "stdout",
     "output_type": "stream",
     "text": [
      "[5, 4, 3, 2, 1, 0]\n"
     ]
    }
   ],
   "source": [
    "print(list(range(5,-1,-1)))"
   ]
  },
  {
   "cell_type": "code",
   "execution_count": 41,
   "metadata": {},
   "outputs": [
    {
     "name": "stdout",
     "output_type": "stream",
     "text": [
      "55\n"
     ]
    }
   ],
   "source": [
    "# 1 ~ 10까지 더하려면 증가변수, 누적변수 필요\n",
    "sum = 0\n",
    "for x in range(1,11):\n",
    "    #sum = sum + x\n",
    "    sum += x\n",
    "print(sum)   "
   ]
  },
  {
   "cell_type": "code",
   "execution_count": 46,
   "metadata": {
    "scrolled": true
   },
   "outputs": [
    {
     "name": "stdout",
     "output_type": "stream",
     "text": [
      "\n",
      "2 * 2 = 4     2 * 3 = 6     2 * 4 = 8     2 * 5 = 10     2 * 6 = 12     2 * 7 = 14     2 * 8 = 16     2 * 9 = 18     \n",
      "3 * 2 = 6     3 * 3 = 9     3 * 4 = 12     3 * 5 = 15     3 * 6 = 18     3 * 7 = 21     3 * 8 = 24     3 * 9 = 27     \n",
      "4 * 2 = 8     4 * 3 = 12     4 * 4 = 16     4 * 5 = 20     4 * 6 = 24     4 * 7 = 28     4 * 8 = 32     4 * 9 = 36     "
     ]
    }
   ],
   "source": [
    "# 중첩된 for문\n",
    "for x in range(2,5): # 단(2,3,4단)\n",
    "    print() # 단이 끝날 때마다 줄 바꿈\n",
    "    for y in range(2,10):\n",
    "        print(x, '*',y,'=', x*y, end = \"     \")"
   ]
  },
  {
   "cell_type": "code",
   "execution_count": 53,
   "metadata": {},
   "outputs": [
    {
     "name": "stdout",
     "output_type": "stream",
     "text": [
      "\n",
      "2 * 1 = 2    3 * 1 = 3    4 * 1 = 4    5 * 1 = 5    6 * 1 = 6    7 * 1 = 7    8 * 1 = 8    9 * 1 = 9    \n",
      "2 * 2 = 4    3 * 2 = 6    4 * 2 = 8    5 * 2 = 10    6 * 2 = 12    7 * 2 = 14    8 * 2 = 16    9 * 2 = 18    \n",
      "2 * 3 = 6    3 * 3 = 9    4 * 3 = 12    5 * 3 = 15    6 * 3 = 18    7 * 3 = 21    8 * 3 = 24    9 * 3 = 27    \n",
      "2 * 4 = 8    3 * 4 = 12    4 * 4 = 16    5 * 4 = 20    6 * 4 = 24    7 * 4 = 28    8 * 4 = 32    9 * 4 = 36    \n",
      "2 * 5 = 10    3 * 5 = 15    4 * 5 = 20    5 * 5 = 25    6 * 5 = 30    7 * 5 = 35    8 * 5 = 40    9 * 5 = 45    \n",
      "2 * 6 = 12    3 * 6 = 18    4 * 6 = 24    5 * 6 = 30    6 * 6 = 36    7 * 6 = 42    8 * 6 = 48    9 * 6 = 54    \n",
      "2 * 7 = 14    3 * 7 = 21    4 * 7 = 28    5 * 7 = 35    6 * 7 = 42    7 * 7 = 49    8 * 7 = 56    9 * 7 = 63    \n",
      "2 * 8 = 16    3 * 8 = 24    4 * 8 = 32    5 * 8 = 40    6 * 8 = 48    7 * 8 = 56    8 * 8 = 64    9 * 8 = 72    \n",
      "2 * 9 = 18    3 * 9 = 27    4 * 9 = 36    5 * 9 = 45    6 * 9 = 54    7 * 9 = 63    8 * 9 = 72    9 * 9 = 81    "
     ]
    }
   ],
   "source": [
    "for x in range(1,10): \n",
    "    print()\n",
    "    for y in range(2,10): # 단(2,3,4단)\n",
    "        print(y, '*',x,'=', x*y, end=\"    \")"
   ]
  },
  {
   "cell_type": "code",
   "execution_count": 54,
   "metadata": {},
   "outputs": [
    {
     "data": {
      "text/plain": [
       "[0, 1, 2, 3, 4, 5, 6, 7, 8, 9]"
      ]
     },
     "execution_count": 54,
     "metadata": {},
     "output_type": "execute_result"
    }
   ],
   "source": [
    "# 내장함수 : 동적으로 데이터 생성\n",
    "[i for i in range(10)]"
   ]
  },
  {
   "cell_type": "code",
   "execution_count": 59,
   "metadata": {},
   "outputs": [
    {
     "data": {
      "text/plain": [
       "[0, 1, 4, 9, 16, 25, 36, 49, 64, 81]"
      ]
     },
     "execution_count": 59,
     "metadata": {},
     "output_type": "execute_result"
    }
   ],
   "source": [
    "[i**2 for i in range(10)] # list"
   ]
  },
  {
   "cell_type": "code",
   "execution_count": 60,
   "metadata": {},
   "outputs": [
    {
     "data": {
      "text/plain": [
       "{0: 0, 1: 1, 2: 8, 3: 27, 4: 64, 5: 125, 6: 216, 7: 343, 8: 512, 9: 729}"
      ]
     },
     "execution_count": 60,
     "metadata": {},
     "output_type": "execute_result"
    }
   ],
   "source": [
    "{i: i**3 for i in range(10)} # dict"
   ]
  },
  {
   "cell_type": "code",
   "execution_count": 61,
   "metadata": {},
   "outputs": [
    {
     "data": {
      "text/plain": [
       "[0, 4, 16, 36, 64]"
      ]
     },
     "execution_count": 61,
     "metadata": {},
     "output_type": "execute_result"
    }
   ],
   "source": [
    "[i**2 for i in range(10) if i%2 == 0] # 판단문 추가"
   ]
  },
  {
   "cell_type": "code",
   "execution_count": 63,
   "metadata": {},
   "outputs": [
    {
     "data": {
      "text/plain": [
       "[(1, 10),\n",
       " (1, 11),\n",
       " (1, 12),\n",
       " (1, 13),\n",
       " (1, 14),\n",
       " (2, 10),\n",
       " (2, 11),\n",
       " (2, 12),\n",
       " (2, 13),\n",
       " (2, 14),\n",
       " (3, 10),\n",
       " (3, 11),\n",
       " (3, 12),\n",
       " (3, 13),\n",
       " (3, 14),\n",
       " (4, 10),\n",
       " (4, 11),\n",
       " (4, 12),\n",
       " (4, 13),\n",
       " (4, 14)]"
      ]
     },
     "execution_count": 63,
     "metadata": {},
     "output_type": "execute_result"
    }
   ],
   "source": [
    "#for r in rows:\n",
    "#    for c in cols:\n",
    "#        (r,c)\n",
    "\n",
    "rows = range(1,5)\n",
    "cols = range(10,15)\n",
    "vectors = [(r,c) for r in rows for c in cols ]\n",
    "vectors"
   ]
  },
  {
   "cell_type": "code",
   "execution_count": 66,
   "metadata": {},
   "outputs": [
    {
     "data": {
      "text/plain": [
       "[1,\n",
       " 2,\n",
       " '3의 배수',\n",
       " 4,\n",
       " '5의 배수',\n",
       " '3의 배수',\n",
       " 7,\n",
       " 8,\n",
       " '3의 배수',\n",
       " '5의 배수',\n",
       " 11,\n",
       " '3의 배수',\n",
       " 13,\n",
       " 14,\n",
       " '3의 배수5의 배수',\n",
       " 16,\n",
       " 17,\n",
       " '3의 배수',\n",
       " 19,\n",
       " '5의 배수']"
      ]
     },
     "execution_count": 66,
     "metadata": {},
     "output_type": "execute_result"
    }
   ],
   "source": [
    "# 3의 배수 혹은(+) 5의 배수에서는 숫자 출력 대신 문자열 출력\n",
    "# 문자열 연산자 +, *(반복)\n",
    "# 앞이 참이면, 뒤의 것은 계산하지 않음\n",
    "# True == 1, False == 0\n",
    "\n",
    "[\"3의 배수\" * (i%3==0) + \"5의 배수\" * (i%5==0) or i for i in range(1,21)]"
   ]
  },
  {
   "cell_type": "code",
   "execution_count": 74,
   "metadata": {},
   "outputs": [
    {
     "name": "stdout",
     "output_type": "stream",
     "text": [
      "점수를 입력하세요 : 50\n",
      "F학점\n",
      "점수를 입력하세요 : 0\n"
     ]
    }
   ],
   "source": [
    "# 정수를 입력받아 A,B,C,D,F 학점으로 출력하시오. (점수를 학점으로 mapping 시키시오.)\n",
    "\n",
    "# score = int(input(\"점수를 입력하세요 : \"))\n",
    "# #grade = [\"A\",\"B\",\"C\",\"D\",\"E\"]\n",
    "\n",
    "# [\"A\" * (score >= 90 <=100) + \"B\" * (score>=80 and score < 90) + \"C\" * (score>=70 and score < 80) + \"D\" * (score >= 60 and score < 70) + \"F\" * (score<60)]\n",
    "\n",
    "while True: # 무한루프\n",
    "    score = int(input(\"점수를 입력하세요 : \"))\n",
    "    if score == 0 : # 무한루프인 경우 종료조건 반드시 지정!\n",
    "        break       # 반복문 종료\n",
    "    if score >= 90: print(\"A학점\")\n",
    "    elif score >= 80: print(\"B학점\")\n",
    "    elif score >= 80: print(\"C학점\")\n",
    "    elif score >= 80: print(\"D학점\")\n",
    "    else: print(\"F학점\")\n"
   ]
  },
  {
   "cell_type": "code",
   "execution_count": 78,
   "metadata": {},
   "outputs": [
    {
     "name": "stdout",
     "output_type": "stream",
     "text": [
      "번호를 입력하세요 : 11\n",
      "이름을 입력하세요 : 124\n",
      "국어 점수를 입력하세요 : 1\n",
      "영어 점수를 입력하세요 : 23\n",
      "수학 점수를 입력하세요 : 4\n",
      "번호를 입력하세요 : 56\n",
      "이름을 입력하세요 : 2\n",
      "국어 점수를 입력하세요 : 3\n",
      "영어 점수를 입력하세요 : \n",
      "수학 점수를 입력하세요 : 2\n",
      "번호를 입력하세요 : 6\n",
      "이름을 입력하세요 : 4\n",
      "국어 점수를 입력하세요 : 3\n",
      "영어 점수를 입력하세요 : 2\n",
      "수학 점수를 입력하세요 : 3\n",
      "[['11', '124', '1', '23', '4'], ['56', '2', '3', '', '2'], ['6', '4', '3', '2', '3']]\n"
     ]
    }
   ],
   "source": [
    "# 번호 국어 영어 수학 점수를 입력하는 프로그램 작성( 3명 분 )\n",
    "# 2차원 리스트로 생성.\n",
    "\n",
    "final = []\n",
    "for i in range(3):\n",
    "    sungjuk = [] # 주소값 저장 -> if 전역변수로 빼면 한 번만 초기화 되기 때문에 리스트 하나에 3명 분 데이터가 다 들어가고 * 3 됨\n",
    "    num = input(\"번호를 입력하세요 : \")\n",
    "    name = input(\"이름을 입력하세요 : \")\n",
    "    kor = input(\"국어 점수를 입력하세요 : \")\n",
    "    eng = input(\"영어 점수를 입력하세요 : \")\n",
    "    math = input(\"수학 점수를 입력하세요 : \")\n",
    "    \n",
    "    sungjuk.append(num)   # sungjuk 리스트에 번호(num) 데이터 추가\n",
    "    sungjuk.append(name)  # sungjuk 리스트에 이름(name) 데이터 추가\n",
    "    sungjuk.append(kor)   # sungjuk 리스트에 국어 점수(kor) 데이터 추가\n",
    "    sungjuk.append(eng)   # sungjuk 리스트에 영어 점수(eng) 데이터 추가\n",
    "    sungjuk.append(math)  # sungjuk 리스트에 수학 점수(math) 데이터 추가\n",
    "    final.append(sungjuk) # final 리스트에 성적 데이터(번호, 이름, 국어, 영어, 수학) 추가\n",
    "\n",
    "print(final)"
   ]
  },
  {
   "cell_type": "code",
   "execution_count": 176,
   "metadata": {
    "scrolled": true
   },
   "outputs": [
    {
     "name": "stdout",
     "output_type": "stream",
     "text": [
      "번호를 입력하세요 : 1\n",
      "이름을 입력하세요 : 이윤지\n",
      "국어 점수를 입력하세요 : 65\n",
      "영어 점수를 입력하세요 : 86\n",
      "수학 점수를 입력하세요 : 34\n",
      "번호를 입력하세요 : 2\n",
      "이름을 입력하세요 : 이소정\n",
      "국어 점수를 입력하세요 : 65\n",
      "영어 점수를 입력하세요 : 85\n",
      "수학 점수를 입력하세요 : 34\n",
      "번호를 입력하세요 : 3\n",
      "이름을 입력하세요 : 박주은\n",
      "국어 점수를 입력하세요 : 75\n",
      "영어 점수를 입력하세요 : 84\n",
      "수학 점수를 입력하세요 : 56\n",
      "[['1', '이윤지', 65, 86, 34, 185, 61.67], ['2', '이소정', 65, 85, 34, 184, 61.33], ['3', '박주은', 75, 84, 56, 215, 71.67]]\n"
     ]
    }
   ],
   "source": [
    "# 문제) 합계와 평균을 구해서 추가시켜 보시오.\n",
    "# 평균은 소수점 3째 자리에서 반올림하고, 2째자리까지 표현하시오.\n",
    "\n",
    "final = []\n",
    "for i in range(3):\n",
    "    sungjuk = []\n",
    "    num = input(\"번호를 입력하세요 : \")\n",
    "    name = input(\"이름을 입력하세요 : \")\n",
    "    kor = int(input(\"국어 점수를 입력하세요 : \"))\n",
    "    eng = int(input(\"영어 점수를 입력하세요 : \"))\n",
    "    math = int(input(\"수학 점수를 입력하세요 : \"))\n",
    "    \n",
    "    hap = kor + eng + math\n",
    "    avg = round(hap / 3, 2)\n",
    "    \n",
    "#     if avg >= 90 :\n",
    "#         grade = \"A\"\n",
    "#     elif avg >= 80:\n",
    "#         grade = \"B\"\n",
    "#     elif avg >= 70:\n",
    "#         grade = \"C\"\n",
    "#     elif avg >= 60:\n",
    "#         grade = \"D\"\n",
    "#     else:\n",
    "#         grade = \"F\"    \n",
    "    \n",
    "    #프로그램은 순서적으로 실행됨 : 순서를 변경하는 것 - 제어문과 함수\n",
    "    # 순서가 있는 자료구조\n",
    "    sungjuk.append(num)\n",
    "    sungjuk.append(name)\n",
    "    sungjuk.append(kor)\n",
    "    sungjuk.append(eng)\n",
    "    sungjuk.append(math)\n",
    "    sungjuk.append(hap)\n",
    "    sungjuk.append(avg)\n",
    "    \n",
    "    final.append(sungjuk)\n",
    "\n",
    "print(final)"
   ]
  },
  {
   "cell_type": "code",
   "execution_count": 177,
   "metadata": {
    "scrolled": true
   },
   "outputs": [
    {
     "name": "stdout",
     "output_type": "stream",
     "text": [
      "[['1', '이윤지', 65, 86, 34, 185, 61.67], ['2', '이소정', 65, 85, 34, 184, 61.33], ['3', '박주은', 75, 84, 56, 215, 71.67]]\n"
     ]
    }
   ],
   "source": [
    "# 정렬하고 싶은 경우 ( 이름으로 정렬하고 싶다 )\n",
    "# 기본 데이터 타입 : string, int, float, list, dict, set, tuple\n",
    "# 파이썬은 모든 것이 객체(변수+함수) : 사용자 정의 데이터 타입\n",
    "\n",
    "final.sort() # 첫번째 데이터로 정렬\n",
    "print(final)"
   ]
  },
  {
   "cell_type": "code",
   "execution_count": 178,
   "metadata": {},
   "outputs": [
    {
     "name": "stdout",
     "output_type": "stream",
     "text": [
      "[['3', '박주은', 75, 84, 56, 215, 71.67], ['2', '이소정', 65, 85, 34, 184, 61.33], ['1', '이윤지', 65, 86, 34, 185, 61.67]]\n",
      "[['1', '이윤지', 65, 86, 34, 185, 61.67], ['2', '이소정', 65, 85, 34, 184, 61.33], ['3', '박주은', 75, 84, 56, 215, 71.67]]\n"
     ]
    }
   ],
   "source": [
    "# key 값에 함수가 들어가게 되어있음. : 함수를 키로 한다. : 1인분 데이터 전달( 번호, 이름 , 국어, 영어, 수학 점수)\n",
    "\n",
    "def getKey(a1):\n",
    "    return a1[1]\n",
    "\n",
    "final.sort(key=getKey)\n",
    "print(final)\n",
    "\n",
    "final.sort(key=getKey, reverse = True)\n",
    "print(final)"
   ]
  },
  {
   "cell_type": "code",
   "execution_count": 183,
   "metadata": {},
   "outputs": [
    {
     "name": "stdout",
     "output_type": "stream",
     "text": [
      "[['1', '이윤지', 65, 86, 34, 185, 61.67, 2, 2], ['2', '이소정', 65, 85, 34, 184, 61.33, 3, 3], ['3', '박주은', 75, 84, 56, 215, 71.67, 1, 1]]\n"
     ]
    }
   ],
   "source": [
    "# lambda 함수 : 무명함수, 간단한 함수를 작성할 때 사용. 위의 getKey()함수는 활용성이 X\n",
    "# getKey = lambda row: row[1]\n",
    "final.sort(key=lambda row: row[1], reverse = True) # row는 변수 이름. a1과 같다고 생각하면 됨\n",
    "print(final)"
   ]
  },
  {
   "cell_type": "code",
   "execution_count": 184,
   "metadata": {},
   "outputs": [],
   "source": [
    "# 등수를 입력하는 필드를 추가하시오.\n",
    "final.sort(key=lambda row: row[5], reverse = True) # 총점 중심, 내림차순\n",
    "\n",
    "rank = 0\n",
    "for i in range(len(final)):\n",
    "    rank += 1\n",
    "    final[i].append(rank)"
   ]
  },
  {
   "cell_type": "code",
   "execution_count": 185,
   "metadata": {},
   "outputs": [
    {
     "name": "stdout",
     "output_type": "stream",
     "text": [
      "[['3', '박주은', 75, 84, 56, 215, 71.67, 1, 1, 1], ['1', '이윤지', 65, 86, 34, 185, 61.67, 2, 2, 2], ['2', '이소정', 65, 85, 34, 184, 61.33, 3, 3, 3]]\n"
     ]
    }
   ],
   "source": [
    "final.sort(key=lambda row: row[7])\n",
    "print(final)"
   ]
  },
  {
   "cell_type": "code",
   "execution_count": 189,
   "metadata": {
    "scrolled": true
   },
   "outputs": [
    {
     "name": "stdout",
     "output_type": "stream",
     "text": [
      "번호 이름 국어 수학 영어 합계 평균 순위 "
     ]
    },
    {
     "ename": "IndexError",
     "evalue": "list index out of range",
     "output_type": "error",
     "traceback": [
      "\u001b[1;31m---------------------------------------------------------------------------\u001b[0m",
      "\u001b[1;31mIndexError\u001b[0m                                Traceback (most recent call last)",
      "\u001b[1;32m<ipython-input-189-47cbaddb69a4>\u001b[0m in \u001b[0;36m<module>\u001b[1;34m\u001b[0m\n\u001b[0;32m      6\u001b[0m     \u001b[0mhap_list\u001b[0m \u001b[1;33m=\u001b[0m \u001b[1;33m[\u001b[0m\u001b[1;34m\"번호\"\u001b[0m\u001b[1;33m,\u001b[0m\u001b[1;34m\"이름\"\u001b[0m\u001b[1;33m,\u001b[0m\u001b[1;34m\"국어\"\u001b[0m\u001b[1;33m,\u001b[0m\u001b[1;34m\"수학\"\u001b[0m\u001b[1;33m,\u001b[0m\u001b[1;34m\"영어\"\u001b[0m\u001b[1;33m,\u001b[0m\u001b[1;34m\"합계\"\u001b[0m\u001b[1;33m,\u001b[0m\u001b[1;34m\"평균\"\u001b[0m\u001b[1;33m,\u001b[0m\u001b[1;34m\"순위\"\u001b[0m\u001b[1;33m]\u001b[0m\u001b[1;33m\u001b[0m\u001b[1;33m\u001b[0m\u001b[0m\n\u001b[0;32m      7\u001b[0m     \u001b[1;32mfor\u001b[0m \u001b[0mj\u001b[0m \u001b[1;32min\u001b[0m \u001b[0mrange\u001b[0m\u001b[1;33m(\u001b[0m\u001b[0mlen\u001b[0m\u001b[1;33m(\u001b[0m\u001b[0mfinal\u001b[0m\u001b[1;33m[\u001b[0m\u001b[1;36m0\u001b[0m\u001b[1;33m]\u001b[0m\u001b[1;33m)\u001b[0m\u001b[1;33m)\u001b[0m\u001b[1;33m:\u001b[0m\u001b[1;33m\u001b[0m\u001b[1;33m\u001b[0m\u001b[0m\n\u001b[1;32m----> 8\u001b[1;33m         \u001b[0mprint\u001b[0m\u001b[1;33m(\u001b[0m\u001b[0mhap_list\u001b[0m\u001b[1;33m[\u001b[0m\u001b[0mj\u001b[0m\u001b[1;33m]\u001b[0m\u001b[1;33m,\u001b[0m \u001b[0mend\u001b[0m\u001b[1;33m=\u001b[0m \u001b[1;34m' '\u001b[0m\u001b[1;33m)\u001b[0m\u001b[1;33m\u001b[0m\u001b[1;33m\u001b[0m\u001b[0m\n\u001b[0m\u001b[0;32m      9\u001b[0m \u001b[1;32mfor\u001b[0m \u001b[0mi\u001b[0m \u001b[1;32min\u001b[0m \u001b[0mrange\u001b[0m\u001b[1;33m(\u001b[0m\u001b[0mlen\u001b[0m\u001b[1;33m(\u001b[0m\u001b[0mfinal\u001b[0m\u001b[1;33m)\u001b[0m\u001b[1;33m)\u001b[0m\u001b[1;33m:\u001b[0m\u001b[1;33m\u001b[0m\u001b[1;33m\u001b[0m\u001b[0m\n\u001b[0;32m     10\u001b[0m     \u001b[0mprint\u001b[0m\u001b[1;33m(\u001b[0m\u001b[0mend\u001b[0m \u001b[1;33m=\u001b[0m \u001b[1;34m\"\\n\"\u001b[0m\u001b[1;33m)\u001b[0m\u001b[1;33m\u001b[0m\u001b[1;33m\u001b[0m\u001b[0m\n",
      "\u001b[1;31mIndexError\u001b[0m: list index out of range"
     ]
    }
   ],
   "source": [
    "rank = 0\n",
    "for i in range(len(final)):\n",
    "    rank += 1\n",
    "    final[i].append(rank)\n",
    "final.sort(key = lambda row: row[0])\n",
    "hap_list = [\"번호\",\"이름\",\"국어\",\"수학\",\"영어\",\"합계\",\"평균\",\"순위\"]\n",
    "for j in range(len(final[0])):\n",
    "    print(hap_list[j], end= ' ')\n",
    "for i in range(len(final)):\n",
    "    print(end = \"\\n\")\n",
    "    for j in range(8):\n",
    "        print(final[i][j], end = ' ' )"
   ]
  },
  {
   "cell_type": "code",
   "execution_count": null,
   "metadata": {},
   "outputs": [],
   "source": [
    "# 문제 number guess( 숫자 맞추기 게임 1:1 )\n",
    "# 1) 컴퓨터는 숫자를 랜덤으로 발생시킵니다. ( 1 ~ 100 )\n",
    "# 2) 사용자는 숫자를 입력합니다.\n",
    "# 3) 컴퓨터가 낸 숫자와 사용자가 입력한 숫자가 일치하는지 확인하고 일치하면 확인하고, 다시 다음 게임으로 진행합니다.\n",
    "# 4) 만약 맞추지 못하였으면, 사용자가 입력한 숫자가 컴퓨터가 갖고 있는 수보다 큰지 작은지를 알려줍니다.\n",
    "# 5) 무한루프로 진행하던 게임은 q가 눌리면 종료합니다.\n",
    "# 6) 몇회만에 맞추었는지를 확인하여 출력해 줍니다.\n",
    "# 7) 총 진행 횟수하고 guess 횟수를 누적시킨 다음 평균 시도횟수를 출력하시오."
   ]
  },
  {
   "cell_type": "code",
   "execution_count": 7,
   "metadata": {
    "scrolled": true
   },
   "outputs": [
    {
     "name": "stdout",
     "output_type": "stream",
     "text": [
      "숫자를 입력하세요 : 80\n",
      "선정수가 입력값보다 큽니다.\n",
      "숫자를 입력하세요 : 90\n",
      "선정수가 입력값보다 큽니다.\n",
      "숫자를 입력하세요 : 100\n",
      "선정수가 입력값보다 작습니다.\n",
      "숫자를 입력하세요 : 95\n",
      "선정수가 입력값보다 큽니다.\n",
      "숫자를 입력하세요 : 96\n",
      "정답!\n",
      "숫자를 입력하세요 : 90\n",
      "정답!\n",
      "숫자를 입력하세요 : q\n",
      "총 게임 수 2 이긴 횟수 :  2\n",
      "평균시도횟수 3.0\n"
     ]
    },
    {
     "ename": "SystemExit",
     "evalue": "0",
     "output_type": "error",
     "traceback": [
      "An exception has occurred, use %tb to see the full traceback.\n",
      "\u001b[1;31mSystemExit\u001b[0m\u001b[1;31m:\u001b[0m 0\n"
     ]
    }
   ],
   "source": [
    "# 필요한 변수 : 컴퓨터 선정수, 사용자 입력, 총 횟수, 평균시도 횟수\n",
    "# 경우의 수는 3가지( 정답, 작은 경우, 큰 경우)\n",
    "# 전체 게임 횟수와 이긴 횟수\n",
    "# 평균 시도횟수를 계산하기 위해서 변수를 정의하고 계산\n",
    "\n",
    "from random import randint\n",
    "import sys\n",
    "\n",
    "tot_game = 0 #전체 게임 횟수\n",
    "win = 0 # 정답인 경우\n",
    "\n",
    "tot_attempt = [] # 전체 시도횟수\n",
    "\n",
    "while True:\n",
    "    n = randint(1, 101)\n",
    "    tot_game += 1\n",
    "    game = 0 # 1회당 게임 횟수\n",
    "    while True:\n",
    "        num = input(\"숫자를 입력하세요 : \")\n",
    "        game += 1\n",
    "        if num == \"Q\" or num == \"q\":\n",
    "            print(\"총 게임 수\", tot_game-1, \"이긴 횟수 : \", win)\n",
    "            game_tot = sum(tot_attempt)\n",
    "            print(\"평균시도횟수\", game_tot/(tot_game - 1) )\n",
    "            sys.exit(0) # 프로그램 종료\n",
    "        else:\n",
    "            num = int(num)\n",
    "            if n == num:\n",
    "                cnt += 1\n",
    "                print(\"정답!\"); win += 1; tot_attempt.append(game)\n",
    "                break\n",
    "            else:\n",
    "                if n > num:\n",
    "                    cnt += 1\n",
    "                    print(\"선정수가 입력값보다 큽니다.\")\n",
    "                else:\n",
    "                    cnt += 1\n",
    "                    print(\"선정수가 입력값보다 작습니다.\")"
   ]
  },
  {
   "cell_type": "code",
   "execution_count": 8,
   "metadata": {},
   "outputs": [],
   "source": [
    "# 문제 1) 제곱미터로 입력되는 아파트 면적을 평형으로 계산하여 종류를 (30평을 기준으로) 판정하는 프로그램 작성\n",
    "# 소형(17), 중소형(25), 중형(30)\n",
    "# 평형 수 = 제곱미터 / 3.305"
   ]
  },
  {
   "cell_type": "code",
   "execution_count": 24,
   "metadata": {},
   "outputs": [
    {
     "name": "stdout",
     "output_type": "stream",
     "text": [
      "아파트 면적을 입력하세요(제곱미터) : 34\n",
      "평수 :  10.29 , 아파트 유형은 소형입니다.\n"
     ]
    }
   ],
   "source": [
    "mm = int(input(\"아파트 면적을 입력하세요(제곱미터) : \"))\n",
    "apt = round(mm/3.305, 2)\n",
    "\n",
    "\n",
    "if apt >= 30 :\n",
    "    print(\"평수 : \", apt, \", 아파트 유형은 중형입니다.\")\n",
    "elif apt < 30 and apt >= 25:\n",
    "    print(\"평수 : \", apt, \", 아파트 유형은 중소형입니다.\")\n",
    "else:\n",
    "    print(\"평수 : \", apt, \", 아파트 유형은 소형입니다.\")"
   ]
  },
  {
   "cell_type": "code",
   "execution_count": 13,
   "metadata": {},
   "outputs": [],
   "source": [
    "# 문제 2) 날 수를 입력하면 이를 초로 변경하는 프로그램 작성"
   ]
  },
  {
   "cell_type": "code",
   "execution_count": 16,
   "metadata": {},
   "outputs": [
    {
     "name": "stdout",
     "output_type": "stream",
     "text": [
      "일 수를 입력하세요 : 2\n",
      "172800 초\n"
     ]
    }
   ],
   "source": [
    "day = int(input(\"일 수를 입력하세요 : \"))\n",
    "\n",
    "second = day*24*60*60 # second = day * 24 * 3600\n",
    "print(second, \"초\")"
   ]
  },
  {
   "cell_type": "code",
   "execution_count": null,
   "metadata": {},
   "outputs": [],
   "source": [
    "# 문제 3) 득세 계산 : 소득 세율표를 구해보고 이를 이용하여 소득이 들어오면 세금이 얼마인지 계산해 보시오\n",
    "# (연봉. 단순히 세율만 적용합니다.)\n",
    "# 1천 만원 미만시 연봉 9.5%, 1천 ~ 4천 : 19%, 4천 ~ 8천 : 28%, 8천 이상 : 37%"
   ]
  },
  {
   "cell_type": "code",
   "execution_count": 26,
   "metadata": {},
   "outputs": [
    {
     "name": "stdout",
     "output_type": "stream",
     "text": [
      "연봉을 입력하세요(단위:만원) : 4280\n",
      "연봉 : 4280 만원, 세금 : 119.84 만원\n"
     ]
    }
   ],
   "source": [
    "income = int(input(\"연봉을 입력하세요(단위:만원) : \"))\n",
    "\n",
    "if income >= 8000:\n",
    "    tax = income * 0.37\n",
    "elif income >= 4000 and income < 8000:\n",
    "    tax = income * 0.028\n",
    "elif income >= 1000 and income < 4000:\n",
    "    tax = income * 0.019\n",
    "else:\n",
    "    tax = income * 0.095\n",
    "\n",
    "print(\"연봉 :\",income,\"만원,\", \"세금 :\", tax, \"만원\")"
   ]
  },
  {
   "cell_type": "code",
   "execution_count": 29,
   "metadata": {},
   "outputs": [
    {
     "name": "stdout",
     "output_type": "stream",
     "text": [
      "연봉을 입력하시오(단위:원) : 42800000\n",
      "입력하신 연봉은  42800000 원이고 세금은  4066000.0 원입니다.\n"
     ]
    }
   ],
   "source": [
    "# 선생님 답\n",
    "annual_income = int(input(\"연봉을 입력하시오(단위:원) : \"))\n",
    "tax = 0.0\n",
    "if income < 10000000:\n",
    "    tax = annual_income * 0.095\n",
    "elif annual_income < 40000000:\n",
    "    tax = 10000000*0.095 + (annual_income - 10000000) * 0.019\n",
    "elif annual_income < 80000000:\n",
    "    tax = 10000000*0.095 + 30000000*0.019 + (annual_income - 40000000) * 0.028\n",
    "else:\n",
    "    tax = 10000000*0.095 + 30000000*0.019 + 40000000 * 0.028 + (annual_income - 80000000) * 0.037\n",
    "print(\"입력하신 연봉은 \",annual_income,\"원이고 세금은 \",tax,\"원입니다.\")"
   ]
  },
  {
   "cell_type": "code",
   "execution_count": null,
   "metadata": {},
   "outputs": [],
   "source": [
    "# 놀이공원 매표소 단체 입장료 계산하기\n",
    "# 조건 : 팀별 인원 구성을 입력( 초등, 청소년, 일반인, 경로대상)하면 입장료 소견표에\n",
    "# 정산요금 : 초등(5000원), 청소년(10000원), 일반인(15000원), 경로대상(3000원)\n",
    "# 팀별 할인 카드 확인\n",
    "# 카드 없음 : 할인 무, 일반카드 : 10%, VIP : 20%"
   ]
  },
  {
   "cell_type": "code",
   "execution_count": 23,
   "metadata": {},
   "outputs": [
    {
     "name": "stdout",
     "output_type": "stream",
     "text": [
      "초등생 수를 입력하세요 :1\n",
      "청소년 수를 입력하세요 :1\n",
      "일반인 수를 입력하세요 :1\n",
      "경로대상 수를 입력하세요 :1\n",
      "카드 종류를 입력하세요(카드 없음/일반카드/VIP): 일반\n",
      "29700.0\n"
     ]
    }
   ],
   "source": [
    "primary = int(input(\"초등생 수를 입력하세요 :\"))\n",
    "teen = int(input(\"청소년 수를 입력하세요 :\"))\n",
    "adult = int(input(\"일반인 수를 입력하세요 :\"))\n",
    "senior = int(input(\"경로대상 수를 입력하세요 :\"))\n",
    "card = input(\"카드 종류를 입력하세요(카드 없음/일반카드/VIP): \")\n",
    "\n",
    "if card == \"카드 없음\" or card == \"없음\":\n",
    "    total = primary * 5000 + teen * 10000 + adult * 15000 + senior * 3000\n",
    "    print(total)\n",
    "else:\n",
    "    if card == \"일반카드\" or card == \"일반\":\n",
    "        total = (primary * 5000 + teen * 10000 + adult * 15000 + senior * 3000) * 0.9\n",
    "        print(total)\n",
    "    elif card == \"VIP\" or card == \"vip\":\n",
    "        total = (primary * 5000 + teen * 10000 + adult * 15000 + senior * 3000) * 0.8\n",
    "        print(total)"
   ]
  },
  {
   "cell_type": "code",
   "execution_count": 35,
   "metadata": {},
   "outputs": [
    {
     "name": "stdout",
     "output_type": "stream",
     "text": [
      "초등생 수를 입력하세요 :1\n",
      "청소년 수를 입력하세요 :2\n",
      "일반인 수를 입력하세요 :3\n",
      "경로대상 수를 입력하세요 :4\n",
      "카드없음(0), 일반카드(1), VIP(2)를 선택해주세요2\n",
      "총 요금은 65600.0 원 입니다.\n"
     ]
    }
   ],
   "source": [
    "# 선생님 답 - if문 없이 코딩\n",
    "\n",
    "primary = int(input(\"초등생 수를 입력하세요 :\"))\n",
    "teen = int(input(\"청소년 수를 입력하세요 :\"))\n",
    "adult = int(input(\"일반인 수를 입력하세요 :\"))\n",
    "senior = int(input(\"경로대상 수를 입력하세요 :\"))\n",
    "\n",
    "pri_tot = 5000*primary\n",
    "teen_tot = 10000*teen\n",
    "adult_tot = 15000*adult\n",
    "senior_tot = 3000*senior\n",
    "tot = pri_tot + teen_tot + adult_tot + senior_tot\n",
    "\n",
    "card = int(input(\"카드없음(0), 일반카드(1), VIP(2)를 선택해주세요\"))\n",
    "select = [tot, tot*0.9, tot*0.8]\n",
    "print(\"총 요금은\", select[card],\"원 입니다.\")"
   ]
  },
  {
   "cell_type": "code",
   "execution_count": 56,
   "metadata": {
    "scrolled": true
   },
   "outputs": [
    {
     "name": "stdout",
     "output_type": "stream",
     "text": [
      "숫자를 입력하시오: 10\n",
      "*\n",
      "**\n",
      "***\n",
      "****\n",
      "*****\n",
      "******\n",
      "*******\n",
      "********\n",
      "*********\n",
      "**********\n"
     ]
    }
   ],
   "source": [
    "numberOfRows = int(input(\"숫자를 입력하시오: \"))\n",
    "for i in range(numberOfRows):\n",
    "    for j in range(i+1):\n",
    "        print(\"*\", end=\"\")\n",
    "    print()"
   ]
  },
  {
   "cell_type": "code",
   "execution_count": 67,
   "metadata": {
    "scrolled": true
   },
   "outputs": [
    {
     "name": "stdout",
     "output_type": "stream",
     "text": [
      "숫자를 입력하시오: 10\n",
      "          *\n",
      "         ***\n",
      "        *****\n",
      "       *******\n",
      "      *********\n",
      "     ***********\n",
      "    *************\n",
      "   ***************\n",
      "  *****************\n",
      " *******************\n"
     ]
    }
   ],
   "source": [
    "# 1번 : 삼각형\n",
    "\n",
    "numberOfRows = int(input(\"숫자를 입력하시오: \"))\n",
    "for i in range(numberOfRows):\n",
    "    for k in range(numberOfRows-i):\n",
    "        print(\" \", end=\"\")\n",
    "    for j in range(i+1):\n",
    "        print(\"*\", end=\"\")\n",
    "    for m in range(j):\n",
    "        print(\"*\", end=\"\")\n",
    "    print()"
   ]
  },
  {
   "cell_type": "code",
   "execution_count": 53,
   "metadata": {},
   "outputs": [
    {
     "name": "stdout",
     "output_type": "stream",
     "text": [
      "숫자를 입력하세요 : 10\n",
      "**********\n",
      "*********\n",
      "********\n",
      "*******\n",
      "******\n",
      "*****\n",
      "****\n",
      "***\n",
      "**\n",
      "*\n"
     ]
    }
   ],
   "source": [
    "num = int(input(\"숫자를 입력하세요 : \"))\n",
    "\n",
    "for i in range(num):\n",
    "    for j in range(num-i):\n",
    "        print(\"*\", end=\"\")\n",
    "    print()"
   ]
  },
  {
   "cell_type": "code",
   "execution_count": 75,
   "metadata": {},
   "outputs": [
    {
     "name": "stdout",
     "output_type": "stream",
     "text": [
      "숫자를 입력하세요 : 10\n",
      " **********\n",
      "  *********\n",
      "   ********\n",
      "    *******\n",
      "     ******\n",
      "      *****\n",
      "       ****\n",
      "        ***\n",
      "         **\n",
      "          *\n"
     ]
    }
   ],
   "source": [
    "num = int(input(\"숫자를 입력하세요 : \"))\n",
    "\n",
    "for i in range(num):\n",
    "    for k in range(i+1):\n",
    "        print(\" \", end=\"\")\n",
    "    for j in range(num-i):\n",
    "        print(\"*\", end=\"\")\n",
    "    print()"
   ]
  },
  {
   "cell_type": "code",
   "execution_count": 82,
   "metadata": {
    "scrolled": false
   },
   "outputs": [
    {
     "name": "stdout",
     "output_type": "stream",
     "text": [
      "숫자를 입력하시오: 10\n",
      "*\n",
      "**\n",
      "***\n",
      "****\n",
      "*****\n",
      "****\n",
      "***\n",
      "**\n",
      "*\n",
      "\n"
     ]
    }
   ],
   "source": [
    "# 2번 : 옆으로 돌아간 삼각형\n",
    "\n",
    "num = int(input(\"숫자를 입력하시오: \"))\n",
    "for i in range(int(num/2)-1):\n",
    "    for j in range(i+1):\n",
    "        print(\"*\", end=\"\")\n",
    "    print()\n",
    "\n",
    "for i in range(int(num/2)+1):\n",
    "    for j in range(int(num/2)-i):\n",
    "        print(\"*\", end=\"\")\n",
    "    print()"
   ]
  },
  {
   "cell_type": "code",
   "execution_count": 123,
   "metadata": {
    "scrolled": true
   },
   "outputs": [
    {
     "name": "stdout",
     "output_type": "stream",
     "text": [
      "숫자를 입력하시오: 10\n",
      "     *\n",
      "    **\n",
      "   ***\n",
      "  ****\n",
      " *****\n",
      "  ****\n",
      "   ***\n",
      "    **\n",
      "     *\n",
      "      \n"
     ]
    }
   ],
   "source": [
    "num = int(input(\"숫자를 입력하시오: \"))\n",
    "for i in range(int(num/2)-1):\n",
    "    for k in range(int(num/2)-i):\n",
    "        print(\" \", end=\"\")\n",
    "    for j in range(i+1):\n",
    "        print(\"*\", end=\"\")\n",
    "    print()\n",
    "\n",
    "for i in range(int(num/2)+1):\n",
    "    for k in range(i+1):\n",
    "        print(\" \", end=\"\")\n",
    "    for j in range(int(num/2)-i):\n",
    "        print(\"*\", end=\"\")\n",
    "    print()"
   ]
  },
  {
   "cell_type": "code",
   "execution_count": 119,
   "metadata": {
    "scrolled": true
   },
   "outputs": [
    {
     "name": "stdout",
     "output_type": "stream",
     "text": [
      "숫자를 입력하시오: 10\n",
      "*\n",
      "**\n",
      "***\n",
      "****\n",
      "*****\n",
      "******\n",
      "*******\n",
      "********\n",
      "*********\n",
      "**********\n",
      "*********\n",
      "********\n",
      "*******\n",
      "******\n",
      "*****\n",
      "****\n",
      "***\n",
      "**\n",
      "*\n"
     ]
    }
   ],
   "source": [
    "num = int(input(\"숫자를 입력하시오: \"))\n",
    "for i in range(num-1):\n",
    "    for j in range(i+1):\n",
    "        print(\"*\", end=\"\")\n",
    "    print()\n",
    "\n",
    "for i in range(num):\n",
    "    for j in range(num-i):\n",
    "        print(\"*\", end=\"\")\n",
    "    print()"
   ]
  },
  {
   "cell_type": "code",
   "execution_count": null,
   "metadata": {},
   "outputs": [],
   "source": []
  },
  {
   "cell_type": "code",
   "execution_count": null,
   "metadata": {},
   "outputs": [],
   "source": []
  },
  {
   "cell_type": "code",
   "execution_count": null,
   "metadata": {},
   "outputs": [],
   "source": []
  }
 ],
 "metadata": {
  "kernelspec": {
   "display_name": "Python 3",
   "language": "python",
   "name": "python3"
  },
  "language_info": {
   "codemirror_mode": {
    "name": "ipython",
    "version": 3
   },
   "file_extension": ".py",
   "mimetype": "text/x-python",
   "name": "python",
   "nbconvert_exporter": "python",
   "pygments_lexer": "ipython3",
   "version": "3.7.4"
  }
 },
 "nbformat": 4,
 "nbformat_minor": 2
}
