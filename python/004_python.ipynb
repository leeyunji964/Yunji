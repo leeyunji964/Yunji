{
 "cells": [
  {
   "cell_type": "markdown",
   "metadata": {},
   "source": [
    "## 객체지향 프로그래밍( class(꼴) => (intstance : 메모리 확보)  Object(객체) )\n",
    "\n",
    "- class : 멤버변수(속성) + 멤버함수\n",
    "- 인스턴스할 때 멤버변수(속성)를 저장하는 공간만 확보함. * 함수는 한 번만 지정됨"
   ]
  },
  {
   "cell_type": "code",
   "execution_count": 2,
   "metadata": {},
   "outputs": [
    {
     "name": "stdout",
     "output_type": "stream",
     "text": [
      "삼각형의 넓이는  100.0\n"
     ]
    }
   ],
   "source": [
    "width = 10 # 직접 초기화\n",
    "height = 20\n",
    "area = 10 * 20 /2\n",
    "\n",
    "print(\"삼각형의 넓이는 \",area)"
   ]
  },
  {
   "cell_type": "code",
   "execution_count": 6,
   "metadata": {
    "scrolled": true
   },
   "outputs": [
    {
     "name": "stdout",
     "output_type": "stream",
     "text": [
      "10 20 100.0\n"
     ]
    }
   ],
   "source": [
    "class Triangle:\n",
    "    def setData(self, width, height): # 함수를 이용한 초기화\n",
    "        self.width = width\n",
    "        self.height = height\n",
    "        \n",
    "    def area(self): # 실행할 땐 self 안 침. 매개변수 취급을 하지 않음.\n",
    "        return self.width*self.height/2\n",
    "\n",
    "tri1 = Triangle() # 인스턴스 한다. : () 함수처럼\n",
    "tri1.setData(10,20) # 실시간으로 변수공간 확보\n",
    "print(tri1.width, tri1.height, tri1.area())"
   ]
  },
  {
   "cell_type": "code",
   "execution_count": 7,
   "metadata": {},
   "outputs": [
    {
     "name": "stdout",
     "output_type": "stream",
     "text": [
      "10 20 100.0\n"
     ]
    }
   ],
   "source": [
    "# __init__ : Object 안에 있는 함수(상속) = \"__함수명__\" << object 내에 있는 모든 함수가 자동으로 상속받음.\n",
    "# 상속 : 클래스를 생성하면 자동으로 부모 클래스의 기능을 물려받아서 사용할 수 있는 기능.\n",
    "\n",
    "class Triangle:\n",
    "    def __init__(self, width, height): # 초기화 함수. 생성자, 강제로 호출 불가한 함수\n",
    "        self.width = width\n",
    "        self.height = height\n",
    "        \n",
    "    def area(self): # 실행할 땐 self 안 침. 매개변수 취급을 하지 않음.\n",
    "        return self.width*self.height/2\n",
    "\n",
    "tri1 = Triangle(10,20)\n",
    "# tri1.__init__(10,20) # 불가. 대신 인스턴스 할 때 자동으로 호출\n",
    "print(tri1.width, tri1.height, tri1.area())"
   ]
  },
  {
   "cell_type": "code",
   "execution_count": 9,
   "metadata": {},
   "outputs": [
    {
     "data": {
      "text/plain": [
       "' 클래스의 예 '"
      ]
     },
     "execution_count": 9,
     "metadata": {},
     "output_type": "execute_result"
    }
   ],
   "source": [
    "# 클래스 내에는 클래스 변수, 멤버 변수, 지역 변수가 있음.\n",
    "class MyClass(object): # 선언하는 순간에 메모리에 자리를 잡음. (Object)는 생략 가능.(명시적으로 써줄 뿐)\n",
    "    \"\"\" 클래스의 예 \"\"\"\n",
    "    i = 12345 # 바깥에서 정의된 변수 : 클래스 변수(공용 변수)\n",
    "    \n",
    "    def __init__(self):\n",
    "        self.i = 54321 # self.가 붙으면 멤버변수 - class 종료 후에도 메모리에 남아있음.\n",
    "        num = 100      # self도 없으면 지역변수\n",
    "        \n",
    "    def f(self):\n",
    "        return self.i\n",
    "    \n",
    "MyClass.__doc__ # object의 속성을 출력 - 문자열 출력"
   ]
  },
  {
   "cell_type": "code",
   "execution_count": 10,
   "metadata": {},
   "outputs": [
    {
     "name": "stdout",
     "output_type": "stream",
     "text": [
      "12345\n"
     ]
    }
   ],
   "source": [
    "print(MyClass.i) # 인스턴스 하지 않고도 호출 가능"
   ]
  },
  {
   "cell_type": "code",
   "execution_count": 11,
   "metadata": {},
   "outputs": [
    {
     "name": "stdout",
     "output_type": "stream",
     "text": [
      "54321\n"
     ]
    },
    {
     "data": {
      "text/plain": [
       "54321"
      ]
     },
     "execution_count": 11,
     "metadata": {},
     "output_type": "execute_result"
    }
   ],
   "source": [
    "myclass = MyClass() # self.i에 대한 메모리 확보\n",
    "print(myclass.i) # 멤버변수 호출\n",
    "myclass.i"
   ]
  },
  {
   "cell_type": "code",
   "execution_count": 13,
   "metadata": {},
   "outputs": [
    {
     "name": "stdout",
     "output_type": "stream",
     "text": [
      "12345\n",
      "54321\n"
     ]
    }
   ],
   "source": [
    "print(MyClass.i)\n",
    "print(MyClass().i) # MyClass로 만들고 i를 호출 -> 참조가 없기 때문에, 사용과 동시에 메모리에서 사라짐."
   ]
  },
  {
   "cell_type": "code",
   "execution_count": 14,
   "metadata": {},
   "outputs": [
    {
     "name": "stdout",
     "output_type": "stream",
     "text": [
      "생성 Mon Dec 30 11:04:50 2019\n",
      "Sleeping for 3 sec\n",
      "사망 Mon Dec 30 11:04:53 2019\n"
     ]
    }
   ],
   "source": [
    "from time import time, ctime, sleep\n",
    "# 시간은 초로 관리 - ctime : convert(문자열로 바꿔라)\n",
    "\n",
    "class Life:\n",
    "    def __init__(self): # 생성자 : 메모리에 만들어지면서 호출됨\n",
    "        self.birth = ctime() # 현재의 시간을 문자열로 변환\n",
    "        print('생성', self.birth)\n",
    "        \n",
    "    def __del__(self): # 소멸자 : 메모리에서 사라질 때 자동으로 호출됨\n",
    "        print('사망', ctime())\n",
    "        \n",
    "    def test(self):\n",
    "        #mylife = Life()\n",
    "        print('Sleeping for 3 sec')\n",
    "        sleep(3)\n",
    "        \n",
    "li = Life() # 오른쪽은 heap에 저장, 왼쪽은 그 주소를 가리키는 stack에 저장. / li가 만들어지면서 __init__  호출\n",
    "li.test() # li의 test() 호출\n",
    "del li # li(왼쪽 변수 : stack에 저장됨) 삭제 -> def __del__ 호출 / 자동으로 가비지 컬렉션이 됨."
   ]
  },
  {
   "cell_type": "code",
   "execution_count": 38,
   "metadata": {},
   "outputs": [],
   "source": [
    "# 사원관리\n",
    "\n",
    "class Employee:\n",
    "    empCount = 0 # 사원 수를 저장 : 클래스 변수 생성\n",
    "    \n",
    "    def __init__(self, name, salary):\n",
    "        self.name = name # 이름\n",
    "        self.salary = salary # 급여\n",
    "        Employee.empCount += 1 # 사원 수 증가\n",
    "        \n",
    "    def displayCount(self):\n",
    "        print(\"직원 수 = %d\" % Employee.empCount)\n",
    "        \n",
    "    def displayEmployee(self):\n",
    "        print(\"이름 : \", self.name, \", 급여 : \", self.salary)\n",
    "    \n",
    "    def __call__(self, *pargs, **kargs):\n",
    "        print('Called : ', pargs, kargs)"
   ]
  },
  {
   "cell_type": "code",
   "execution_count": 48,
   "metadata": {},
   "outputs": [
    {
     "name": "stdout",
     "output_type": "stream",
     "text": [
      "직원 수 = 3\n",
      "직원 수 = 4\n",
      "직원 수 = 4\n",
      "이름 :  김종호 , 급여 :  500\n",
      "None\n",
      "이름 :  빅데타 , 급여 :  500\n",
      "None\n",
      "Called :  ('빅데타', 500, 100) {'c': 100}\n",
      "None\n"
     ]
    }
   ],
   "source": [
    "emp = Employee(\"김종호\",500)\n",
    "emp.displayCount()\n",
    "#print(emp.displayCount()) # 1\n",
    "\n",
    "emp1 = Employee(\"빅데타\", 500)\n",
    "emp1.displayCount()\n",
    "#print(emp.displayCount()) # 2\n",
    "emp.displayCount()\n",
    "#print(emp.displayCount()) # 2\n",
    "\n",
    "print(emp.displayEmployee()) # 데이터를 담고 있는 위치가 다르기 때문\n",
    "print(emp1.displayEmployee())\n",
    "\n",
    "print(emp(\"빅데타\", 500, 100, c = 100 )) # 클래스를 함수처럼 사용하고 싶을 때 __call__을 overriding 하면 함수처럼 사용 가능"
   ]
  },
  {
   "cell_type": "code",
   "execution_count": 42,
   "metadata": {},
   "outputs": [
    {
     "name": "stdout",
     "output_type": "stream",
     "text": [
      "7\n"
     ]
    }
   ],
   "source": [
    "# 실시간으로 변수 추가 가능!\n",
    "emp1.age = 7\n",
    "emp.age = 8\n",
    "\n",
    "print(emp1.age)"
   ]
  },
  {
   "cell_type": "code",
   "execution_count": 44,
   "metadata": {},
   "outputs": [
    {
     "name": "stdout",
     "output_type": "stream",
     "text": [
      "{'name': '김종호', 'salary': 500, 'age': 8}\n",
      "{'name': '빅데타', 'salary': 500, 'age': 7}\n"
     ]
    }
   ],
   "source": [
    "print(emp.__dict__) # object를 상속받음\n",
    "print(emp1.__dict__)"
   ]
  },
  {
   "cell_type": "code",
   "execution_count": 45,
   "metadata": {},
   "outputs": [
    {
     "name": "stdout",
     "output_type": "stream",
     "text": [
      "2\n"
     ]
    }
   ],
   "source": [
    "print(Employee.empCount)"
   ]
  },
  {
   "cell_type": "code",
   "execution_count": 46,
   "metadata": {},
   "outputs": [
    {
     "name": "stdout",
     "output_type": "stream",
     "text": [
      "['__call__', '__class__', '__delattr__', '__dict__', '__dir__', '__doc__', '__eq__', '__format__', '__ge__', '__getattribute__', '__gt__', '__hash__', '__init__', '__init_subclass__', '__le__', '__lt__', '__module__', '__ne__', '__new__', '__reduce__', '__reduce_ex__', '__repr__', '__setattr__', '__sizeof__', '__str__', '__subclasshook__', '__weakref__', 'age', 'displayCount', 'displayEmployee', 'empCount', 'name', 'salary']\n"
     ]
    }
   ],
   "source": [
    "print(dir(emp)) # emp가 갖고 있는 함수들을 나열해 줌."
   ]
  },
  {
   "cell_type": "markdown",
   "metadata": {},
   "source": [
    "### 문제\n",
    "\n",
    "- 이름과 나이를 저장하는 Student class를 생성하시오.\n",
    "- 이름과 나이를 출력하는 print 함수를 클래스 내에 정의하시오."
   ]
  },
  {
   "cell_type": "code",
   "execution_count": 53,
   "metadata": {},
   "outputs": [
    {
     "name": "stdout",
     "output_type": "stream",
     "text": [
      " 나의 이름은 이윤지\n"
     ]
    }
   ],
   "source": [
    "class Student: # 사용자 정의 데이터 타입\n",
    "    \n",
    "    \"\"\" 학생관리 \"\"\"\n",
    "    \n",
    "    def __init__(self, name, age):\n",
    "        self.full_name = name\n",
    "        self.age = age\n",
    "        \n",
    "    def print(self):\n",
    "        print(\"이름 : \", self.full_name, \", 나이 : \", self.age)\n",
    "        \n",
    "    def __repr__(self): # __str__\n",
    "        return \" 나의 이름은 \" + self.full_name\n",
    "    # def print()가 없을 경우에 print(st)하는 경우 출력될 수 있게!\n",
    "\n",
    "        \n",
    "st = Student('이윤지',24)\n",
    "st.print()"
   ]
  },
  {
   "cell_type": "code",
   "execution_count": 56,
   "metadata": {},
   "outputs": [
    {
     "name": "stdout",
     "output_type": "stream",
     "text": [
      " 나의 이름은 이윤지\n"
     ]
    }
   ],
   "source": [
    "class Student: # 사용자 정의 데이터 타입\n",
    "    \n",
    "    \"\"\" 학생관리 \"\"\"\n",
    "    \n",
    "    def __init__(self, name, age):\n",
    "        self.name = name\n",
    "        self.age = age\n",
    "\n",
    "    def __repr__(self): # __str__\n",
    "        return \" 나의 이름은 \" + self.name\n",
    "    # def print()가 없을 경우에 print(st)하는 경우 출력될 수 있게!\n",
    "\n",
    "st = Student('이윤지',24)\n",
    "print(st)"
   ]
  },
  {
   "cell_type": "code",
   "execution_count": 59,
   "metadata": {},
   "outputs": [
    {
     "name": "stdout",
     "output_type": "stream",
     "text": [
      "<class '__main__.Student'>\n"
     ]
    }
   ],
   "source": [
    "# object로부터 상속을 받았기 때문에 여러가지 속성과 함수가 존재\n",
    "# 그 중 클래스는, 인스턴스 되어진 클래스 변수가 << 어떤 클래스로부터 만들어졌는지 확인할 수 있다. >>\n",
    "\n",
    "print(st.__class__) # <class '__main__.Student'>에서부터 만들어짐."
   ]
  },
  {
   "cell_type": "code",
   "execution_count": 60,
   "metadata": {},
   "outputs": [
    {
     "name": "stdout",
     "output_type": "stream",
     "text": [
      " 나의 이름은 김종호\n"
     ]
    }
   ],
   "source": [
    "g = st.__class__(\"김종호\", 34) # 인스턴스된 변수로부터 클래스 생성\n",
    "print(g)"
   ]
  },
  {
   "cell_type": "code",
   "execution_count": 98,
   "metadata": {},
   "outputs": [],
   "source": [
    "import math\n",
    "# 1개를 다루는 클래스를 작성하고 있지만 거리값은 두 개를 이용\n",
    "\n",
    "class Point:\n",
    "    def __init__(self, x, y): # 생성자\n",
    "        self.x = x\n",
    "        self.y = y\n",
    "        \n",
    "    def __str__(self): # __repr__ : 문자열을 요구하는 함수에 들어가면\n",
    "        return \"좌표는 (%d, %d)\" %(self.x, self.y)\n",
    "    \n",
    "    def dist(self, other): # 피타고라스 정리를 수식으로 표현\n",
    "        distance = math.sqrt((self.x-other.x)**2 + (self.y-other.y)**2)\n",
    "        return distance\n",
    "    \n",
    "    def collision(self, other): # 충돌했느냐 안 했느냐\n",
    "        return self.dist(other) < 3 \n",
    "    \n",
    "    "
   ]
  },
  {
   "cell_type": "code",
   "execution_count": 99,
   "metadata": {},
   "outputs": [
    {
     "name": "stdout",
     "output_type": "stream",
     "text": [
      "좌표는 (7, 3)\n",
      "좌표는 (4, 7)\n"
     ]
    }
   ],
   "source": [
    "first = Point(7,3)\n",
    "second = Point(4,7)\n",
    "print(first)\n",
    "print(second)"
   ]
  },
  {
   "cell_type": "code",
   "execution_count": 82,
   "metadata": {},
   "outputs": [
    {
     "name": "stdout",
     "output_type": "stream",
     "text": [
      "두 점 사이의 거리는 =  5\n",
      "충돌하지 않았습니다.\n"
     ]
    }
   ],
   "source": [
    "print(\"두 점 사이의 거리는 = \", int(first.dist(second)))\n",
    "if first.collision(second):\n",
    "    print(\"충돌했습니다.\")\n",
    "else:\n",
    "    print(\"충돌하지 않았습니다.\")"
   ]
  },
  {
   "cell_type": "markdown",
   "metadata": {},
   "source": [
    "### 문제) Point 클래스를 이용하여 Circle 클래스를 정의하시오.\n",
    "- 원 : 중심점(Point)하고 반지름\n",
    "- 원과 원이 충돌하는 여부를 확인하는 함수를 작성하시오."
   ]
  },
  {
   "cell_type": "code",
   "execution_count": 88,
   "metadata": {},
   "outputs": [],
   "source": [
    "# center = Point()\n",
    "\n",
    "class circle:\n",
    "    def __init__(self, center, radius):\n",
    "        self.center = center\n",
    "        self.radius = radius\n",
    "        \n",
    "    def __repr__(self): #문자열 캐스팅\n",
    "        return \"원의 중심은 \" + str(self.center) + \" 반지름은 \" + str(self.radius)\n",
    "    \n",
    "    def collision(self, other):\n",
    "        # 내 원의 중심점과 다른 원의 중심점의 거리가 내 원의 반지름과 다른 원의 반지름 길이의 합보다 작으면 충돌.\n",
    "        if self.center.dist(other.center) < self.radius + other.radius:\n",
    "            result = \"충돌한다.\"\n",
    "        else:\n",
    "            result = \"충돌하지 않는다.\"\n",
    "        return result"
   ]
  },
  {
   "cell_type": "code",
   "execution_count": 89,
   "metadata": {},
   "outputs": [
    {
     "name": "stdout",
     "output_type": "stream",
     "text": [
      "원의 중심은 좌표는 (7, 3) 반지름은 1\n",
      "원의 중심은 좌표는 (4, 7) 반지름은 5\n"
     ]
    }
   ],
   "source": [
    "cir = circle(first, 1)\n",
    "cir2 = circle(second, 5)\n",
    "print(cir)\n",
    "print(cir2)"
   ]
  },
  {
   "cell_type": "code",
   "execution_count": 90,
   "metadata": {},
   "outputs": [
    {
     "name": "stdout",
     "output_type": "stream",
     "text": [
      "충돌한다.\n"
     ]
    },
    {
     "data": {
      "text/plain": [
       "'충돌한다.'"
      ]
     },
     "execution_count": 90,
     "metadata": {},
     "output_type": "execute_result"
    }
   ],
   "source": [
    "print(cir.collision(cir2))\n",
    "circle.collision(cir, cir2) # self"
   ]
  },
  {
   "cell_type": "markdown",
   "metadata": {},
   "source": [
    "###  << Point를 이용해서 >> 사각형 Rectangle 클래스를 작성하시오.\n",
    "\n",
    "- 사각형의 면적을 구하는 함수를 작성하시오.\n",
    "- 사각형의 둘레를 구하는 함수를 작성하시오.\n",
    "- 대각선의 길이를 구하는 함수를 작성하시오."
   ]
  },
  {
   "cell_type": "code",
   "execution_count": 100,
   "metadata": {},
   "outputs": [],
   "source": [
    "import math \n",
    "\n",
    "class rectangle():\n",
    "    def __init__(self, po1, po2): # po1 = Point() : 매핑\n",
    "        self.po1 = po1\n",
    "        self.po2 = po2\n",
    "        \n",
    "    def area(self): #면적\n",
    "        area = abs( (po1.x - po2.x) * (po1.y - po2.y) )\n",
    "        return area\n",
    "    \n",
    "    def perameter(self): #둘레\n",
    "        per = abs( ( (po1.x - po2.x)+(po1.y - po2.y) ) *2 )\n",
    "        return per\n",
    "    \n",
    "    def diagonal(self):\n",
    "        diag = math.sqrt( (po1.x - po2.x)**2 + (po1.y - po2.y)**2 )\n",
    "        return diag"
   ]
  },
  {
   "cell_type": "markdown",
   "metadata": {},
   "source": [
    "### 문제 : Vector class를 생성하시오. \n",
    "    - x, y의 2차원 벡터 구현\n",
    "    - 벡터의 연산 (+,-,*,/)는 요소별로 계산하면 됨\n",
    "    - dot 함수를 구현하시오 : 벡터의 요소별로 곱하고 모두 더하면 됨.\n",
    "    - cos 값으로 변환하는 함수를 구현하시오.\n",
    "        - cos theta = acos( A내적B/ |A||B| )\n",
    "        |A| = math.sqrt( x^2 + y^2 )"
   ]
  },
  {
   "cell_type": "code",
   "execution_count": 113,
   "metadata": {},
   "outputs": [],
   "source": [
    "# a = 10\n",
    "# b = 20\n",
    "# c = a+b\n",
    "# Vector(10,20) + Vector(30,40)\n",
    "\n",
    "class Vector:\n",
    "    def __init__(self, x, y):\n",
    "        self.x = x\n",
    "        self.y = y\n",
    "        \n",
    "    def __repr__(self):\n",
    "        return \"(좌표는 %d, %d) \" % (self.x, self.y)\n",
    "    \n",
    "    def __add__(self, other): # 연산자 오버로딩을 오버라이딩으로 구현한 값\n",
    "        return Vector(self.x + other.x, self.y + other.y)\n",
    "    \n",
    "    def __mul__(self, other):\n",
    "        return Vector(self.x * other.x, self.y * other.y)\n",
    "    \n",
    "    def __sub__(self, other):\n",
    "        return Vector(self.x - other.x, self.y - other.y)\n",
    "    \n",
    "#     def __truediv__(self, other): # div 2 점버전대에서 사용 (? 무슨 말이지)\n",
    "#         return Vector(self.x / other.x, self.y / other.y)"
   ]
  },
  {
   "cell_type": "code",
   "execution_count": 114,
   "metadata": {},
   "outputs": [
    {
     "name": "stdout",
     "output_type": "stream",
     "text": [
      "(좌표는 10, 23) \n",
      "(좌표는 20, 27) \n",
      "(좌표는 30, 50) \n",
      "(좌표는 -10, -4) \n",
      "(좌표는 200, 621) \n",
      "(좌표는 0, 0) \n"
     ]
    }
   ],
   "source": [
    "f = Vector(10, 23)\n",
    "g = Vector(20,27)\n",
    "print(f)\n",
    "print(g)\n",
    "print(f + g)\n",
    "print(f - g)\n",
    "print(f * g)\n",
    "#print(f / g)"
   ]
  },
  {
   "cell_type": "code",
   "execution_count": 127,
   "metadata": {},
   "outputs": [],
   "source": [
    "# 3차원 벡터를 클래스로 구현하시오. (연산자 오버로딩 +,-,*,/)\n",
    "\n",
    "class Vector:\n",
    "    def __init__(self, x, y, z):\n",
    "        self.x = x\n",
    "        self.y = y\n",
    "        self.z = z\n",
    "        \n",
    "    def __repr(self):\n",
    "        return \" (좌표는 %d, %d, %d)\" %(self.x, self.y, self.z)\n",
    "    \n",
    "    def __add__(self, other): # 연산자 오버로딩을 오버라이딩으로 구현한 값\n",
    "        return Vector(self.x + other.x, self.y + other.y, self.z + other.z)\n",
    "    \n",
    "    def __mul__(self, other):\n",
    "        return Vector(self.x * other.x , self.y * other.y, self.z * other.z)\n",
    "    \n",
    "    def __sub__(self, other):\n",
    "        return Vector(self.x - other.x, self.y - other.y, self.z - other.z)\n",
    "    \n",
    "    def dist(self):\n",
    "        return math.sqrt(self.x*self.x + self.y*self.y + self.z*self.z)\n",
    "    \n",
    "    #방향만 바뀌어야지 크기까지 바뀌면 안됨\n",
    "    def norm(self): # 정규화(normalization) : 크기 값이 1인 사이즈로 변경( 반지름이 1인 ..)\n",
    "        dist = self.dist()\n",
    "        return self.x / dist, self.y/dist, self.z/dist\n",
    "    \n",
    "    def dot(self, other):\n",
    "        return (self.x*other.x + self.y*other.y + self.z*self.z)\n",
    "    \n",
    "    def theta(self, other):\n",
    "        dot = self.dot(other)\n",
    "        dist1 = self.dist()\n",
    "        dist2 = other.dist() # radiant => degree로 변경 (컴퓨터는 라디안만 사용)\n",
    "        return math.acos(dot/(dist1*dist2)) * (180/math.pi) #라디안 => 디그리로 변경\n",
    "    \n",
    "# 변환과정이 필요 => 사람이 사용하는 각도 입력 => 라디안 변환 (math.pi/180)\n",
    "# => 계산 후 => 사람이 사용하는 degree로 변환해서 출력 (180/math.pi)"
   ]
  },
  {
   "cell_type": "code",
   "execution_count": 129,
   "metadata": {},
   "outputs": [
    {
     "name": "stdout",
     "output_type": "stream",
     "text": [
      "<__main__.Vector object at 0x0000021D5A552A08>\n",
      "<__main__.Vector object at 0x0000021D5A55C988>\n",
      "<__main__.Vector object at 0x0000021D5A55C908>\n",
      "<__main__.Vector object at 0x0000021D5A55C388>\n",
      "<__main__.Vector object at 0x0000021D5A55C908>\n",
      "f벡터의 크기 =  5.385164807134504\n",
      "g벡터의 크기 =  10.488088481701515\n",
      "f의 normal vector =  (0.3713906763541037, 0.5570860145311556, 0.7427813527082074)\n",
      "f의 normal vector =  10.488088481701515\n",
      "두 벡터의 내적 =  77\n",
      "f와 g의 사이각은 =  38.827634513550116\n"
     ]
    }
   ],
   "source": [
    "f = Vector(2,3,4)\n",
    "g = Vector(5,6,7)\n",
    "print(f)\n",
    "print(g)\n",
    "print(f+g)\n",
    "print(f-g)\n",
    "print(f*g)\n",
    "print(\"f벡터의 크기 = \", f.dist())\n",
    "print(\"g벡터의 크기 = \", g.dist())\n",
    "print(\"f의 normal vector = \", f.norm())\n",
    "print(\"f의 normal vector = \", g.dist())\n",
    "print(\"두 벡터의 내적 = \", g.dot(f))\n",
    "print(\"f와 g의 사이각은 = \", f.theta(g))"
   ]
  },
  {
   "cell_type": "code",
   "execution_count": 133,
   "metadata": {},
   "outputs": [
    {
     "name": "stdout",
     "output_type": "stream",
     "text": [
      "a= [1, 2, 3]\n",
      "x :  [[1, 2, 3], [4, 5, [1, 2, 3]], 100]\n",
      "y :  [[1, 2, 3], [4, 5, [1, 2, 3]], 100]\n",
      "t :  [[1, 2, 3], [4, 5, [1, 2, 3]], 100]\n",
      "e :  [[1, 2, 3], [4, 5, [1, 2, 3]], 100]\n",
      "\n",
      "x :  [[1, 2, 3, 100], [4, 5, [1, 2, 3, 100]], 100]\n",
      "y :  [[1, 2, 3, 100], [4, 5, [1, 2, 3, 100]], 100]\n",
      "t :  [[1, 2, 3], [4, 5, [1, 2, 3]], 100]\n",
      "e :  [[1, 2, 3], [4, 5, [1, 2, 3]], 100]\n"
     ]
    }
   ],
   "source": [
    "# deep copy와 copy의 차이\n",
    "\n",
    "import copy\n",
    "a = [1,2,3]\n",
    "b = [4,5,a] # 주소\n",
    "x = [a,b,100]\n",
    "y = copy.copy(x) # 주소 복사\n",
    "t = copy.deepcopy(x) # 원래의 요소를 별도의 공간에 복사한 다음 주소를 전달\n",
    "e = copy.deepcopy(y)\n",
    "print(\"a=\",a)\n",
    "print(\"x : \", x)\n",
    "print(\"y : \", y)\n",
    "print(\"t : \", t)\n",
    "print(\"e : \", e)\n",
    "a.append(100)\n",
    "print()\n",
    "print(\"x : \",x)\n",
    "print(\"y : \",y)\n",
    "print(\"t : \", t)\n",
    "print(\"e : \", e)"
   ]
  },
  {
   "cell_type": "markdown",
   "metadata": {},
   "source": [
    "### 이름, 국어, 수학, 영어를 관리하는 student class를 작성하시오. (1인분 관리)\n",
    "    \n",
    "    - 총점과 평균도 계산해서 멤버 변수에 저장\n"
   ]
  },
  {
   "cell_type": "code",
   "execution_count": 9,
   "metadata": {},
   "outputs": [],
   "source": [
    "class student():\n",
    "    sCount = 0 # 학생수 저장\n",
    "    def __init__(self, name, kor, math, eng):\n",
    "        self.name = name\n",
    "        self.kor = int(kor)\n",
    "        self.math = int(math)\n",
    "        self.eng = int(eng)\n",
    "\n",
    "        self.total = self.kor + self.math + self.eng\n",
    "        self.avg = self.total / 3\n",
    "        \n",
    "        self.sCount += 1"
   ]
  },
  {
   "cell_type": "code",
   "execution_count": 11,
   "metadata": {},
   "outputs": [
    {
     "name": "stdout",
     "output_type": "stream",
     "text": [
      "1. 입력  2.출력  3.계산  4.종료 =>1\n",
      "이름 : df\n",
      "국어 점수 : 32\n",
      "수학 점수 : 61\n",
      "영어 점수 : 5\n",
      "1. 입력  2.출력  3.계산  4.종료 =>2\n",
      "이름:df  국어:32  영어:5  수학:61  총점:98  평균:32.666666666666664\n",
      "1. 입력  2.출력  3.계산  4.종료 =>3\n",
      "총 학생수 : 1명 \n",
      "국어평균: 32.0\t\t영어평균: 61.0\t\t수학평균: 5.0\t\t\n",
      "1. 입력  2.출력  3.계산  4.종료 =>1\n",
      "이름 : df\n",
      "국어 점수 : 34\n",
      "수학 점수 : 64\n",
      "영어 점수 : 86\n",
      "1. 입력  2.출력  3.계산  4.종료 =>3\n",
      "총 학생수 : 2명 \n",
      "국어평균: 33.0\t\t영어평균: 62.5\t\t수학평균: 45.5\t\t\n",
      "1. 입력  2.출력  3.계산  4.종료 =>4\n"
     ]
    }
   ],
   "source": [
    "# 메뉴화\n",
    "def start():\n",
    "    students = []\n",
    "    while True:\n",
    "        choice = input(\"1. 입력  2.출력  3.계산  4.종료 =>\")\n",
    "        if choice == '1':\n",
    "            name = input(\"이름 : \")\n",
    "            kor = int(input(\"국어 점수 : \"))\n",
    "            math = int(input(\"수학 점수 : \"))\n",
    "            eng = int(input(\"영어 점수 : \"))\n",
    "            stud = student(name, kor, math, eng)\n",
    "            students.append(stud)\n",
    "        \n",
    "        elif choice == '2':\n",
    "            for s in students:\n",
    "                print(\"이름:%s  국어:%s  영어:%s  수학:%s  총점:%s  평균:%s\" %(s.name, s.kor, s.eng, s.math, s.total, s.avg))\n",
    "        \n",
    "        elif choice == '3': # 반평균\n",
    "            t_kor = 0\n",
    "            t_math = 0\n",
    "            t_eng = 0\n",
    "            for s in students:\n",
    "                t_kor += s.kor\n",
    "                t_math += s.math\n",
    "                t_eng += s.eng\n",
    "                \n",
    "            kor_avg = round(t_kor / len(students), 2)\n",
    "            math_avg = round(t_math / len(students),2)\n",
    "            eng_avg = round(t_eng / len(students),2)\n",
    "            print(\"총 학생수 : %s명 \" % len(students) )\n",
    "            print(\"국어평균: %s\\t\\t영어평균: %s\\t\\t수학평균: %s\\t\\t\" % (kor_avg, math_avg, eng_avg))\n",
    "        \n",
    "        elif choice == '4':\n",
    "            break\n",
    "            \n",
    "start()"
   ]
  },
  {
   "cell_type": "markdown",
   "metadata": {},
   "source": [
    "# 2개로 분리된 class\n",
    "    - 기본적인 데이터를 저장하는 클래스\n",
    "    - Management (입력, 출력, 검색, 수정 등)\n",
    "    - 메뉴함수"
   ]
  },
  {
   "cell_type": "code",
   "execution_count": 12,
   "metadata": {},
   "outputs": [],
   "source": [
    "import sys\n",
    "\n",
    "class Student:\n",
    "    def __init__(self):\n",
    "        self.bunho = 0\n",
    "        self.name=''\n",
    "        self.kor = 0\n",
    "        self.mat = 0\n",
    "        self.eng = 0\n",
    "        self.total = 0\n",
    "        self.average = 0\n",
    "        self.grade =\"\"\n",
    "        \n",
    "    def inputData(self):\n",
    "        self.name = input(\"이름을 입력하세요 : \")\n",
    "        self.kor = eval(input(\"국어 점수 : \"))\n",
    "        self.mat = eval(input(\"수학 점수 : \"))\n",
    "        self.eng = eval(input(\"영어 점수 : \"))\n",
    "        \n",
    "    def calc_total_average(self): # 수정도 염두에 두어서 별도의 함수화\n",
    "        self.total = self.kor + self.mat + self.eng\n",
    "        self.average = round( self.total / 3, 2)\n",
    "        self.grade = self.calcSemGrade()\n",
    "        \n",
    "    def calcSemGrade(self):\n",
    "        if self.average >= 90: return \"A\"\n",
    "        elif self.average >= 80 : return \"B\"\n",
    "        elif self.average >= 70 : return \"C\"\n",
    "        elif self.average >= 60 : return \"D\"\n",
    "        else:                     return \"F\"\n",
    "        \n",
    "    def __str__(self): #문자열로만 \n",
    "        return '%5s  %5s  %6.2f  %6.2f  %6.2f  %7.2f  %7.2f  %5s' % (self.bunho, self.name, self.kor, self.mat, self.eng,\n",
    "                                                                    self.total, self.average, self.grade)\n",
    "    \n",
    "    def __cmp__(self, other): # compare : true/false로 결과 값을 리턴\n",
    "        return self.name == other.name"
   ]
  },
  {
   "cell_type": "code",
   "execution_count": 15,
   "metadata": {},
   "outputs": [],
   "source": [
    "class Management:\n",
    "    schoolname = \"제주 아카데미\"\n",
    "    bunho = 0\n",
    "    \n",
    "    def __init__(self, count):\n",
    "        print(\"메뉴를 선택하세요\")\n",
    "        self.sungjuk = []\n",
    "        self.count = count\n",
    "        \n",
    "    def input(self):\n",
    "        for co_in in range(self.count):\n",
    "            stu = Student()\n",
    "            stu.inputData()\n",
    "            Management.bunho += 1 # 번호를 자동으로 입력하기 위함\n",
    "            stu.bunho = Management.bunho\n",
    "            self.sungjuk.append(stu)\n",
    "            \n",
    "    def print_sungjuk(self):\n",
    "        for per in self.sungjuk:\n",
    "            print(per)\n",
    "            print()\n",
    "            \n",
    "    def calc_sungjuk(self):\n",
    "        for per in self.sungjuk:\n",
    "            per.calc_total_average()\n",
    "            \n",
    "    def search_name(self):\n",
    "        name = input(\"검색할 학생 이름을 입력하세요.\")\n",
    "        for per in self.sungjuk:\n",
    "            if (per.name == name):\n",
    "                print(per)\n",
    "                return\n",
    "        print(\"검색하고자 하는 학생이 없습니다.\")\n",
    "        return\n",
    "    \n",
    "    def modify_name(self):\n",
    "        name = input(\"수정할 학생 이름을 입력하세요.\")\n",
    "        for per in self.sungjuk:\n",
    "            if (per.name == name):\n",
    "                name = input(\"바꿀 이름을 입력하세요. \")\n",
    "                per.name = name\n",
    "                return\n",
    "    \n",
    "    def delete_name(self):\n",
    "        name = input(\"삭제할 학생 이름을 입력하세요. :\")\n",
    "        for per in self.sungjuk:\n",
    "            if (per.name == name):\n",
    "                self.sungjuk.remove(per)\n",
    "                return\n",
    "    \n",
    "    def sort_tot(self):\n",
    "        sorted(key=self.total, reverse=True)\n",
    "        return"
   ]
  },
  {
   "cell_type": "code",
   "execution_count": 16,
   "metadata": {},
   "outputs": [
    {
     "name": "stdout",
     "output_type": "stream",
     "text": [
      "메뉴를 선택하세요\n",
      "['입력(1), 출력(2), 계산(3), 검색(4), 이름수정(5), 이름삭제(6), 정렬(7), 종료(8)']1\n",
      "이름을 입력하세요 : 이윤지\n",
      "국어 점수 : 94\n",
      "수학 점수 : 65\n",
      "영어 점수 : 21\n",
      "이름을 입력하세요 : 이소정\n",
      "국어 점수 : 84\n",
      "수학 점수 : 95\n",
      "영어 점수 : 32\n",
      "['입력(1), 출력(2), 계산(3), 검색(4), 이름수정(5), 이름삭제(6), 정렬(7), 종료(8)']2\n",
      "제주 아카데미 성적 계산표\n",
      "   번호     이름      국어      수학      영어       총점       평균     학점\n",
      "    1    이윤지   94.00   65.00   21.00     0.00     0.00       \n",
      "\n",
      "    2    이소정   84.00   95.00   32.00     0.00     0.00       \n",
      "\n",
      "['입력(1), 출력(2), 계산(3), 검색(4), 이름수정(5), 이름삭제(6), 정렬(7), 종료(8)']3\n",
      "계산이 완료되었습니다. - 확인하려면 출력해 보세요.\n",
      "['입력(1), 출력(2), 계산(3), 검색(4), 이름수정(5), 이름삭제(6), 정렬(7), 종료(8)']2\n",
      "제주 아카데미 성적 계산표\n",
      "   번호     이름      국어      수학      영어       총점       평균     학점\n",
      "    1    이윤지   94.00   65.00   21.00   180.00    60.00      D\n",
      "\n",
      "    2    이소정   84.00   95.00   32.00   211.00    70.33      C\n",
      "\n",
      "['입력(1), 출력(2), 계산(3), 검색(4), 이름수정(5), 이름삭제(6), 정렬(7), 종료(8)']7\n",
      "총점을 기준으로 내리차순 정렬됩니다.\n"
     ]
    },
    {
     "ename": "AttributeError",
     "evalue": "'Management' object has no attribute 'total'",
     "output_type": "error",
     "traceback": [
      "\u001b[1;31m---------------------------------------------------------------------------\u001b[0m",
      "\u001b[1;31mAttributeError\u001b[0m                            Traceback (most recent call last)",
      "\u001b[1;32m<ipython-input-16-f85efbad99b1>\u001b[0m in \u001b[0;36m<module>\u001b[1;34m\u001b[0m\n\u001b[0;32m     29\u001b[0m     \u001b[1;32melif\u001b[0m \u001b[0msel\u001b[0m \u001b[1;33m==\u001b[0m \u001b[1;34m\"7\"\u001b[0m\u001b[1;33m:\u001b[0m\u001b[1;33m\u001b[0m\u001b[1;33m\u001b[0m\u001b[0m\n\u001b[0;32m     30\u001b[0m         \u001b[0mprint\u001b[0m\u001b[1;33m(\u001b[0m\u001b[1;34m\"총점을 기준으로 내리차순 정렬됩니다.\"\u001b[0m\u001b[1;33m)\u001b[0m\u001b[1;33m\u001b[0m\u001b[1;33m\u001b[0m\u001b[0m\n\u001b[1;32m---> 31\u001b[1;33m         \u001b[0mman_sung\u001b[0m\u001b[1;33m.\u001b[0m\u001b[0msort_tot\u001b[0m\u001b[1;33m(\u001b[0m\u001b[1;33m)\u001b[0m\u001b[1;33m\u001b[0m\u001b[1;33m\u001b[0m\u001b[0m\n\u001b[0m\u001b[0;32m     32\u001b[0m         \u001b[1;32mcontinue\u001b[0m\u001b[1;33m\u001b[0m\u001b[1;33m\u001b[0m\u001b[0m\n\u001b[0;32m     33\u001b[0m     \u001b[1;32melif\u001b[0m \u001b[0msel\u001b[0m \u001b[1;33m==\u001b[0m \u001b[1;34m\"8\"\u001b[0m\u001b[1;33m:\u001b[0m\u001b[1;33m\u001b[0m\u001b[1;33m\u001b[0m\u001b[0m\n",
      "\u001b[1;32m<ipython-input-15-1d7249dc7a0e>\u001b[0m in \u001b[0;36msort_tot\u001b[1;34m(self)\u001b[0m\n\u001b[0;32m     50\u001b[0m \u001b[1;33m\u001b[0m\u001b[0m\n\u001b[0;32m     51\u001b[0m     \u001b[1;32mdef\u001b[0m \u001b[0msort_tot\u001b[0m\u001b[1;33m(\u001b[0m\u001b[0mself\u001b[0m\u001b[1;33m)\u001b[0m\u001b[1;33m:\u001b[0m\u001b[1;33m\u001b[0m\u001b[1;33m\u001b[0m\u001b[0m\n\u001b[1;32m---> 52\u001b[1;33m             \u001b[0mself\u001b[0m\u001b[1;33m.\u001b[0m\u001b[0msungjuk\u001b[0m\u001b[1;33m.\u001b[0m\u001b[0msort\u001b[0m\u001b[1;33m(\u001b[0m\u001b[0mkey\u001b[0m\u001b[1;33m=\u001b[0m\u001b[0mself\u001b[0m\u001b[1;33m.\u001b[0m\u001b[0mtotal\u001b[0m\u001b[1;33m,\u001b[0m \u001b[0mreverse\u001b[0m\u001b[1;33m=\u001b[0m\u001b[1;32mTrue\u001b[0m\u001b[1;33m)\u001b[0m\u001b[1;33m\u001b[0m\u001b[1;33m\u001b[0m\u001b[0m\n\u001b[0m\u001b[0;32m     53\u001b[0m             \u001b[1;32mreturn\u001b[0m\u001b[1;33m\u001b[0m\u001b[1;33m\u001b[0m\u001b[0m\n",
      "\u001b[1;31mAttributeError\u001b[0m: 'Management' object has no attribute 'total'"
     ]
    }
   ],
   "source": [
    "sj = [\"번호\",\"이름\",\"국어\",\"수학\",\"영어\",\"총점\",\"평균\",\"학점\"]\n",
    "\n",
    "menu = [\"입력(1), 출력(2), 계산(3), 검색(4), 이름수정(5), 이름삭제(6), 정렬(7), 종료(8)\"]\n",
    "man_sung = Management(2)\n",
    "\n",
    "while 1:\n",
    "    sel = input(menu)\n",
    "    if sel == \"1\":\n",
    "        man_sung.input()\n",
    "        continue\n",
    "    elif sel == \"2\":\n",
    "        print(Management.schoolname + \" 성적 계산표\")\n",
    "        print('%5s  %5s  %6s  %6s  %6s  %7s  %7s  %5s' % ('번호','이름','국어','수학','영어','총점','평균','학점'))\n",
    "        man_sung.print_sungjuk()\n",
    "        continue\n",
    "    elif sel == \"3\":\n",
    "        man_sung.calc_sungjuk()\n",
    "        print(\"계산이 완료되었습니다. - 확인하려면 출력해 보세요.\")\n",
    "        continue\n",
    "    elif sel == \"4\":\n",
    "        man_sung.search_name()\n",
    "        continue\n",
    "    elif sel == \"5\":\n",
    "        man_sung.modify_name()\n",
    "        continue\n",
    "    elif sel == \"6\":\n",
    "        man_sung.delete_name()\n",
    "        continue\n",
    "    elif sel == \"7\":\n",
    "        print(\"총점을 기준으로 내리차순 정렬됩니다.\")\n",
    "        man_sung.sort_tot()\n",
    "        continue\n",
    "    elif sel == \"8\":\n",
    "        break\n",
    "    else:\n",
    "        print(\"잘못된 입력입니다. 다시 입력하십시오.\")\n",
    "        continue"
   ]
  },
  {
   "cell_type": "code",
   "execution_count": null,
   "metadata": {},
   "outputs": [],
   "source": []
  },
  {
   "cell_type": "code",
   "execution_count": null,
   "metadata": {},
   "outputs": [],
   "source": []
  },
  {
   "cell_type": "code",
   "execution_count": null,
   "metadata": {},
   "outputs": [],
   "source": []
  },
  {
   "cell_type": "code",
   "execution_count": null,
   "metadata": {},
   "outputs": [],
   "source": []
  },
  {
   "cell_type": "code",
   "execution_count": null,
   "metadata": {},
   "outputs": [],
   "source": []
  },
  {
   "cell_type": "code",
   "execution_count": null,
   "metadata": {},
   "outputs": [],
   "source": []
  },
  {
   "cell_type": "code",
   "execution_count": null,
   "metadata": {},
   "outputs": [],
   "source": []
  },
  {
   "cell_type": "code",
   "execution_count": null,
   "metadata": {},
   "outputs": [],
   "source": []
  },
  {
   "cell_type": "code",
   "execution_count": null,
   "metadata": {},
   "outputs": [],
   "source": []
  },
  {
   "cell_type": "code",
   "execution_count": null,
   "metadata": {},
   "outputs": [],
   "source": []
  },
  {
   "cell_type": "code",
   "execution_count": null,
   "metadata": {},
   "outputs": [],
   "source": []
  },
  {
   "cell_type": "code",
   "execution_count": null,
   "metadata": {},
   "outputs": [],
   "source": []
  },
  {
   "cell_type": "code",
   "execution_count": null,
   "metadata": {},
   "outputs": [],
   "source": []
  },
  {
   "cell_type": "code",
   "execution_count": null,
   "metadata": {},
   "outputs": [],
   "source": []
  },
  {
   "cell_type": "code",
   "execution_count": null,
   "metadata": {},
   "outputs": [],
   "source": []
  },
  {
   "cell_type": "code",
   "execution_count": null,
   "metadata": {},
   "outputs": [],
   "source": []
  }
 ],
 "metadata": {
  "kernelspec": {
   "display_name": "Python 3",
   "language": "python",
   "name": "python3"
  },
  "language_info": {
   "codemirror_mode": {
    "name": "ipython",
    "version": 3
   },
   "file_extension": ".py",
   "mimetype": "text/x-python",
   "name": "python",
   "nbconvert_exporter": "python",
   "pygments_lexer": "ipython3",
   "version": "3.7.4"
  }
 },
 "nbformat": 4,
 "nbformat_minor": 2
}
